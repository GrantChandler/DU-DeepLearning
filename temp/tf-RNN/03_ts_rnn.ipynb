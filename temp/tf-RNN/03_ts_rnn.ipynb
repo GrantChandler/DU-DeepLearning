{
 "cells": [
  {
   "attachments": {},
   "cell_type": "markdown",
   "metadata": {
    "id": "XVhK72Pu1cJL"
   },
   "source": [
    "#### Imports and Setup"
   ]
  },
  {
   "cell_type": "code",
   "execution_count": null,
   "metadata": {
    "execution": {
     "iopub.execute_input": "2022-12-14T02:53:20.699018Z",
     "iopub.status.busy": "2022-12-14T02:53:20.698277Z",
     "iopub.status.idle": "2022-12-14T02:53:23.285398Z",
     "shell.execute_reply": "2022-12-14T02:53:23.284632Z"
    },
    "id": "7rZnJaGTWQw0"
   },
   "outputs": [],
   "source": [
    "import tensorflow as tf\n",
    "from tensorflow import keras\n",
    "from keras.callbacks  import EarlyStopping\n",
    "from keras.models import Sequential\n",
    "from keras.layers import Lambda, SimpleRNN, Dense\n",
    "\n",
    "import IPython, IPython.display, os, datetime\n",
    "import matplotlib as mpl\n",
    "import matplotlib.pyplot as plt\n",
    "import numpy as np\n",
    "import pandas as pd\n",
    "import ts_utils\n",
    "\n",
    "mpl.rcParams['figure.figsize'] = (14, 4)\n",
    "mpl.rcParams['axes.grid'] = True"
   ]
  },
  {
   "cell_type": "code",
   "execution_count": null,
   "metadata": {},
   "outputs": [],
   "source": [
    "# Read the data\n",
    "df, df_scaled_trn, df_scaled_tst, scaler = ts_utils.load_file()\n",
    "print(\"Training Data:\")\n",
    "display(df_scaled_trn)\n",
    "\n",
    "input_slice  = slice(0,3)\n",
    "label_slice  = slice(1,3)\n",
    "window_len   = 3\n",
    "ouput_len    = 3\n",
    "batch_size   = 5\n",
    "\n",
    "feat_op_len  = label_slice.stop - (label_slice.start or 0)\n",
    "model_op_len = feat_op_len * ouput_len\n",
    "\n",
    "ds_trn = tf.data.Dataset.from_tensor_slices(df_scaled_trn[df_scaled_trn.columns[input_slice]])\n",
    "ds_tst = tf.data.Dataset.from_tensor_slices(df_scaled_tst[df_scaled_trn.columns[input_slice]])\n",
    "window_trn = ts_utils.window(ds_trn, window_len, ouput_len, label_slice, batch_size=batch_size, skip=1)\n",
    "window_tst = ts_utils.window(ds_tst, window_len, ouput_len, label_slice, batch_size=batch_size, skip=1)\n",
    "\n",
    "#print(\"\\n\\nSample Window to verify the window is working:\\n\")\n",
    "#for w in window_trn.take(3):\n",
    "#    print(f\"{w[0].numpy().shape}\\n{w[0].numpy()}\\n=>:{w[1].numpy().shape}\\n{w[1].numpy()} \\n\")\n"
   ]
  },
  {
   "cell_type": "code",
   "execution_count": null,
   "metadata": {},
   "outputs": [],
   "source": [
    "'''\n",
    "    yh: [batch, time, features length]\n",
    "'''\n",
    "def inv_transform(yh, scaler, label_slice):\n",
    "    yy=np.zeros([yh.shape[0], yh.shape[1], scaler.n_features_in_])\n",
    "    yy[:, :, label_slice] = yh[0]\n",
    "    ys = []\n",
    "    for i in range(yh.shape[0]):\n",
    "        yi = scaler.inverse_transform(yy[i])\n",
    "        ys.append(yi[:, label_slice])\n",
    "    return np.stack(ys)\n",
    "    \n",
    "#inv_transform(yh, scaler, label_slice)\n",
    "\n",
    "def predict(model, window_trn, n=1):\n",
    "    for w in window_trn.take(n):\n",
    "        x = w[0]\n",
    "        yh = model.predict(x)\n",
    "        print(x.shape, x, \"\\n\\n\", yh, yh.shape)\n"
   ]
  },
  {
   "cell_type": "code",
   "execution_count": null,
   "metadata": {},
   "outputs": [],
   "source": [
    "def compile_fit(model, window_trn, window_tst= None, opt=None, patience=3, epochs=1):\n",
    "    early_stop = EarlyStopping(monitor='val_loss', patience=patience, mode='min')\n",
    "\n",
    "    loss = tf.keras.losses.MeanSquaredError()\n",
    "    opt  = opt or tf.keras.optimizers.Adam()\n",
    "    mets = [tf.keras.metrics.MeanAbsoluteError()]\n",
    "\n",
    "    ##=> Other options you can try\n",
    "    #learning_rate = 1e-6\n",
    "    #opt = tf.keras.optimizers.SGD(learning_rate=learning_rate, momentum=0.9)\n",
    "    #opt = tf.keras.optimizers.SGD()\n",
    "    #loss=tf.keras.losses.Huber()\n",
    "\n",
    "    model.compile(loss= loss, optimizer= opt, metrics=mets)\n",
    "\n",
    "    history = []\n",
    "    if (window_trn is not None):\n",
    "        history = model.fit(window_trn, epochs=epochs, validation_data=window_tst, callbacks=[early_stop])\n",
    "\n",
    "    return model, history\n",
    "\n",
    "performance = {}"
   ]
  },
  {
   "cell_type": "code",
   "execution_count": null,
   "metadata": {},
   "outputs": [],
   "source": [
    "srnn_model = tf.keras.models.Sequential([\n",
    "    tf.keras.layers.SimpleRNN(40),\n",
    "    tf.keras.layers.Dense(model_op_len),\n",
    "    tf.keras.layers.Reshape([ouput_len, feat_op_len])\n",
    "], name=\"SimpleRNN\")\n",
    "\n",
    "for opt in \"sgd adam\".split():\n",
    "    model, history = compile_fit(srnn_model, window_trn, window_tst, epochs=1, opt=opt )\n",
    "    performance[srnn_model.name + f\":{opt}\"] = ts_utils.eval_performance(srnn_model, window_trn, window_tst)\n"
   ]
  },
  {
   "cell_type": "code",
   "execution_count": null,
   "metadata": {},
   "outputs": [],
   "source": [
    "# Finally plot the performance of the models\n",
    "import ts_utils\n",
    "performance = ts_utils.plot_performance([], window_trn, window_tst, performance=performance)\n",
    "#print(performance)"
   ]
  },
  {
   "cell_type": "code",
   "execution_count": null,
   "metadata": {},
   "outputs": [],
   "source": [
    "history.history, performance"
   ]
  }
 ],
 "metadata": {
  "accelerator": "GPU",
  "colab": {
   "collapsed_sections": [],
   "name": "time_series.ipynb",
   "toc_visible": true
  },
  "kernelspec": {
   "display_name": "py39",
   "language": "python",
   "name": "python3"
  },
  "language_info": {
   "codemirror_mode": {
    "name": "ipython",
    "version": 3
   },
   "file_extension": ".py",
   "mimetype": "text/x-python",
   "name": "python",
   "nbconvert_exporter": "python",
   "pygments_lexer": "ipython3",
   "version": "3.8.3"
  },
  "vscode": {
   "interpreter": {
    "hash": "dff0aaeeb8ee9738611fdcb903e0426fbcf38bc2d039ac205716a81cc1909598"
   }
  }
 },
 "nbformat": 4,
 "nbformat_minor": 0
}
