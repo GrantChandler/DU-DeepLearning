{
 "cells": [
  {
   "attachments": {},
   "cell_type": "markdown",
   "metadata": {
    "id": "XVhK72Pu1cJL"
   },
   "source": [
    "## Imports and Setup - Data prep"
   ]
  },
  {
   "cell_type": "code",
   "execution_count": null,
   "metadata": {
    "execution": {
     "iopub.execute_input": "2022-12-14T02:53:20.699018Z",
     "iopub.status.busy": "2022-12-14T02:53:20.698277Z",
     "iopub.status.idle": "2022-12-14T02:53:23.285398Z",
     "shell.execute_reply": "2022-12-14T02:53:23.284632Z"
    },
    "id": "7rZnJaGTWQw0"
   },
   "outputs": [],
   "source": [
    "import tensorflow as tf\n",
    "from tensorflow import keras\n",
    "import IPython, IPython.display, os, datetime\n",
    "import matplotlib as mpl\n",
    "import matplotlib.pyplot as plt\n",
    "import numpy as np\n",
    "import pandas as pd\n",
    "\n",
    "mpl.rcParams['figure.figsize'] = (14, 4)\n",
    "mpl.rcParams['axes.grid'] = True"
   ]
  },
  {
   "cell_type": "code",
   "execution_count": null,
   "metadata": {},
   "outputs": [],
   "source": [
    "# Lets prepare the data and save it away\n",
    "# You may consider doing preparation during the training once you get the statistics about the data\n",
    "# But we will just do it here.\n",
    "\n",
    "# Note you can read the zip file directly in pandas\n",
    "\n",
    "file = '../data/jena_climate_2009_2016.csv.zip'\n",
    "df = pd.read_csv(file)\n",
    "df['Date Time'] = pd.to_datetime( df['Date Time'], format='%d.%m.%Y %H:%M:%S' )\n",
    "print(\"Data Collected every 10 minutes\")\n",
    "display(df)"
   ]
  },
  {
   "cell_type": "code",
   "execution_count": null,
   "metadata": {
    "execution": {
     "iopub.execute_input": "2022-12-14T02:53:24.646090Z",
     "iopub.status.busy": "2022-12-14T02:53:24.645523Z",
     "iopub.status.idle": "2022-12-14T02:53:26.675757Z",
     "shell.execute_reply": "2022-12-14T02:53:26.675127Z"
    },
    "id": "Vg5XIc5tfNlG"
   },
   "outputs": [],
   "source": [
    "colors = \"b g r c m y k \".split()\n",
    "plt.figure(figsize=(20, 20) )\n",
    "for i in range(1,len(df.columns)):\n",
    "    plt.subplot(5, 3, i)\n",
    "    col = df.columns[i]\n",
    "    plt.plot(df['Date Time'], df[col], color=colors[i%len(colors)])\n",
    "    plt.title(col)"
   ]
  },
  {
   "cell_type": "code",
   "execution_count": null,
   "metadata": {
    "execution": {
     "iopub.execute_input": "2022-12-14T02:53:26.680075Z",
     "iopub.status.busy": "2022-12-14T02:53:26.679397Z",
     "iopub.status.idle": "2022-12-14T02:53:26.753403Z",
     "shell.execute_reply": "2022-12-14T02:53:26.752677Z"
    },
    "id": "h510pgKVrrai"
   },
   "outputs": [],
   "source": [
    "df.describe().transpose()"
   ]
  },
  {
   "cell_type": "code",
   "execution_count": null,
   "metadata": {},
   "outputs": [],
   "source": [
    "# Fix Wind velocity that shows up as-9999 - lets set its minimum to 0\n",
    "# Check to make sure it is fixed\n",
    "\n",
    "df.loc[df['wv (m/s)'] < 0, 'wv (m/s)'] = 0\n",
    "df.loc[df['max. wv (m/s)'] < 0, 'max. wv (m/s)'] = 0\n",
    "df.describe().transpose()"
   ]
  },
  {
   "cell_type": "code",
   "execution_count": null,
   "metadata": {},
   "outputs": [],
   "source": [
    "colors = \"b g r c m y k \".split()\n",
    "plt.figure(figsize=(20, 20) )\n",
    "for i in range(1,len(df.columns)):\n",
    "    plt.subplot(5, 3, i)\n",
    "    col = df.columns[i]\n",
    "    plt.plot(df['Date Time'], df[col], color=colors[i%len(colors)])\n",
    "    plt.title(col)"
   ]
  },
  {
   "cell_type": "code",
   "execution_count": null,
   "metadata": {},
   "outputs": [],
   "source": [
    "df = df[5::6]      # Lets takes hourly data - th data is i minutes, every 6th entry corresponds to hour\n",
    "df"
   ]
  },
  {
   "attachments": {},
   "cell_type": "markdown",
   "metadata": {
    "id": "vtmu2IBPgPG8"
   },
   "source": [
    "### Add features\n"
   ]
  },
  {
   "cell_type": "code",
   "execution_count": null,
   "metadata": {
    "execution": {
     "iopub.execute_input": "2022-12-14T02:53:27.253303Z",
     "iopub.status.busy": "2022-12-14T02:53:27.252777Z",
     "iopub.status.idle": "2022-12-14T02:53:27.517513Z",
     "shell.execute_reply": "2022-12-14T02:53:27.516681Z"
    },
    "id": "LIFf-VjMfnh3"
   },
   "outputs": [],
   "source": [
    "# Time column in and of itself is not so useful \n",
    "# the time that that indicates week day or weekend tells you more about the traffic\n",
    "# A time that tells day or night can give more info on the temperature\n",
    "\n",
    "timestamp_s = df['Date Time'].map(pd.Timestamp.timestamp)\n",
    "\n",
    "day = 24*60*60\n",
    "year = (365.2425)*day\n",
    "\n",
    "df['Day sin'] = np.sin(timestamp_s * (2 * np.pi / day))\n",
    "df['Day cos'] = np.cos(timestamp_s * (2 * np.pi / day))\n",
    "df['Year sin'] = np.sin(timestamp_s * (2 * np.pi / year))\n",
    "df['Year cos'] = np.cos(timestamp_s * (2 * np.pi / year))"
   ]
  },
  {
   "cell_type": "code",
   "execution_count": null,
   "metadata": {
    "execution": {
     "iopub.execute_input": "2022-12-14T02:53:27.536814Z",
     "iopub.status.busy": "2022-12-14T02:53:27.536199Z",
     "iopub.status.idle": "2022-12-14T02:53:27.709682Z",
     "shell.execute_reply": "2022-12-14T02:53:27.708995Z"
    },
    "id": "mXBbTJZfuuTC"
   },
   "outputs": [],
   "source": [
    "plt.figure(figsize=(16,5))\n",
    "plt.xlabel('Time [h]')\n",
    "plt.title('Time of day signal')\n",
    "plt.plot(df['Date Time'][:25], df['Day sin'] [:25] , c=\"r\", label=\"Day Sin\")\n",
    "plt.plot(df['Date Time'][:25], df['Day cos'] [:25] , c=\"b\", label=\"Day Cos\")\n",
    "plt.legend()\n",
    "plt.show()\n",
    "\n",
    "plt.figure(figsize=(16,5))\n",
    "plt.plot(df['Date Time'][:365*24], df['Year sin'][:365*24], c=\"k\", label=\"Year Sin\")\n",
    "plt.plot(df['Date Time'][:365*24], df['Year cos'][:365*24], c=\"g\", label=\"Year Cos\")\n",
    "plt.xlabel('Time [h]')\n",
    "plt.title('Time of Year signal')\n",
    "plt.legend();"
   ]
  },
  {
   "attachments": {},
   "cell_type": "markdown",
   "metadata": {
    "id": "2rbL8bSGDHy3"
   },
   "source": [
    "### Save data to file\n",
    "\n",
    "Save the file to disk. You may consider do other transformation such as one-hot encoding etc."
   ]
  },
  {
   "cell_type": "code",
   "execution_count": null,
   "metadata": {
    "execution": {
     "iopub.execute_input": "2022-12-14T02:53:31.554447Z",
     "iopub.status.busy": "2022-12-14T02:53:31.553655Z",
     "iopub.status.idle": "2022-12-14T02:53:31.559390Z",
     "shell.execute_reply": "2022-12-14T02:53:31.558547Z"
    },
    "id": "ia-MPAHxbInX"
   },
   "outputs": [],
   "source": [
    "from sklearn.preprocessing import StandardScaler, MinMaxScaler\n",
    "import pickle\n",
    "\n",
    "scaler = StandardScaler()\n",
    "split  = int(len(df) * .8)\n",
    "df_trn  = df[df.columns[1:]][:split]\n",
    "df_tst  = df[df.columns[1:]][split:]\n",
    "scaler.fit(df_trn)\n",
    "\n",
    "df_scaled_trn = pd.DataFrame(scaler.transform(df_trn), columns=df_trn.columns)\n",
    "df_scaled_tst = pd.DataFrame(scaler.transform(df_tst), columns=df_trn.columns)\n",
    "\n",
    "# Save the scaler to a pickle file\n",
    "pickle.dump(scaler, open(f'{file}.scaler.pkl', 'wb'))\n",
    "\n",
    "##=> You can load the scaler in future \n",
    "# scaler = pickle.load(open(f'{file}.scaler.pkl', 'rb'))\n",
    "# scaler.transform(df_train)\n",
    "\n",
    "# You can inverse transform predicted value to get original value \n",
    "# pd.DataFrame(scaler.inverse_transform(scaler.transform(df_train)))\n",
    "\n",
    "# index = False tells not to write the index to CSV file\n",
    "df.to_csv(file+\".csv\", index=False)\n",
    "df_scaled_trn.to_csv(file+\".trn.csv\", index=False)\n",
    "df_scaled_tst.to_csv(file+\".tst.csv\", index=False)\n",
    "\n",
    "df_scaled_trn[0:10]"
   ]
  },
  {
   "cell_type": "code",
   "execution_count": null,
   "metadata": {},
   "outputs": [],
   "source": []
  }
 ],
 "metadata": {
  "accelerator": "GPU",
  "colab": {
   "collapsed_sections": [],
   "name": "time_series.ipynb",
   "toc_visible": true
  },
  "kernelspec": {
   "display_name": "Python 3",
   "language": "python",
   "name": "python3"
  },
  "language_info": {
   "codemirror_mode": {
    "name": "ipython",
    "version": 3
   },
   "file_extension": ".py",
   "mimetype": "text/x-python",
   "name": "python",
   "nbconvert_exporter": "python",
   "pygments_lexer": "ipython3",
   "version": "3.9.12 (main, Apr  5 2022, 01:53:17) \n[Clang 12.0.0 ]"
  },
  "vscode": {
   "interpreter": {
    "hash": "949777d72b0d2535278d3dc13498b2535136f6dfe0678499012e853ee9abcab1"
   }
  }
 },
 "nbformat": 4,
 "nbformat_minor": 0
}
