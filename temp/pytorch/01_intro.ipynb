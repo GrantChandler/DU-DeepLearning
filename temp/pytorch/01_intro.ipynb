{
 "cells": [
  {
   "cell_type": "markdown",
   "metadata": {},
   "source": [
    "# Introduction to PyTorch framework\n",
    "Authors: Sada Narayanappa & Emmanuel Iarussi\n",
    "\n",
    "## Create python environment (conda)\n",
    "\n",
    "An example of creating environment on your machine.\n",
    "\n",
    "```\n",
    "conda create --name pytorchenv python=3.9\n",
    "\n",
    "# Activate enviroment\n",
    "conda activate pytorchenv\n",
    "```"
   ]
  },
  {
   "cell_type": "code",
   "execution_count": null,
   "metadata": {},
   "outputs": [],
   "source": [
    "# Install PyTorch using the command provided in https://pytorch.org/"
   ]
  },
  {
   "cell_type": "code",
   "execution_count": null,
   "metadata": {},
   "outputs": [],
   "source": [
    "import torch \n",
    "print(\"PyTorch version:\", torch.__version__)"
   ]
  },
  {
   "cell_type": "markdown",
   "metadata": {},
   "source": [
    "# PyTorch Dense Layer\n",
    "\n",
    "In the following cell, we will run a simple example and demonstrate what is a dense layer.\n",
    "A dense layer with n1 inouts and n nodes will have n outputs. When we create it, by default it uses the bias.\n",
    "In the following figure, can you guess the dimention of the weight matrix before you the run the cells?\n",
    "\n",
    "<img width=128 src=../imgs/01_nn.png> "
   ]
  },
  {
   "cell_type": "code",
   "execution_count": null,
   "metadata": {},
   "outputs": [],
   "source": [
    "import torch.nn as nn\n",
    "import numpy as np\n",
    "\n",
    "# Create a single dense leyer, pass some data through it\n",
    "d = nn.Linear(2,3,bias=True)\n",
    "x = torch.Tensor([[5.,6.]])\n",
    "d(x)"
   ]
  },
  {
   "cell_type": "code",
   "execution_count": null,
   "metadata": {},
   "outputs": [],
   "source": [
    "# Print weight matrix and bias\n",
    "d.weight, d.bias"
   ]
  },
  {
   "cell_type": "code",
   "execution_count": null,
   "metadata": {},
   "outputs": [],
   "source": [
    "# Set weights \"manually\" using nn.Parameter \n",
    "# https://pytorch.org/docs/stable/generated/torch.nn.parameter.Parameter.html#parameter\n",
    "\n",
    "w = nn.Parameter(torch.t(torch.Tensor([[1., 2., 3.],\n",
    "                                       [0., 1., 2.]])))\n",
    "b = nn.Parameter(torch.Tensor([0.,0.,0.]))\n",
    "\n",
    "d.weight = w\n",
    "d.bias   = b"
   ]
  },
  {
   "cell_type": "code",
   "execution_count": null,
   "metadata": {},
   "outputs": [],
   "source": [
    "# Print weight matrix and bias\n",
    "d.weight, d.bias"
   ]
  },
  {
   "cell_type": "code",
   "execution_count": null,
   "metadata": {},
   "outputs": [],
   "source": [
    "d(x)"
   ]
  },
  {
   "cell_type": "markdown",
   "metadata": {},
   "source": [
    "# Sequential Model"
   ]
  },
  {
   "cell_type": "code",
   "execution_count": null,
   "metadata": {},
   "outputs": [],
   "source": [
    "# List our layers\n",
    "layers = []\n",
    "layers.append(nn.Linear(2,3))\n",
    "layers.append(nn.ReLU())\n",
    "layers.append(nn.Linear(3,3))\n",
    "layers.append(nn.ReLU())\n",
    "layers.append(nn.Linear(3,2))\n",
    "layers.append(nn.Softmax(dim=1))\n",
    "\n",
    "# Form a model using nn.Sequential\n",
    "model = nn.Sequential(*layers)\n",
    "\n",
    "# Test the NN\n",
    "x = torch.Tensor([[1,2]])\n",
    "model(x)"
   ]
  },
  {
   "cell_type": "code",
   "execution_count": null,
   "metadata": {},
   "outputs": [],
   "source": [
    "# Print all parameters\n",
    "for param in model.parameters():\n",
    "    print(param)"
   ]
  },
  {
   "cell_type": "code",
   "execution_count": null,
   "metadata": {},
   "outputs": [],
   "source": [
    "# Print layers\n",
    "print(model)"
   ]
  },
  {
   "cell_type": "code",
   "execution_count": null,
   "metadata": {},
   "outputs": [],
   "source": [
    "# We can also index the model using []\n",
    "model[0].weight,model[0].bias"
   ]
  },
  {
   "cell_type": "code",
   "execution_count": null,
   "metadata": {},
   "outputs": [],
   "source": [
    "# Network summary (tensorflow style) \n",
    "# https://github.com/TylerYep/torchinfo\n",
    "\n",
    "from torchinfo import summary\n",
    "summary(model, input_size=(1,2))"
   ]
  },
  {
   "cell_type": "markdown",
   "metadata": {},
   "source": [
    "# Real example"
   ]
  },
  {
   "cell_type": "code",
   "execution_count": null,
   "metadata": {},
   "outputs": [],
   "source": [
    "# Set device\n",
    "device = torch.device(\"cuda\" if torch.cuda.is_available() else \"cpu\")"
   ]
  },
  {
   "cell_type": "code",
   "execution_count": null,
   "metadata": {},
   "outputs": [],
   "source": [
    "import matplotlib.pyplot as plt\n",
    "\n",
    "# List our layers\n",
    "layers = []\n",
    "layers.append(nn.Linear(1,3))\n",
    "layers.append(nn.ReLU())\n",
    "layers.append(nn.Linear(3,1))\n",
    "\n",
    "# Form a model using nn.Sequential\n",
    "model = nn.Sequential(*layers)\n",
    "\n",
    "# Print summary\n",
    "summary(model, input_size=(1,1))"
   ]
  },
  {
   "cell_type": "code",
   "execution_count": null,
   "metadata": {},
   "outputs": [],
   "source": [
    "# Optimizer and loss function\n",
    "optimizer = torch.optim.SGD(model.parameters(), lr=0.001)\n",
    "MSEloss      = nn.MSELoss()"
   ]
  },
  {
   "cell_type": "code",
   "execution_count": null,
   "metadata": {},
   "outputs": [],
   "source": [
    "# Declare model inputs and outputs for training\n",
    "xs = torch.Tensor([-1.0,  0.0, 1.0, 2.0, 5.0, 9.0])\n",
    "ys = torch.Tensor([-3.0, -1.0, 1.0, 4.0, 7.0, 7.0])\n",
    "\n",
    "plt.plot(xs,ys, marker='o')\n",
    "plt.grid()"
   ]
  },
  {
   "cell_type": "code",
   "execution_count": null,
   "metadata": {},
   "outputs": [],
   "source": [
    "# Prepare arrays to be loaded as training data\n",
    "# https://pytorch.org/tutorials/beginner/basics/data_tutorial.html\n",
    "from torch.utils.data import DataLoader\n",
    "\n",
    "# Create simple dataset\n",
    "dataset = torch.utils.data.TensorDataset(xs, ys)\n",
    "\n",
    "# Create a dataloader\n",
    "train_dataloader = DataLoader(dataset, batch_size=1, shuffle=True)\n",
    "\n",
    "# Get some random data\n",
    "next(iter(train_dataloader))"
   ]
  },
  {
   "cell_type": "code",
   "execution_count": null,
   "metadata": {},
   "outputs": [],
   "source": [
    "model.to(device)\n",
    "\n",
    "# Fit the model\n",
    "num_epochs = 250\n",
    "\n",
    "# Iterate over #epochs\n",
    "for epoch in range(num_epochs):\n",
    "    # Visit each data sample once (random)\n",
    "    for batch, (x,y) in enumerate(train_dataloader): \n",
    "        # Compute model prediction and loss\n",
    "        pred = model(x.to(device))\n",
    "        loss = MSEloss(pred, y.to(device))\n",
    "        \n",
    "        # Backpropagate\n",
    "        optimizer.zero_grad()\n",
    "        loss.backward()\n",
    "        optimizer.step()       \n",
    "        \n",
    "    if epoch % 10 == 0:\n",
    "        print(\"Training epoch {}\".format(epoch))"
   ]
  },
  {
   "cell_type": "code",
   "execution_count": null,
   "metadata": {},
   "outputs": [],
   "source": [
    "yh = model(xs.to(device).unsqueeze(dim=1)).cpu().detach()\n",
    "\n",
    "plt.figure(figsize=(14,5))\n",
    "plt.plot(xs,ys, marker='o')\n",
    "plt.plot(xs,yh, marker='x')"
   ]
  },
  {
   "cell_type": "code",
   "execution_count": null,
   "metadata": {},
   "outputs": [],
   "source": [
    "# Repeat training * 4\n",
    "model.to(device)\n",
    "\n",
    "# Fit the model\n",
    "num_epochs = 250*4\n",
    "\n",
    "# Iterate over #epochs\n",
    "for epoch in range(num_epochs):\n",
    "    # Visit each data sample once (random)\n",
    "    for batch, (x,y) in enumerate(train_dataloader): \n",
    "        # Compute model prediction and loss\n",
    "        pred = model(x.to(device))\n",
    "        loss = MSEloss(pred, y.to(device))\n",
    "        \n",
    "        # Backpropagate\n",
    "        optimizer.zero_grad()\n",
    "        loss.backward()\n",
    "        optimizer.step()       \n",
    "        \n",
    "    if epoch % 10 == 0:\n",
    "        print(\"Training epoch {}\".format(epoch))"
   ]
  },
  {
   "cell_type": "code",
   "execution_count": null,
   "metadata": {},
   "outputs": [],
   "source": [
    "yh = model(xs.to(device).unsqueeze(dim=1)).cpu().detach()\n",
    "\n",
    "plt.figure(figsize=(14,5))\n",
    "plt.plot(xs,ys, marker='o')\n",
    "plt.plot(xs,yh, marker='x')"
   ]
  },
  {
   "cell_type": "code",
   "execution_count": null,
   "metadata": {},
   "outputs": [],
   "source": [
    "# Repeat training * 10\n",
    "model.to(device)\n",
    "\n",
    "# Fit the model\n",
    "num_epochs = 250*10\n",
    "\n",
    "# Iterate over #epochs\n",
    "for epoch in range(num_epochs):\n",
    "    # Visit each data sample once (random)\n",
    "    for batch, (x,y) in enumerate(train_dataloader): \n",
    "        # Compute model prediction and loss\n",
    "        pred = model(x.to(device))\n",
    "        loss = MSEloss(pred, y.to(device))\n",
    "        \n",
    "        # Backpropagate\n",
    "        optimizer.zero_grad()\n",
    "        loss.backward()\n",
    "        optimizer.step()       \n",
    "        \n",
    "    if epoch % 10 == 0:\n",
    "        print(\"Training epoch {}\".format(epoch))\n"
   ]
  },
  {
   "cell_type": "code",
   "execution_count": null,
   "metadata": {},
   "outputs": [],
   "source": [
    "yh = model(xs.to(device).unsqueeze(dim=1)).cpu().detach()\n",
    "\n",
    "plt.figure(figsize=(14,5))\n",
    "plt.plot(xs,ys, marker='o')\n",
    "plt.plot(xs,yh, marker='x')"
   ]
  },
  {
   "cell_type": "markdown",
   "metadata": {},
   "source": [
    "# References\n",
    "\n",
    "To learn more, refer to:\n",
    "\n",
    "- <a href=\"https://www.oreilly.com/library/view/programming-pytorch-for/9781492045342/\" class=\"external\">Programming PyTorch for Deep Learning</a>.\n",
    "\n",
    "\n",
    "## The END"
   ]
  },
  {
   "cell_type": "code",
   "execution_count": null,
   "metadata": {},
   "outputs": [],
   "source": []
  }
 ],
 "metadata": {
  "kernelspec": {
   "display_name": "Python 3 (ipykernel)",
   "language": "python",
   "name": "python3"
  },
  "language_info": {
   "codemirror_mode": {
    "name": "ipython",
    "version": 3
   },
   "file_extension": ".py",
   "mimetype": "text/x-python",
   "name": "python",
   "nbconvert_exporter": "python",
   "pygments_lexer": "ipython3",
   "version": "3.9.16"
  },
  "vscode": {
   "interpreter": {
    "hash": "dff0aaeeb8ee9738611fdcb903e0426fbcf38bc2d039ac205716a81cc1909598"
   }
  }
 },
 "nbformat": 4,
 "nbformat_minor": 2
}
