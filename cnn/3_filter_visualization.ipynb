{
 "cells": [
  {
   "cell_type": "markdown",
   "metadata": {},
   "source": [
    "# Filter Visualization\n",
    "Visualizing filters learned by a CNN"
   ]
  },
  {
   "cell_type": "code",
   "execution_count": 9,
   "metadata": {},
   "outputs": [],
   "source": [
    "# Viz imports\n",
    "%matplotlib inline\n",
    "import matplotlib.pyplot as plt\n",
    "%matplotlib inline\n",
    "plt.ion()\n",
    "\n",
    "import sys\n",
    "import os\n",
    "\n",
    "# Numpy\n",
    "import numpy as np\n",
    "from skimage import color, io\n",
    "\n",
    "# PyTorch\n",
    "import torch\n",
    "import torch.nn as nn\n",
    "import torch.nn.functional as F\n",
    "\n",
    "# Torchvision\n",
    "import torchvision.utils\n",
    "import torchvision.transforms as transforms\n",
    "from torch.utils.data import Dataset, DataLoader\n",
    "\n",
    "# Dataset\n",
    "from torchvision.datasets import CIFAR10"
   ]
  },
  {
   "cell_type": "markdown",
   "metadata": {},
   "source": [
    "## Training params"
   ]
  },
  {
   "cell_type": "code",
   "execution_count": 2,
   "metadata": {},
   "outputs": [],
   "source": [
    "num_epochs = 150\n",
    "batch_size = 256\n",
    "learning_rate = 1e-3\n",
    "use_gpu = True\n",
    "nfilters = 25"
   ]
  },
  {
   "cell_type": "markdown",
   "metadata": {},
   "source": [
    "## Dataset"
   ]
  },
  {
   "cell_type": "code",
   "execution_count": 3,
   "metadata": {},
   "outputs": [
    {
     "name": "stdout",
     "output_type": "stream",
     "text": [
      "Files already downloaded and verified\n",
      "Files already downloaded and verified\n"
     ]
    }
   ],
   "source": [
    "# Data augmentation\n",
    "# Random crops & flips\n",
    "transform_train = transforms.Compose([\n",
    "    transforms.RandomCrop(32, padding=4),\n",
    "    transforms.RandomHorizontalFlip(),\n",
    "    transforms.ToTensor(),\n",
    "    transforms.Normalize((0.4914, 0.4822, 0.4465), (0.2023, 0.1994, 0.2010)),\n",
    "])\n",
    "\n",
    "transform_test = transforms.Compose([\n",
    "    transforms.ToTensor(),\n",
    "    transforms.Normalize((0.4914, 0.4822, 0.4465), (0.2023, 0.1994, 0.2010)),\n",
    "])\n",
    "\n",
    "\n",
    "train_dataset = CIFAR10('./data/CIFAR10', train=True, transform=transform_train, target_transform=None, download=True)\n",
    "train_dataloader = DataLoader(train_dataset, batch_size=batch_size, shuffle=True)\n",
    "\n",
    "test_dataset = CIFAR10('./data/CIFAR10', train=False, transform=transform_test, target_transform=None, download=True)\n",
    "test_dataloader = DataLoader(test_dataset, batch_size=batch_size, shuffle=True)"
   ]
  },
  {
   "cell_type": "markdown",
   "metadata": {},
   "source": [
    "## CNN"
   ]
  },
  {
   "cell_type": "code",
   "execution_count": 4,
   "metadata": {},
   "outputs": [
    {
     "name": "stdout",
     "output_type": "stream",
     "text": [
      "Number of parameters: 250666\n"
     ]
    }
   ],
   "source": [
    "class ConvNet(nn.Module):\n",
    "    def __init__(self):\n",
    "        super(ConvNet, self).__init__()\n",
    "        \n",
    "        self.conv1 = nn.Conv2d(3, 16, kernel_size=9, stride=1, padding=4) # out: 48 x 32 x 32\n",
    "        self.conv1_bn = nn.BatchNorm2d(16)\n",
    "        self.conv2 = nn.Conv2d(16, 32, kernel_size=3, stride=2, padding=1) # out: 48 x 16 x 16\n",
    "        self.conv2_bn = nn.BatchNorm2d(32)\n",
    "        self.conv3 = nn.Conv2d(32, 32, kernel_size=9, stride=1, padding=4) # out: 96 x 16 x 16\n",
    "        self.conv3_bn = nn.BatchNorm2d(32)\n",
    "        self.conv4 = nn.Conv2d(32, 64, kernel_size=3, stride=2, padding=1) # out: 96 x 8 x 8\n",
    "        self.conv4_bn = nn.BatchNorm2d(64)\n",
    "        self.conv5 = nn.Conv2d(64, 64, kernel_size=3, stride=1, padding=1) # out: 96 x 8 x 8\n",
    "        self.conv5_bn = nn.BatchNorm2d(64)\n",
    "        self.conv6 = nn.Conv2d(64, 64, kernel_size=3, stride=2, padding=1) # out: 96 x 4 x 4\n",
    "        self.conv6_bn = nn.BatchNorm2d(64)\n",
    "        self.conv7 = nn.Conv2d(64, 64, kernel_size=4, stride=2, padding=0) # out: 96 x 1 x 1\n",
    "        self.do1 = nn.Dropout2d(p=0.5)\n",
    "        self.fc1 = nn.Linear(64, 10) # 10 outputs\n",
    "\n",
    "    def forward(self, x):\n",
    "        # convolutional \n",
    "        x = F.relu(self.conv1_bn(self.conv1(x)))\n",
    "        x = F.relu(self.conv2_bn(self.conv2(x)))\n",
    "        x = F.relu(self.conv3_bn(self.conv3(x)))\n",
    "        x = F.relu(self.conv4_bn(self.conv4(x)))\n",
    "        x = F.relu(self.conv5_bn(self.conv5(x)))\n",
    "        x = F.relu(self.conv6_bn(self.conv6(x)))\n",
    "        x = F.relu(self.conv7(x))\n",
    "        x = self.do1(x)\n",
    "        x = x.view(x.size(0), -1) # flatten\n",
    "        \n",
    "        # fully connected \n",
    "        x = F.log_softmax(self.fc1(x), dim=1) # classifier activation\n",
    "        \n",
    "        return x\n",
    "\n",
    "convnet = ConvNet()\n",
    "\n",
    "device = torch.device(\"cuda:0\" if use_gpu and torch.cuda.is_available() else \"cpu\")\n",
    "convnet = convnet.to(device)\n",
    "    \n",
    "# Filters to plot\n",
    "filter_inds = []\n",
    "for conv in [convnet.conv1, convnet.conv2, convnet.conv3, convnet.conv4]:\n",
    "    weights = conv.weight.data.view(-1, 1, conv.weight.size(2), conv.weight.size(3))\n",
    "    filter_inds.append(np.random.choice(weights.size(0), min(nfilters, weights.size(0)), replace=False))\n",
    "\n",
    "num_params = sum(p.numel() for p in convnet.parameters() if p.requires_grad)\n",
    "print('Number of parameters: %d' % num_params)"
   ]
  },
  {
   "cell_type": "code",
   "execution_count": 5,
   "metadata": {
    "scrolled": false
   },
   "outputs": [
    {
     "name": "stdout",
     "output_type": "stream",
     "text": [
      "Training ...\n",
      "Epoch [1 / 150] average loss: 1.772794\n",
      "Epoch [2 / 150] average loss: 1.483501\n",
      "Epoch [3 / 150] average loss: 1.344800\n",
      "Epoch [4 / 150] average loss: 1.240613\n",
      "Epoch [5 / 150] average loss: 1.155851\n",
      "Epoch [6 / 150] average loss: 1.081138\n",
      "Epoch [7 / 150] average loss: 1.016117\n",
      "Epoch [8 / 150] average loss: 0.966858\n",
      "Epoch [9 / 150] average loss: 0.925662\n",
      "Epoch [10 / 150] average loss: 0.886239\n",
      "Epoch [11 / 150] average loss: 0.859739\n",
      "Epoch [12 / 150] average loss: 0.828863\n",
      "Epoch [13 / 150] average loss: 0.800073\n",
      "Epoch [14 / 150] average loss: 0.779497\n",
      "Epoch [15 / 150] average loss: 0.760678\n",
      "Epoch [16 / 150] average loss: 0.738703\n",
      "Epoch [17 / 150] average loss: 0.728243\n",
      "Epoch [18 / 150] average loss: 0.702465\n",
      "Epoch [19 / 150] average loss: 0.691534\n",
      "Epoch [20 / 150] average loss: 0.678586\n",
      "Epoch [21 / 150] average loss: 0.670323\n",
      "Epoch [22 / 150] average loss: 0.661933\n",
      "Epoch [23 / 150] average loss: 0.642892\n",
      "Epoch [24 / 150] average loss: 0.633723\n",
      "Epoch [25 / 150] average loss: 0.627789\n",
      "Epoch [26 / 150] average loss: 0.615281\n",
      "Epoch [27 / 150] average loss: 0.600491\n",
      "Epoch [28 / 150] average loss: 0.598106\n",
      "Epoch [29 / 150] average loss: 0.591134\n",
      "Epoch [30 / 150] average loss: 0.584026\n",
      "Epoch [31 / 150] average loss: 0.574316\n",
      "Epoch [32 / 150] average loss: 0.566101\n",
      "Epoch [33 / 150] average loss: 0.558839\n",
      "Epoch [34 / 150] average loss: 0.554121\n",
      "Epoch [35 / 150] average loss: 0.543701\n",
      "Epoch [36 / 150] average loss: 0.538164\n",
      "Epoch [37 / 150] average loss: 0.526881\n",
      "Epoch [38 / 150] average loss: 0.522295\n",
      "Epoch [39 / 150] average loss: 0.518237\n",
      "Epoch [40 / 150] average loss: 0.510925\n",
      "Epoch [41 / 150] average loss: 0.509799\n",
      "Epoch [42 / 150] average loss: 0.503147\n",
      "Epoch [43 / 150] average loss: 0.500032\n",
      "Epoch [44 / 150] average loss: 0.487947\n",
      "Epoch [45 / 150] average loss: 0.486560\n",
      "Epoch [46 / 150] average loss: 0.481256\n",
      "Epoch [47 / 150] average loss: 0.474618\n",
      "Epoch [48 / 150] average loss: 0.476122\n",
      "Epoch [49 / 150] average loss: 0.472614\n",
      "Epoch [50 / 150] average loss: 0.463345\n",
      "Epoch [51 / 150] average loss: 0.456497\n",
      "Epoch [52 / 150] average loss: 0.456405\n",
      "Epoch [53 / 150] average loss: 0.451896\n",
      "Epoch [54 / 150] average loss: 0.450047\n",
      "Epoch [55 / 150] average loss: 0.449975\n",
      "Epoch [56 / 150] average loss: 0.437533\n",
      "Epoch [57 / 150] average loss: 0.437377\n",
      "Epoch [58 / 150] average loss: 0.435759\n",
      "Epoch [59 / 150] average loss: 0.427854\n",
      "Epoch [60 / 150] average loss: 0.424136\n",
      "Epoch [61 / 150] average loss: 0.429293\n",
      "Epoch [62 / 150] average loss: 0.420712\n",
      "Epoch [63 / 150] average loss: 0.416470\n",
      "Epoch [64 / 150] average loss: 0.412432\n",
      "Epoch [65 / 150] average loss: 0.412421\n",
      "Epoch [66 / 150] average loss: 0.409643\n",
      "Epoch [67 / 150] average loss: 0.402890\n",
      "Epoch [68 / 150] average loss: 0.399992\n",
      "Epoch [69 / 150] average loss: 0.395007\n",
      "Epoch [70 / 150] average loss: 0.397301\n",
      "Epoch [71 / 150] average loss: 0.395617\n",
      "Epoch [72 / 150] average loss: 0.390163\n",
      "Epoch [73 / 150] average loss: 0.384865\n",
      "Epoch [74 / 150] average loss: 0.384972\n",
      "Epoch [75 / 150] average loss: 0.383412\n",
      "Epoch [76 / 150] average loss: 0.381335\n",
      "Epoch [77 / 150] average loss: 0.376372\n",
      "Epoch [78 / 150] average loss: 0.371987\n",
      "Epoch [79 / 150] average loss: 0.377651\n",
      "Epoch [80 / 150] average loss: 0.374871\n",
      "Epoch [81 / 150] average loss: 0.366537\n",
      "Epoch [82 / 150] average loss: 0.366043\n",
      "Epoch [83 / 150] average loss: 0.361759\n",
      "Epoch [84 / 150] average loss: 0.363828\n",
      "Epoch [85 / 150] average loss: 0.361228\n",
      "Epoch [86 / 150] average loss: 0.363439\n",
      "Epoch [87 / 150] average loss: 0.356507\n",
      "Epoch [88 / 150] average loss: 0.358125\n",
      "Epoch [89 / 150] average loss: 0.351713\n",
      "Epoch [90 / 150] average loss: 0.352599\n",
      "Epoch [91 / 150] average loss: 0.353281\n",
      "Epoch [92 / 150] average loss: 0.348496\n",
      "Epoch [93 / 150] average loss: 0.348351\n",
      "Epoch [94 / 150] average loss: 0.347583\n",
      "Epoch [95 / 150] average loss: 0.346935\n",
      "Epoch [96 / 150] average loss: 0.342735\n",
      "Epoch [97 / 150] average loss: 0.343461\n",
      "Epoch [98 / 150] average loss: 0.335161\n",
      "Epoch [99 / 150] average loss: 0.336585\n",
      "Epoch [100 / 150] average loss: 0.334730\n",
      "Epoch [101 / 150] average loss: 0.333776\n",
      "Epoch [102 / 150] average loss: 0.339458\n",
      "Epoch [103 / 150] average loss: 0.334530\n",
      "Epoch [104 / 150] average loss: 0.329043\n",
      "Epoch [105 / 150] average loss: 0.326971\n",
      "Epoch [106 / 150] average loss: 0.326535\n",
      "Epoch [107 / 150] average loss: 0.322929\n",
      "Epoch [108 / 150] average loss: 0.327418\n",
      "Epoch [109 / 150] average loss: 0.324443\n",
      "Epoch [110 / 150] average loss: 0.326392\n",
      "Epoch [111 / 150] average loss: 0.318492\n",
      "Epoch [112 / 150] average loss: 0.321720\n",
      "Epoch [113 / 150] average loss: 0.317355\n",
      "Epoch [114 / 150] average loss: 0.313699\n",
      "Epoch [115 / 150] average loss: 0.323565\n",
      "Epoch [116 / 150] average loss: 0.308412\n",
      "Epoch [117 / 150] average loss: 0.315276\n",
      "Epoch [118 / 150] average loss: 0.305809\n",
      "Epoch [119 / 150] average loss: 0.308618\n",
      "Epoch [120 / 150] average loss: 0.311365\n",
      "Epoch [121 / 150] average loss: 0.305343\n",
      "Epoch [122 / 150] average loss: 0.304429\n",
      "Epoch [123 / 150] average loss: 0.301681\n",
      "Epoch [124 / 150] average loss: 0.303014\n",
      "Epoch [125 / 150] average loss: 0.298973\n",
      "Epoch [126 / 150] average loss: 0.300446\n",
      "Epoch [127 / 150] average loss: 0.294854\n",
      "Epoch [128 / 150] average loss: 0.299506\n",
      "Epoch [129 / 150] average loss: 0.299900\n",
      "Epoch [130 / 150] average loss: 0.295608\n",
      "Epoch [131 / 150] average loss: 0.294852\n",
      "Epoch [132 / 150] average loss: 0.295354\n",
      "Epoch [133 / 150] average loss: 0.297486\n",
      "Epoch [134 / 150] average loss: 0.292636\n",
      "Epoch [135 / 150] average loss: 0.290581\n",
      "Epoch [136 / 150] average loss: 0.289695\n",
      "Epoch [137 / 150] average loss: 0.287026\n",
      "Epoch [138 / 150] average loss: 0.288394\n",
      "Epoch [139 / 150] average loss: 0.286768\n",
      "Epoch [140 / 150] average loss: 0.283205\n",
      "Epoch [141 / 150] average loss: 0.291757\n",
      "Epoch [142 / 150] average loss: 0.280795\n",
      "Epoch [143 / 150] average loss: 0.278487\n",
      "Epoch [144 / 150] average loss: 0.286377\n",
      "Epoch [145 / 150] average loss: 0.286905\n",
      "Epoch [146 / 150] average loss: 0.277693\n",
      "Epoch [147 / 150] average loss: 0.280383\n",
      "Epoch [148 / 150] average loss: 0.282739\n",
      "Epoch [149 / 150] average loss: 0.279326\n",
      "Epoch [150 / 150] average loss: 0.271644\n"
     ]
    }
   ],
   "source": [
    "optimizer = torch.optim.Adam(params=convnet.parameters(), lr=learning_rate)\n",
    "\n",
    "# Training mode: ON\n",
    "convnet.train()\n",
    "\n",
    "train_loss_avg = []\n",
    "\n",
    "filters = []\n",
    "\n",
    "print('Training ...')\n",
    "for epoch in range(num_epochs):\n",
    "    train_loss_avg.append(0)\n",
    "    num_batches = 0\n",
    "    filters.append([])\n",
    "    \n",
    "    for image_batch, label_batch in train_dataloader:\n",
    "        \n",
    "        image_batch = image_batch.to(device)\n",
    "        label_batch = label_batch.to(device)\n",
    "        \n",
    "        # class predictions\n",
    "        prediction_batch = convnet(image_batch)\n",
    "        \n",
    "        # Negative log likelihood loss\n",
    "        loss = F.nll_loss(prediction_batch, label_batch)\n",
    "        \n",
    "        # backpropagation\n",
    "        optimizer.zero_grad()\n",
    "        loss.backward()\n",
    "        \n",
    "        # one step of the optmizer (using the gradients from backpropagation)\n",
    "        optimizer.step()\n",
    "        \n",
    "        train_loss_avg[-1] += loss.item()\n",
    "        num_batches += 1\n",
    "        \n",
    "    # Filter evolution\n",
    "    for i, conv in enumerate([convnet.conv1, convnet.conv2, convnet.conv3, convnet.conv4]):\n",
    "        weights = conv.weight.data.view(-1, 1, conv.weight.size(2), conv.weight.size(3))\n",
    "        filters[-1].append(weights[filter_inds[i], :, :, :].cpu())\n",
    "        \n",
    "    train_loss_avg[-1] /= num_batches\n",
    "    print('Epoch [%d / %d] average loss: %f' % (epoch+1, num_epochs, train_loss_avg[-1]))"
   ]
  },
  {
   "cell_type": "code",
   "execution_count": 6,
   "metadata": {},
   "outputs": [
    {
     "data": {
      "image/png": "[encoded data removed]",
      "text/plain": [
       "<Figure size 432x288 with 1 Axes>"
      ]
     },
     "metadata": {
      "needs_background": "light"
     },
     "output_type": "display_data"
    }
   ],
   "source": [
    "fig = plt.figure()\n",
    "plt.plot(train_loss_avg)\n",
    "plt.xlabel('Epochs')\n",
    "plt.ylabel('Cross-entropy loss')\n",
    "plt.show()"
   ]
  },
  {
   "cell_type": "markdown",
   "metadata": {},
   "source": [
    "## Evaluation"
   ]
  },
  {
   "cell_type": "code",
   "execution_count": 7,
   "metadata": {},
   "outputs": [
    {
     "name": "stdout",
     "output_type": "stream",
     "text": [
      "average loss: 0.570586\n",
      "classification error: 15.770000%\n"
     ]
    }
   ],
   "source": [
    "# Evaluation mode: ON\n",
    "convnet.eval()\n",
    "\n",
    "num_incorrect = 0\n",
    "test_loss_avg = 0\n",
    "num_batches = 0\n",
    "num_instances = 0\n",
    "for image_batch, label_batch in test_dataloader:\n",
    "    \n",
    "    with torch.no_grad():\n",
    "        \n",
    "        # Get data\n",
    "        image_batch = image_batch.to(device)\n",
    "        label_batch = label_batch.to(device)\n",
    "\n",
    "        # Predict\n",
    "        prediction_batch = convnet(image_batch)\n",
    "\n",
    "        # Count correct predictions\n",
    "        _, predicted_label = prediction_batch.max(dim=1)\n",
    "        num_incorrect += (predicted_label != label_batch).sum().item()\n",
    "\n",
    "        # Negative log likelihood loss\n",
    "        loss = F.nll_loss(prediction_batch, label_batch)\n",
    "\n",
    "        test_loss_avg += loss.item()\n",
    "        num_batches += 1\n",
    "        num_instances += image_batch.size(0)\n",
    "    \n",
    "test_loss_avg /= num_batches\n",
    "print('average loss: %f' % (test_loss_avg))\n",
    "print('classification error: %f%%' % ((num_incorrect / num_instances)*100))"
   ]
  },
  {
   "cell_type": "markdown",
   "metadata": {},
   "source": [
    "## Feature Visualization"
   ]
  },
  {
   "cell_type": "code",
   "execution_count": 12,
   "metadata": {},
   "outputs": [
    {
     "data": {
      "image/png": "[encoded data removed]",
      "text/plain": [
       "<Figure size 504x504 with 1 Axes>"
      ]
     },
     "metadata": {
      "needs_background": "light"
     },
     "output_type": "display_data"
    },
    {
     "data": {
      "image/png": "[encoded data removed]",
      "text/plain": [
       "<Figure size 504x504 with 1 Axes>"
      ]
     },
     "metadata": {
      "needs_background": "light"
     },
     "output_type": "display_data"
    },
    {
     "data": {
      "image/png": "[encoded data removed]",
      "text/plain": [
       "<Figure size 504x504 with 1 Axes>"
      ]
     },
     "metadata": {
      "needs_background": "light"
     },
     "output_type": "display_data"
    },
    {
     "data": {
      "image/png": "[encoded data removed]",
      "text/plain": [
       "<Figure size 504x504 with 1 Axes>"
      ]
     },
     "metadata": {
      "needs_background": "light"
     },
     "output_type": "display_data"
    }
   ],
   "source": [
    "with torch.no_grad():\n",
    "\n",
    "    def filter_collage(filter_weights, nrow):\n",
    "        filter_max = filter_weights.view(filter_weights.size(0), 1, -1).max(dim=2)[0].view(filter_weights.size(0), 1, 1, 1)\n",
    "        filter_min = filter_weights.view(filter_weights.size(0), 1, -1).min(dim=2)[0].view(filter_weights.size(0), 1, 1, 1)\n",
    "        filter_weights = (filter_weights - filter_min) / (filter_max - filter_min)\n",
    "        return torchvision.utils.make_grid(filter_weights, nrow=nrow)\n",
    "\n",
    "    def show_tensor(tensor):\n",
    "        fig, ax = plt.subplots(figsize=(7, 7), nrows=1, ncols=1)\n",
    "        ax.imshow(np.transpose(tensor.numpy(), (1, 2, 0)))\n",
    "        plt.show()\n",
    "\n",
    "    show_tensor(filter_collage(filters[-1][0], nrow=10))\n",
    "    show_tensor(filter_collage(filters[-1][1], nrow=10))\n",
    "    show_tensor(filter_collage(filters[-1][2], nrow=10))\n",
    "    show_tensor(filter_collage(filters[-1][3], nrow=10))"
   ]
  },
  {
   "cell_type": "code",
   "execution_count": null,
   "metadata": {},
   "outputs": [],
   "source": []
  }
 ],
 "metadata": {
  "kernelspec": {
   "display_name": "Python 3 (ipykernel)",
   "language": "python",
   "name": "python3"
  },
  "language_info": {
   "codemirror_mode": {
    "name": "ipython",
    "version": 3
   },
   "file_extension": ".py",
   "mimetype": "text/x-python",
   "name": "python",
   "nbconvert_exporter": "python",
   "pygments_lexer": "ipython3",
   "version": "3.9.12"
  }
 },
 "nbformat": 4,
 "nbformat_minor": 2
}
