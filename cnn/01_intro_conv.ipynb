{
 "cells": [
  {
   "cell_type": "markdown",
   "id": "2c13b13e",
   "metadata": {},
   "source": [
    "## 2D Convolutions in PyTorch"
   ]
  },
  {
   "cell_type": "code",
   "execution_count": 17,
   "id": "37c42431",
   "metadata": {},
   "outputs": [],
   "source": [
    "# PyTorch\n",
    "import torch\n",
    "import matplotlib.pyplot as plt\n",
    "import torch.nn.functional as F"
   ]
  },
  {
   "cell_type": "code",
   "execution_count": 18,
   "id": "3206bd54",
   "metadata": {},
   "outputs": [],
   "source": [
    "# Define a sample input tensor with a single channel and size (5, 5)\n",
    "input = torch.tensor([[1, 2, 1, 2, 1],\n",
    "                      [2, 4, 2, 4, 2],\n",
    "                      [1, 2, 1, 2, 1],\n",
    "                      [2, 4, 2, 4, 2],\n",
    "                      [1, 2, 1, 2, 1]]).unsqueeze(0).float()"
   ]
  },
  {
   "cell_type": "code",
   "execution_count": 19,
   "id": "87556972",
   "metadata": {},
   "outputs": [],
   "source": [
    "# Define the convolution kernel with a single channel and size (3, 3)\n",
    "kernel = torch.tensor([[1, 0, -1],\n",
    "                       [2, 0, -2],\n",
    "                       [1, 0, -1]]).float().unsqueeze(0).unsqueeze(0)"
   ]
  },
  {
   "cell_type": "code",
   "execution_count": 20,
   "id": "e06ac3a9",
   "metadata": {},
   "outputs": [],
   "source": [
    "# Perform the convolution operation using the functional module in PyTorch\n",
    "output = F.conv2d(input.unsqueeze(0), kernel, padding=1)"
   ]
  },
  {
   "cell_type": "code",
   "execution_count": 21,
   "id": "2b8ef7d8",
   "metadata": {},
   "outputs": [
    {
     "data": {
      "text/plain": [
       "tensor([[[[ -8.,   0.,   0.,   0.,   8.],\n",
       "          [-12.,   0.,   0.,   0.,  12.],\n",
       "          [-12.,   0.,   0.,   0.,  12.],\n",
       "          [-12.,   0.,   0.,   0.,  12.],\n",
       "          [ -8.,   0.,   0.,   0.,   8.]]]])"
      ]
     },
     "execution_count": 21,
     "metadata": {},
     "output_type": "execute_result"
    }
   ],
   "source": [
    "output"
   ]
  },
  {
   "cell_type": "code",
   "execution_count": 43,
   "id": "3876d7aa",
   "metadata": {},
   "outputs": [
    {
     "data": {
      "image/png": "[encoded data removed]",
      "text/plain": [
       "<Figure size 864x288 with 3 Axes>"
      ]
     },
     "metadata": {
      "needs_background": "light"
     },
     "output_type": "display_data"
    }
   ],
   "source": [
    "# Plot the input, kernel and output tensors as color grids using Matplotlib\n",
    "def plot_tensor(tensor, title, ax):\n",
    "    ax.imshow(tensor.squeeze(0), cmap='Blues')\n",
    "    ax.grid(True, color='w', linestyle='-', linewidth=2)\n",
    "    plt.title(title)\n",
    "    plt.axis('off')\n",
    "\n",
    "plt.figure(figsize=(12, 4))\n",
    "ax131 = plt.subplot(131)\n",
    "plot_tensor(input, \"Input\", ax131)\n",
    "ax132 = plt.subplot(132)\n",
    "plot_tensor(kernel.squeeze(0), \"Kernel\", ax132)\n",
    "ax133 = plt.subplot(133)\n",
    "plot_tensor(output.squeeze(0), \"Output\", ax133)\n",
    "plt.show()"
   ]
  },
  {
   "cell_type": "code",
   "execution_count": null,
   "id": "cc6c0bab",
   "metadata": {},
   "outputs": [],
   "source": []
  }
 ],
 "metadata": {
  "kernelspec": {
   "display_name": "Python 3 (ipykernel)",
   "language": "python",
   "name": "python3"
  },
  "language_info": {
   "codemirror_mode": {
    "name": "ipython",
    "version": 3
   },
   "file_extension": ".py",
   "mimetype": "text/x-python",
   "name": "python",
   "nbconvert_exporter": "python",
   "pygments_lexer": "ipython3",
   "version": "3.9.16"
  }
 },
 "nbformat": 4,
 "nbformat_minor": 5
}
