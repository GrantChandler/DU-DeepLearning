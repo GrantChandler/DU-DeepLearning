{
 "cells": [
  {
   "cell_type": "markdown",
   "metadata": {},
   "source": [
    "# Learning a single edge filter\n",
    "Let's create a minimal CNN which learn a single edge filter"
   ]
  },
  {
   "cell_type": "code",
   "execution_count": null,
   "metadata": {},
   "outputs": [],
   "source": [
    "# Viz imports\n",
    "%matplotlib inline\n",
    "import matplotlib.pyplot as plt\n",
    "%matplotlib inline\n",
    "plt.ion()\n",
    "\n",
    "import sys\n",
    "import os\n",
    "\n",
    "# Numpy\n",
    "import numpy as np\n",
    "from skimage import color, io\n",
    "\n",
    "# PyTorch\n",
    "import torch\n",
    "import torch.nn as nn\n",
    "import torch.nn.functional as F\n",
    "\n",
    "# Torchvision\n",
    "import torchvision.utils\n",
    "import torchvision.transforms as transforms\n",
    "from torch.utils.data import Dataset, DataLoader\n",
    "\n",
    "# Dataset: CIFAR10 https://www.cs.toronto.edu/~kriz/cifar.html\n",
    "from torchvision.datasets import CIFAR10"
   ]
  },
  {
   "cell_type": "markdown",
   "metadata": {},
   "source": [
    "## Training params"
   ]
  },
  {
   "cell_type": "code",
   "execution_count": null,
   "metadata": {},
   "outputs": [],
   "source": [
    "num_epochs = 10\n",
    "batch_size = 512\n",
    "learning_rate = 1e-1\n",
    "use_gpu = True"
   ]
  },
  {
   "cell_type": "markdown",
   "metadata": {},
   "source": [
    "## Dataset"
   ]
  },
  {
   "cell_type": "code",
   "execution_count": null,
   "metadata": {},
   "outputs": [],
   "source": [
    "gt_edge_filter = nn.Conv2d(1, 1, kernel_size=3, padding=1, bias=False)\n",
    "gt_edge_filter.weight.data = torch.FloatTensor([[1, 0, -1], [2, 0, -2], [1, 0, -1]]).view(1, 1, 3, 3)\n",
    "\n",
    "def edge_filter(img):\n",
    "    with torch.no_grad():\n",
    "        return gt_edge_filter(img.unsqueeze(0)).squeeze(0)\n",
    "\n",
    "class EdgeImageDataset(Dataset):\n",
    "    \n",
    "    def __init__(self, root, train=True):\n",
    "        self.cifar = CIFAR10(root=root, train=train, transform=None, target_transform=None, download=True)\n",
    "        \n",
    "        self.img_transform = transforms.Compose([\n",
    "            transforms.Grayscale(),\n",
    "            transforms.ToTensor()\n",
    "        ])\n",
    "        \n",
    "        self.img2edge_transform = transforms.Compose([\n",
    "            transforms.Grayscale(),\n",
    "            transforms.ToTensor(),\n",
    "            transforms.Lambda(edge_filter)\n",
    "        ])\n",
    "    \n",
    "    def __getitem__(self, index):\n",
    "        img = self.cifar[index][0]\n",
    "        return (self.img_transform(img), self.img2edge_transform(img))\n",
    "        \n",
    "    def __len__(self):\n",
    "        return len(self.cifar)\n",
    "\n",
    "train_dataset = EdgeImageDataset('./data/CIFAR10', train=True)\n",
    "train_dataloader = DataLoader(train_dataset, batch_size=batch_size, shuffle=True)\n",
    "\n",
    "test_dataset = EdgeImageDataset('./data/CIFAR10', train=False)\n",
    "test_dataloader = DataLoader(test_dataset, batch_size=batch_size, shuffle=True)"
   ]
  },
  {
   "cell_type": "markdown",
   "metadata": {},
   "source": [
    "## CNN"
   ]
  },
  {
   "cell_type": "code",
   "execution_count": null,
   "metadata": {},
   "outputs": [],
   "source": [
    "class EdgeNet(nn.Module):\n",
    "    def __init__(self, d=128):\n",
    "        super(EdgeNet, self).__init__()\n",
    "        \n",
    "        # We will not be using bias, so the learned kernel closely matches the one generating the data. \n",
    "        self.conv = nn.Conv2d(1, 1, kernel_size=3, padding=1, bias=False)\n",
    "\n",
    "    def forward(self, input):\n",
    "        return self.conv(input)\n",
    "\n",
    "enet = EdgeNet()\n",
    "\n",
    "# Device\n",
    "device = torch.device(\"cuda:0\" if use_gpu and torch.cuda.is_available() else \"cpu\")\n",
    "enet = enet.to(device)\n",
    "print('Using device: %s' % (device))\n",
    "\n",
    "# Show # params (single 3x3 kernel with no bias)\n",
    "num_params = sum(p.numel() for p in enet.parameters() if p.requires_grad)\n",
    "print('Number of parameters: %d' % (num_params))"
   ]
  },
  {
   "cell_type": "markdown",
   "metadata": {},
   "source": [
    "## Training loop"
   ]
  },
  {
   "cell_type": "code",
   "execution_count": null,
   "metadata": {},
   "outputs": [],
   "source": [
    "# Adam Optimizer\n",
    "optimizer = torch.optim.Adam(params=enet.parameters(), lr=learning_rate)\n",
    "\n",
    "# Training mode\n",
    "enet.train()\n",
    "\n",
    "train_loss_avg = []\n",
    "\n",
    "print('Training ...')\n",
    "for epoch in range(num_epochs):\n",
    "    train_loss_avg.append(0)\n",
    "    num_batches = 0\n",
    "    \n",
    "    for image_batch, edge_batch in train_dataloader:\n",
    "        \n",
    "        # Get data\n",
    "        image_batch = image_batch.to(device)\n",
    "        edge_batch = edge_batch.to(device)\n",
    "        \n",
    "        # Predict\n",
    "        predicted_edge_batch = enet(image_batch)\n",
    "        \n",
    "        # Compare against GT\n",
    "        loss = F.mse_loss(predicted_edge_batch, edge_batch)\n",
    "        \n",
    "        # Backprop. (gradient computation)\n",
    "        optimizer.zero_grad()\n",
    "        loss.backward()\n",
    "        \n",
    "        # Update optimizer\n",
    "        optimizer.step()\n",
    "        \n",
    "        # Loss tracking (for viz. purposes)\n",
    "        train_loss_avg[-1] += loss.item()\n",
    "        num_batches += 1\n",
    "        \n",
    "    train_loss_avg[-1] /= num_batches\n",
    "    print('Epoch [%d / %d] average loss: %f' % (epoch+1, num_epochs, train_loss_avg[-1]))"
   ]
  },
  {
   "cell_type": "markdown",
   "metadata": {},
   "source": [
    "## Loss plot"
   ]
  },
  {
   "cell_type": "code",
   "execution_count": null,
   "metadata": {},
   "outputs": [],
   "source": [
    "fig = plt.figure(figsize=(15, 5))\n",
    "plt.plot(train_loss_avg)\n",
    "plt.xlabel('Epochs')\n",
    "plt.ylabel('Loss')\n",
    "plt.show()"
   ]
  },
  {
   "cell_type": "code",
   "execution_count": null,
   "metadata": {},
   "outputs": [],
   "source": [
    "# In case we want to save CNN\n",
    "# torch.save(enet.state_dict(), './border_detector.pth')"
   ]
  },
  {
   "cell_type": "markdown",
   "metadata": {},
   "source": [
    "## Testing"
   ]
  },
  {
   "cell_type": "code",
   "execution_count": null,
   "metadata": {},
   "outputs": [],
   "source": [
    "# Evaluate network performance\n",
    "enet.eval()\n",
    "\n",
    "test_loss_avg, num_batches = 0, 0\n",
    "for image_batch, edge_batch in test_dataloader:\n",
    "\n",
    "    with torch.no_grad():\n",
    "   \n",
    "        image_batch = image_batch.to(device)\n",
    "        edge_batch  = edge_batch.to(device)\n",
    "\n",
    "        # Predict \n",
    "        predicted_edge_batch = enet(image_batch)\n",
    "\n",
    "        # Compute MSE \n",
    "        loss = F.mse_loss(predicted_edge_batch, edge_batch)\n",
    "\n",
    "        test_loss_avg += loss.item()\n",
    "        num_batches += 1\n",
    "    \n",
    "test_loss_avg /= num_batches\n",
    "print('average loss: %f' % (test_loss_avg))"
   ]
  },
  {
   "cell_type": "code",
   "execution_count": null,
   "metadata": {},
   "outputs": [],
   "source": [
    "# Let's compare \n",
    "with torch.no_grad():\n",
    "\n",
    "    # Some random images\n",
    "    image_inds  = np.random.choice(len(test_dataset), 25, replace=False)\n",
    "    image_batch = torch.stack([test_dataset[i][0] for i in image_inds])\n",
    "    edge_batch  = torch.stack([test_dataset[i][1] for i in image_inds])\n",
    "    image_batch = image_batch.to(device)\n",
    "\n",
    "    # Predict borders\n",
    "    predicted_edge_batch = enet(image_batch)\n",
    "\n",
    "    # Bring them to CPU (required to viz.)\n",
    "    image_batch.cpu()\n",
    "    predicted_edge_batch.cpu()\n",
    "\n",
    "    # Get edge magnitudes in [0,1]\n",
    "    predicted_edge_batch = ((predicted_edge_batch/4.0).pow(2)*4.0).clamp(min=0, max=1)\n",
    "    edge_batch           = ((edge_batch/4.0).pow(2)*4.0).clamp(min=0, max=1)\n",
    "\n",
    "    print('learned edge filter')\n",
    "    print(enet.conv.weight.cpu().detach().numpy())\n",
    "\n",
    "    print('ground truth edge filter')\n",
    "    print(gt_edge_filter.weight.cpu().detach().numpy())\n",
    "\n",
    "    # plot images\n",
    "    fig, ax = plt.subplots(figsize=(7, 7), nrows=1, ncols=1)\n",
    "    ax.imshow(np.transpose(torchvision.utils.make_grid(image_batch, nrow=5).cpu().numpy(), (1, 2, 0)))\n",
    "    ax.title.set_text('images')\n",
    "\n",
    "    # plot edges\n",
    "    fig, ax = plt.subplots(figsize=(15, 15), nrows=1, ncols=2)\n",
    "    ax[0].imshow(np.transpose(torchvision.utils.make_grid(predicted_edge_batch, nrow=5).cpu().numpy(), (1, 2, 0)))\n",
    "    ax[0].title.set_text('predicted edges')\n",
    "    ax[1].imshow(np.transpose(torchvision.utils.make_grid(edge_batch, nrow=5).cpu().numpy(), (1, 2, 0)))\n",
    "    ax[1].title.set_text('ground truth edges')\n",
    "    plt.show()"
   ]
  },
  {
   "cell_type": "code",
   "execution_count": null,
   "metadata": {},
   "outputs": [],
   "source": []
  }
 ],
 "metadata": {
  "kernelspec": {
   "display_name": "Python 3 (ipykernel)",
   "language": "python",
   "name": "python3"
  },
  "language_info": {
   "codemirror_mode": {
    "name": "ipython",
    "version": 3
   },
   "file_extension": ".py",
   "mimetype": "text/x-python",
   "name": "python",
   "nbconvert_exporter": "python",
   "pygments_lexer": "ipython3",
   "version": "3.9.16"
  }
 },
 "nbformat": 4,
 "nbformat_minor": 2
}
