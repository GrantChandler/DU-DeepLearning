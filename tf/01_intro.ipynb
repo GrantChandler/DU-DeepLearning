{
 "cells": [
  {
   "cell_type": "markdown",
   "metadata": {},
   "source": [
    "# Introduction to Tensorflow Keras framework\n",
    "Author: Sada Narayanappa\n",
    "\n",
    "## Create python environment\n",
    "\n",
    "An example of creating environment on your machine.\n",
    "\n",
    "```\n",
    "python -m venv ~/venv/py39\n",
    "\n",
    "# You may your initialization file (ex: .bashrc) \n",
    "alias py39='source ~/venv/py39/bin/activate'\n",
    "py39\n",
    "\n",
    "# If you are using vscode, set the path in \"Python: Venv Path\" to ~/venv\n",
    "```"
   ]
  },
  {
   "cell_type": "code",
   "execution_count": null,
   "metadata": {},
   "outputs": [],
   "source": [
    "# !pip install tensorflow"
   ]
  },
  {
   "cell_type": "code",
   "execution_count": 1,
   "metadata": {},
   "outputs": [
    {
     "name": "stderr",
     "output_type": "stream",
     "text": [
      "2023-02-21 09:57:10.459111: I tensorflow/core/platform/cpu_feature_guard.cc:193] This TensorFlow binary is optimized with oneAPI Deep Neural Network Library (oneDNN) to use the following CPU instructions in performance-critical operations:  AVX2 FMA\n",
      "To enable them in other operations, rebuild TensorFlow with the appropriate compiler flags.\n"
     ]
    },
    {
     "name": "stdout",
     "output_type": "stream",
     "text": [
      "TensorFlow version: 2.11.0\n"
     ]
    }
   ],
   "source": [
    "import tensorflow as tf\n",
    "print(\"TensorFlow version:\", tf.__version__)"
   ]
  },
  {
   "cell_type": "markdown",
   "metadata": {},
   "source": [
    "# Keras Dense Layer\n",
    "\n",
    "In the following cell, we will run a simple example and demonstrate what is a dense layer.\n",
    "A dense layer with n1 inouts and n nodes will have n outputs. When we create it, by default it uses the bias.\n",
    "In the following figure, can you guess the dimention of the weight matrix before you the run the cells?\n",
    "\n",
    "<img width=128 src=../imgs/01_nn.png> "
   ]
  },
  {
   "cell_type": "code",
   "execution_count": 20,
   "metadata": {},
   "outputs": [
    {
     "data": {
      "text/plain": [
       "[<tf.Variable 'f/kernel:0' shape=(2, 3) dtype=float32, numpy=\n",
       " array([[-0.5865167 ,  0.88049126, -0.5942419 ],\n",
       "        [ 0.759868  , -0.6607981 ,  0.2906462 ]], dtype=float32)>,\n",
       " <tf.Variable 'f/bias:0' shape=(3,) dtype=float32, numpy=array([0., 0., 0.], dtype=float32)>]"
      ]
     },
     "execution_count": 20,
     "metadata": {},
     "output_type": "execute_result"
    }
   ],
   "source": [
    "from keras.layers import Dense \n",
    "import numpy as np\n",
    "\n",
    "d = Dense(3, activation=\"linear\", input_shape = (2,), use_bias=True, name=\"f\")\n",
    "x = np.array([[1,2]])\n",
    "d(x)\n",
    "d.weights\n",
    "#d.get_weights()"
   ]
  },
  {
   "cell_type": "code",
   "execution_count": null,
   "metadata": {},
   "outputs": [],
   "source": [
    "w = np.array([[1 ,  2 , 3],\n",
    "              [0,   1 ,  2]])\n",
    "b = np.array([0.,0.,0.])\n",
    "\n",
    "d.set_weights([w,b])\n",
    "d.weights"
   ]
  },
  {
   "cell_type": "code",
   "execution_count": null,
   "metadata": {},
   "outputs": [],
   "source": [
    "d(x)"
   ]
  },
  {
   "cell_type": "markdown",
   "metadata": {},
   "source": [
    "# Sequential Model"
   ]
  },
  {
   "cell_type": "code",
   "execution_count": null,
   "metadata": {},
   "outputs": [],
   "source": [
    "model = tf.keras.models.Sequential()\n",
    "model.add(Dense(3, activation='relu', input_shape=(2,)))\n",
    "model.add(Dense(3, activation='relu'))\n",
    "model.add(Dense(2, activation='softmax'))\n",
    "\n",
    "x = np.array([[1,2]])\n",
    "model(x)"
   ]
  },
  {
   "cell_type": "code",
   "execution_count": null,
   "metadata": {},
   "outputs": [],
   "source": [
    "model.weights"
   ]
  },
  {
   "cell_type": "code",
   "execution_count": null,
   "metadata": {},
   "outputs": [],
   "source": [
    "model.layers\n",
    "model.layers[0].weights\n",
    "\n",
    "model.summary()"
   ]
  },
  {
   "cell_type": "markdown",
   "metadata": {},
   "source": [
    "# Real example"
   ]
  },
  {
   "cell_type": "code",
   "execution_count": null,
   "metadata": {},
   "outputs": [],
   "source": [
    "import matplotlib.pyplot as plt\n",
    "\n",
    "model = tf.keras.Sequential()\n",
    "model.add(Dense(units=3, activation=\"relu\", input_shape=[1]))\n",
    "model.add(Dense(units=1, activation=\"linear\"))\n",
    "\n",
    "\n",
    "model.compile(optimizer='sgd', loss='mean_squared_error')\n",
    "# Declare model inputs and outputs for training\n",
    "xs = np.array([-1.0,  0.0, 1.0, 2.0, 5.0, 9.0], dtype=float)\n",
    "ys = np.array([-3.0, -1.0, 1.0, 4.0, 7.0, 7.0], dtype=float)\n",
    "\n",
    "plt.plot(xs,ys, marker='o')\n",
    "plt.grid()"
   ]
  },
  {
   "cell_type": "code",
   "execution_count": null,
   "metadata": {},
   "outputs": [],
   "source": [
    "tfx = tf.data.Dataset.from_tensor_slices(xs)\n",
    "tfy = tf.data.Dataset.from_tensor_slices(ys)\n",
    "\n",
    "model.fit(xs, ys, epochs=250, verbose=False)\n",
    "yh = model.predict(xs)\n",
    "\n",
    "plt.figure(figsize=(14,5))\n",
    "plt.plot(xs,ys, marker='o')\n",
    "plt.plot(xs,yh, marker='x')"
   ]
  },
  {
   "cell_type": "code",
   "execution_count": null,
   "metadata": {},
   "outputs": [],
   "source": [
    "model.summary()"
   ]
  },
  {
   "cell_type": "code",
   "execution_count": null,
   "metadata": {},
   "outputs": [],
   "source": [
    "model.fit(xs, ys, epochs=250*4, verbose=False)\n",
    "yh = model.predict(xs)\n",
    "\n",
    "plt.figure(figsize=(14,5))\n",
    "plt.plot(xs,ys, marker='o')\n",
    "plt.plot(xs,yh, marker='x')"
   ]
  },
  {
   "cell_type": "code",
   "execution_count": null,
   "metadata": {},
   "outputs": [],
   "source": [
    "model.fit(xs, ys, epochs=250*10, verbose=False)\n",
    "yh = model.predict(xs)\n",
    "\n",
    "plt.figure(figsize=(14,5))\n",
    "plt.plot(xs,ys, marker='o')\n",
    "plt.plot(xs,yh, marker='x')"
   ]
  },
  {
   "cell_type": "markdown",
   "metadata": {},
   "source": [
    "# References\n",
    "\n",
    "To learn more, refer to:\n",
    "\n",
    "- <a href=\"https://www.oreilly.com/library/view/hands-on-machine-learning/9781492032632/\" class=\"external\">Hands-on Machine Learning with Scikit-Learn, Keras, and TensorFlow</a>, 2nd Edition.\n",
    "- <a href=\"https://www.tensorflow.org/tutorials/structured_data/time_series#multi-step_dense\"> Time series analysis </a>\n",
    "\n",
    "- <a href=https://towardsdatascience.com/step-by-step-understanding-lstm-autoencoder-layers-ffab055b6352>Step-by-step understanding LSTM Autoencoder layers</a>\n",
    "\n",
    "## The END"
   ]
  }
 ],
 "metadata": {
  "hide_input": false,
  "kernelspec": {
   "display_name": "Python 3 (ipykernel)",
   "language": "python",
   "name": "python3"
  },
  "language_info": {
   "codemirror_mode": {
    "name": "ipython",
    "version": 3
   },
   "file_extension": ".py",
   "mimetype": "text/x-python",
   "name": "python",
   "nbconvert_exporter": "python",
   "pygments_lexer": "ipython3",
   "version": "3.8.3"
  },
  "toc": {
   "base_numbering": 1,
   "nav_menu": {},
   "number_sections": true,
   "sideBar": true,
   "skip_h1_title": false,
   "title_cell": "Table of Contents",
   "title_sidebar": "Contents",
   "toc_cell": false,
   "toc_position": {},
   "toc_section_display": true,
   "toc_window_display": false
  },
  "vscode": {
   "interpreter": {
    "hash": "dff0aaeeb8ee9738611fdcb903e0426fbcf38bc2d039ac205716a81cc1909598"
   }
  }
 },
 "nbformat": 4,
 "nbformat_minor": 2
}
