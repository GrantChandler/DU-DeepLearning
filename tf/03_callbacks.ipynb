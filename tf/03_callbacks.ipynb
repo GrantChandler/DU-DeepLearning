{
 "cells": [
  {
   "attachments": {},
   "cell_type": "markdown",
   "metadata": {},
   "source": [
    "### Using callbacks"
   ]
  },
  {
   "cell_type": "code",
   "execution_count": null,
   "metadata": {},
   "outputs": [],
   "source": [
    "# Import standard libraries that you may use most times\n",
    "import tensorflow as tf\n",
    "import matplotlib.pyplot as plt\n",
    "import numpy as np\n",
    "\n",
    "# -------------------------------------------------------------------------\n",
    "# 1. Some book keeping    \n",
    "print(\"TensorFlow version:\", tf.__version__)\n",
    "\n",
    "\n",
    "# 2. Load the data set\n",
    "mnist = tf.keras.datasets.mnist\n",
    "(x_train, y_train), (x_test, y_test) = mnist.load_data()\n",
    "\n",
    "# Normalize the data to 0 through 1\n",
    "x_train, x_test = x_train / 255.0, x_test / 255.0\n",
    "\n",
    "print(\"Shape of the data\", x_train.shape, y_train.shape, x_test.shape, y_test.shape)\n",
    "# -------------------------------------------------------------------------\n",
    "def plot( x=x_train, y= y_train, image_index=888, yh=\"\"):\n",
    "    plt.imshow(x[image_index], cmap='Greys');\n",
    "    plt.title (f\"{y[image_index]}: ^{yh}\" );\n",
    "    plt.tick_params(left= False, labelleft = False , labelbottom = False, bottom = False)\n",
    "\n",
    "# 3. Create a model\n",
    "\n",
    "model = tf.keras.models.Sequential([\n",
    "  tf.keras.layers.Flatten(input_shape=(28, 28)),\n",
    "  tf.keras.layers.Dense(128, activation='relu'),\n",
    "  tf.keras.layers.Dropout(0.2),\n",
    "  tf.keras.layers.Dense(10, activation=\"softmax\")\n",
    "])\n",
    "\n",
    "# 4 Compile the model\n",
    "model.compile(optimizer=\"adam\", loss=\"sparse_categorical_crossentropy\", metrics=['accuracy'])\n"
   ]
  },
  {
   "attachments": {},
   "cell_type": "markdown",
   "metadata": {},
   "source": [
    "### Call Back code"
   ]
  },
  {
   "cell_type": "code",
   "execution_count": null,
   "metadata": {
    "execution": {
     "iopub.execute_input": "2023-01-05T02:22:20.138349Z",
     "iopub.status.busy": "2023-01-05T02:22:20.137735Z",
     "iopub.status.idle": "2023-01-05T02:22:45.502142Z",
     "shell.execute_reply": "2023-01-05T02:22:45.501107Z"
    },
    "id": "y7suUbJXVLqP"
   },
   "outputs": [],
   "source": [
    "# Creating custom call backs\n",
    "## You may overide these callbacks and do processing.\n",
    "## This includes ending training, saving models etc.\n",
    "\n",
    "#def on_train_begin(self, logs=None)\n",
    "#def on_train_end(self, logs=None):\n",
    "#def on_test_begin(self, logs=None):\n",
    "#def on_test_end(self, logs=None):\n",
    "#def on_predict_begin(self, logs=None):\n",
    "#def on_predict_end(self, logs=None):\n",
    "#def on_train_batch_begin(self, batch, logs=None):\n",
    "#def on_train_batch_end(self, batch, logs=None):\n",
    "#def on_test_batch_begin(self, batch, logs=None):\n",
    "#def on_test_batch_end(self, batch, logs=None):\n",
    "#def on_predict_batch_begin(self, batch, logs=None):\n",
    "#def on_predict_batch_end(self, batch, logs=None):\n",
    "\n",
    "# ---------------------------------------------------------------------------\n",
    "class MyCallback1(tf.keras.callbacks.Callback):\n",
    "    def on_epoch_begin(self, epoch, logs=None):\n",
    "        keys = list(logs.keys())\n",
    "        print(f\"MyCallback1:++ epoch {epoch}; keys: {keys} val: {logs}\")\n",
    "\n",
    "    def on_epoch_end(self, epoch, logs=None):\n",
    "        keys = list(logs.keys())\n",
    "        print(f\"MyCallback1:-- epoch {epoch}; keys: {keys} val: {logs['accuracy']}\")\n",
    "\n",
    "# ---------------------------------------------------------------------------\n",
    "class MyCallback2(tf.keras.callbacks.Callback):\n",
    "    # You can add more customizzation\n",
    "    def __init__(self, msg=\"My Message\"):\n",
    "        super(tf.keras.callbacks.Callback, self).__init__()\n",
    "\n",
    "    def on_train_begin(self, logs=None):\n",
    "        keys = list(logs.keys())\n",
    "        print(f\">>> MyCallback2: Training Start; keys: {keys}\")\n",
    "\n",
    "    def on_train_end(self, logs=None):\n",
    "        keys = list(logs.keys())\n",
    "        vloss = logs.get(\"loss\")\n",
    "        # You can end training using following code\n",
    "        # self.model.stop_training = True\n",
    "        # Or\n",
    "        # You can save the model\n",
    "        #\n",
    "        # self.model.save(\"_latest\", overwrite=True)\n",
    "\n",
    "        print(f\">>> MyCallback2: Training End  of training; keys: {keys}\")\n"
   ]
  },
  {
   "cell_type": "code",
   "execution_count": null,
   "metadata": {},
   "outputs": [],
   "source": [
    "# You can also use pre built callbacks\n",
    "# See refrence: https://www.tensorflow.org/api_docs/python/tf/keras/callbacks\n",
    "#\n",
    "'''\n",
    "class ModelCheckpoint:      Callback to save the Keras model or model weights at some frequency.\n",
    "class ProgbarLogger:        Callback that prints metrics to stdout.\n",
    "class ReduceLROnPlateau:    Reduce learning rate when a metric has stopped improving.\n",
    "class RemoteMonitor:        Callback used to stream events to a server.\n",
    "class TensorBoard:          Enable visualizations for TensorBoard.\n",
    "''';"
   ]
  },
  {
   "cell_type": "code",
   "execution_count": null,
   "metadata": {},
   "outputs": [],
   "source": [
    "# fit returns the history object that you can use to check the losses and accuracy.\n",
    "\n",
    "hist = model.fit(x_train, y_train, epochs=3, verbose= False, callbacks=[MyCallback1(), MyCallback2()])"
   ]
  },
  {
   "cell_type": "code",
   "execution_count": null,
   "metadata": {},
   "outputs": [],
   "source": [
    "import random\n",
    "\n",
    "for j in range(5):\n",
    "    i=random.randint(0,len(x_test))\n",
    "    plt.figure(figsize=(1,1))\n",
    "    p = model(x_test[i, np.newaxis])\n",
    "    plot(x_test, y_test, i, f'{i} - {np.argmax(p)}')\n",
    "    plt.show()"
   ]
  }
 ],
 "metadata": {
  "colab": {
   "name": "beginner.ipynb",
   "toc_visible": true
  },
  "kernelspec": {
   "display_name": "py39",
   "language": "python",
   "name": "python3"
  },
  "language_info": {
   "codemirror_mode": {
    "name": "ipython",
    "version": 3
   },
   "file_extension": ".py",
   "mimetype": "text/x-python",
   "name": "python",
   "nbconvert_exporter": "python",
   "pygments_lexer": "ipython3",
   "version": "3.8.3"
  },
  "vscode": {
   "interpreter": {
    "hash": "dff0aaeeb8ee9738611fdcb903e0426fbcf38bc2d039ac205716a81cc1909598"
   }
  }
 },
 "nbformat": 4,
 "nbformat_minor": 0
}
