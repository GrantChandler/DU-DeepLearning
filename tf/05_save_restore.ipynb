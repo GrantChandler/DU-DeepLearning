{
 "cells": [
  {
   "attachments": {},
   "cell_type": "markdown",
   "metadata": {},
   "source": [
    "# Saving and Restoring Models\n",
    "\n",
    "* Once you train your models, you may save it and reload it later.\n",
    "* You may save just the weights or the whole architecture \n",
    "* Saving the model includin the architecture uses bit more space but well worth it\n"
   ]
  },
  {
   "cell_type": "code",
   "execution_count": 7,
   "metadata": {},
   "outputs": [
    {
     "name": "stdout",
     "output_type": "stream",
     "text": [
      "TensorFlow version: 2.11.0\n",
      "Shape of the data (60000, 28, 28) (60000,) (10000, 28, 28) (10000,)\n",
      ">>> Callback2Save: Training Start; keys: []\n",
      ">>> Callback2Save: Training End  of training; <keras.engine.sequential.Sequential object at 0x7fc9a1392a60>\n"
     ]
    },
    {
     "data": {
      "text/plain": [
       "<keras.callbacks.History at 0x7fc9909b9c10>"
      ]
     },
     "execution_count": 7,
     "metadata": {},
     "output_type": "execute_result"
    }
   ],
   "source": [
    "# Import standard libraries that you may use most times\n",
    "import tensorflow as tf\n",
    "import matplotlib.pyplot as plt\n",
    "import numpy as np\n",
    "import random\n",
    "\n",
    "# -------------------------------------------------------------------------\n",
    "# 1. Some book keeping    \n",
    "print(\"TensorFlow version:\", tf.__version__)\n",
    "\n",
    "\n",
    "# 2. Load the data set\n",
    "mnist = tf.keras.datasets.mnist\n",
    "(x_train, y_train), (x_test, y_test) = mnist.load_data()\n",
    "\n",
    "# Normalize the data to 0 through 1\n",
    "x_train, x_test = x_train / 255.0, x_test / 255.0\n",
    "\n",
    "print(\"Shape of the data\", x_train.shape, y_train.shape, x_test.shape, y_test.shape)\n",
    "# -------------------------------------------------------------------------\n",
    "def plot( x=x_train, y= y_train, image_index=888, yh=\"\"):\n",
    "    plt.imshow(x[image_index], cmap='Greys');\n",
    "    plt.title (f\"{y[image_index]}: ^{yh}\" );\n",
    "    plt.tick_params(left= False, labelleft = False , labelbottom = False, bottom = False)\n",
    "\n",
    "# -------------------------------------------------------------------------\n",
    "# 3. Create a model\n",
    "model = tf.keras.models.Sequential([\n",
    "  tf.keras.layers.Flatten(input_shape=(28, 28)),\n",
    "  tf.keras.layers.Dense(128, activation='relu'),\n",
    "  tf.keras.layers.Dropout(0.2),\n",
    "  tf.keras.layers.Dense(10, activation=\"softmax\")\n",
    "])\n",
    "\n",
    "# -------------------------------------------------------------------------\n",
    "# 4 Compile and fit the model\n",
    "\n",
    "# Creating custom call backs => you may use call backs to save models automatically\n",
    "class Callback2Save(tf.keras.callbacks.Callback):\n",
    "    def on_train_begin(self, logs=None):\n",
    "        keys = list(logs.keys())\n",
    "        print(f\">>> Callback2Save: Training Start; keys: {keys}\")\n",
    "\n",
    "    def on_train_end(self, logs=None):\n",
    "        print(f\">>> Callback2Save: Training End  of training; {self.model}\")\n",
    "\n",
    "model.compile(optimizer=\"adam\", loss=\"sparse_categorical_crossentropy\", metrics=['accuracy'])\n",
    "model.fit(x_train, y_train, epochs=3, verbose= False, callbacks=[ Callback2Save()])\n"
   ]
  },
  {
   "cell_type": "code",
   "execution_count": 9,
   "metadata": {},
   "outputs": [
    {
     "name": "stdout",
     "output_type": "stream",
     "text": [
      "ls: model: No such file or directory\n"
     ]
    }
   ],
   "source": [
    "!ls -l model"
   ]
  },
  {
   "cell_type": "code",
   "execution_count": 10,
   "metadata": {},
   "outputs": [
    {
     "name": "stderr",
     "output_type": "stream",
     "text": [
      "WARNING:absl:Found untraced functions such as _update_step_xla while saving (showing 1 of 1). These functions will not be directly callable after loading.\n"
     ]
    },
    {
     "name": "stdout",
     "output_type": "stream",
     "text": [
      "INFO:tensorflow:Assets written to: model/assets\n"
     ]
    },
    {
     "name": "stderr",
     "output_type": "stream",
     "text": [
      "INFO:tensorflow:Assets written to: model/assets\n"
     ]
    }
   ],
   "source": [
    "model.save(\"model\", overwrite=True, include_optimizer=True )\n",
    "# You should see the file if it is not already saved with new date and time"
   ]
  },
  {
   "cell_type": "code",
   "execution_count": 12,
   "metadata": {},
   "outputs": [
    {
     "name": "stdout",
     "output_type": "stream",
     "text": [
      "total 208\n",
      "drwxr-xr-x  2 snarayan  wheel     64 Jan 22 14:28 \u001b[34massets\u001b[m\u001b[m\n",
      "-rw-r--r--  1 snarayan  wheel     56 Jan 22 14:28 fingerprint.pb\n",
      "-rw-r--r--  1 snarayan  wheel   8709 Jan 22 14:28 keras_metadata.pb\n",
      "-rw-r--r--  1 snarayan  wheel  86838 Jan 22 14:28 saved_model.pb\n",
      "drwxr-xr-x  4 snarayan  wheel    128 Jan 22 14:28 \u001b[34mvariables\u001b[m\u001b[m\n"
     ]
    }
   ],
   "source": [
    "!ls -l model"
   ]
  },
  {
   "attachments": {},
   "cell_type": "markdown",
   "metadata": {},
   "source": [
    "### Test Model"
   ]
  },
  {
   "cell_type": "code",
   "execution_count": 13,
   "metadata": {},
   "outputs": [
    {
     "data": {
      "image/png": "[encoded data removed]",
      "text/plain": [
       "<Figure size 100x100 with 1 Axes>"
      ]
     },
     "metadata": {},
     "output_type": "display_data"
    },
    {
     "data": {
      "image/png": "[encoded data removed]",
      "text/plain": [
       "<Figure size 100x100 with 1 Axes>"
      ]
     },
     "metadata": {},
     "output_type": "display_data"
    },
    {
     "data": {
      "image/png": "[encoded data removed]",
      "text/plain": [
       "<Figure size 100x100 with 1 Axes>"
      ]
     },
     "metadata": {},
     "output_type": "display_data"
    },
    {
     "data": {
      "image/png": "[encoded data removed]",
      "text/plain": [
       "<Figure size 100x100 with 1 Axes>"
      ]
     },
     "metadata": {},
     "output_type": "display_data"
    },
    {
     "data": {
      "image/png": "[encoded data removed]",
      "text/plain": [
       "<Figure size 100x100 with 1 Axes>"
      ]
     },
     "metadata": {},
     "output_type": "display_data"
    }
   ],
   "source": [
    "# Lets load the model and use it for modelling or coninuous training\n",
    "\n",
    "model1 = tf.keras.models.load_model(\"model\") # compile=True\n",
    "for j in range(5):\n",
    "    i=random.randint(0,len(x_test))\n",
    "    plt.figure(figsize=(1,1))\n",
    "    p = model1(x_test[i, np.newaxis])\n",
    "    plot(x_test, y_test, i, f'{i} - {np.argmax(p)}')\n",
    "    plt.show()\n"
   ]
  },
  {
   "cell_type": "code",
   "execution_count": null,
   "metadata": {},
   "outputs": [],
   "source": []
  }
 ],
 "metadata": {
  "colab": {
   "name": "beginner.ipynb",
   "toc_visible": true
  },
  "kernelspec": {
   "display_name": "py39",
   "language": "python",
   "name": "python3"
  },
  "language_info": {
   "codemirror_mode": {
    "name": "ipython",
    "version": 3
   },
   "file_extension": ".py",
   "mimetype": "text/x-python",
   "name": "python",
   "nbconvert_exporter": "python",
   "pygments_lexer": "ipython3",
   "version": "3.8.3 (default, Jul  2 2020, 11:26:31) \n[Clang 10.0.0 ]"
  },
  "vscode": {
   "interpreter": {
    "hash": "dff0aaeeb8ee9738611fdcb903e0426fbcf38bc2d039ac205716a81cc1909598"
   }
  }
 },
 "nbformat": 4,
 "nbformat_minor": 0
}
