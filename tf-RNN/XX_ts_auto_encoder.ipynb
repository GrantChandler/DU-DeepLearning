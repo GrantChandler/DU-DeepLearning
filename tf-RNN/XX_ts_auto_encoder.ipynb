{
 "cells": [
  {
   "attachments": {},
   "cell_type": "markdown",
   "metadata": {
    "id": "XVhK72Pu1cJL"
   },
   "source": [
    "#### Anomaly Detection - Imports and Setup"
   ]
  },
  {
   "cell_type": "code",
   "execution_count": null,
   "metadata": {
    "execution": {
     "iopub.execute_input": "2022-12-14T02:53:20.699018Z",
     "iopub.status.busy": "2022-12-14T02:53:20.698277Z",
     "iopub.status.idle": "2022-12-14T02:53:23.285398Z",
     "shell.execute_reply": "2022-12-14T02:53:23.284632Z"
    },
    "id": "7rZnJaGTWQw0"
   },
   "outputs": [],
   "source": [
    "%reload_ext autoreload\n",
    "%autoreload 2\n",
    "import tensorflow\n",
    "import tensorflow as tf\n",
    "from tensorflow import keras\n",
    "from keras.callbacks  import EarlyStopping\n",
    "from keras.models import Sequential, Model\n",
    "from keras.layers import Lambda, Dropout, SimpleRNN, Dense, LSTM, RepeatVector, Input, TimeDistributed, concatenate\n",
    "from keras import regularizers\n",
    "from keras.utils import plot_model\n",
    "\n",
    "import IPython, IPython.display, os, datetime\n",
    "import matplotlib as mpl\n",
    "import matplotlib.pyplot as plt\n",
    "import numpy as np\n",
    "import pandas as pd\n",
    "import ts_utils\n",
    "import ts_plot_utils\n",
    "\n",
    "mpl.rcParams['figure.figsize'] = (14, 4)\n",
    "mpl.rcParams['axes.grid'] = True\n",
    "\n",
    "print(f\"Tensorflow Version {tf.__version__}, Keras Vesion: {keras.__version__}\")\n"
   ]
  },
  {
   "cell_type": "code",
   "execution_count": null,
   "metadata": {},
   "outputs": [],
   "source": [
    "# Read the data\n",
    "df, df_scaled_trn, df_scaled_tst, scaler = ts_utils.load_file()\n",
    "print(\"Training Data:\")\n",
    "display(df_scaled_trn)\n",
    "\n",
    "input_slice  = slice(0,30000)\n",
    "label_slice  = slice(0,3)\n",
    "window_len   = 24\n",
    "ouput_len    = 1\n",
    "batch_size   = 20\n",
    "\n",
    "ouput_feat_len  = label_slice.stop - (label_slice.start or 0)\n",
    "model_op_len    = ouput_feat_len * ouput_len\n",
    "\n",
    "ds_trn = tf.data.Dataset.from_tensor_slices(df_scaled_trn[df_scaled_trn.columns[input_slice]])\n",
    "ds_tst = tf.data.Dataset.from_tensor_slices(df_scaled_tst[df_scaled_trn.columns[input_slice]])\n",
    "window_trn = ts_utils.window(ds_trn, window_len, ouput_len, label_slice, batch_size=batch_size, skip=0)\n",
    "window_tst = ts_utils.window(ds_tst, window_len, ouput_len, label_slice, batch_size=batch_size, skip=0)\n",
    "\n",
    "window_trn100 = ts_utils.window(ds_trn, window_len, ouput_len, label_slice, batch_size=100000, skip=0)\n",
    "window_tst100 = ts_utils.window(ds_tst, window_len, ouput_len, label_slice, batch_size=100000, skip=0)\n",
    "\n",
    "inp_feat_len = ds_trn.element_spec.shape[0]"
   ]
  },
  {
   "attachments": {},
   "cell_type": "markdown",
   "metadata": {},
   "source": [
    "#### What is Repeat Vector Layer\n",
    "\n",
    ">>\n",
    "```\n",
    "    RepeatVector(n)\n",
    "```\n",
    "\n",
    "RepeatVector layer simply repeats the provided 2D input n times to create 3D output.\n",
    "See the example below\n",
    "\n",
    "```\n",
    ">>>  RepeatVector(4)(np.array([[1,1]]))\n",
    "\n",
    "<tf.Tensor: shape=(1, 4, 2), dtype=int64, numpy=\n",
    "array([[[1, 1],\n",
    "        [1, 1],\n",
    "        [1, 1],\n",
    "        [1, 1]]])>\n",
    "```\n"
   ]
  },
  {
   "cell_type": "code",
   "execution_count": null,
   "metadata": {},
   "outputs": [],
   "source": [
    "RepeatVector(4)(np.array([[1,1]]))"
   ]
  },
  {
   "cell_type": "code",
   "execution_count": null,
   "metadata": {},
   "outputs": [],
   "source": [
    "inputs = np.random.random([32, 10, 8]).astype(np.float32)\n",
    "simple_rnn = tf.keras.layers.SimpleRNN(4)\n",
    "m = Sequential([simple_rnn])\n",
    "output = simple_rnn(inputs)  # The output has shape `[32, 4]`.\n",
    "#TimeDistributed()\n",
    "simple_rnn.weights\n",
    "m.compile()\n",
    "m(inputs)\n",
    "m.summary(), m.weights"
   ]
  },
  {
   "attachments": {},
   "cell_type": "markdown",
   "metadata": {},
   "source": [
    "### Create and Compile Models"
   ]
  },
  {
   "cell_type": "code",
   "execution_count": null,
   "metadata": {},
   "outputs": [],
   "source": [
    "inp_feat_len = ds_trn.element_spec.shape[0]\n",
    "\n",
    "performance = {}\n",
    "models = []\n",
    "\n",
    "dim = 128\n",
    "\n",
    "# Create Autoencoder Layer\n",
    "input_layer = Input(shape=(window_len, inp_feat_len), dtype='float32', name='input')\n",
    "memory_layer = LSTM(dim, return_sequences=True)(input_layer)\n",
    "memory_layer = LSTM (int(dim//2), return_sequences=False)(memory_layer)\n",
    "repeated_lyr = RepeatVector(window_len)(memory_layer)\n",
    "memory_layer = LSTM (int(dim//2), return_sequences=True)(repeated_lyr)\n",
    "memory_layer = LSTM (dim,  return_sequences=True)(memory_layer)\n",
    "decoded_inputs = TimeDistributed(Dense(units=inp_feat_len, activation='linear'))( memory_layer)\n",
    "\n",
    "dropout_input = Dropout(0.2)(input_layer)\n",
    "concat_layer = concatenate([dropout_input, decoded_inputs])\n",
    "memory_layer = LSTM(units=dim, \n",
    "                    kernel_regularizer = regularizers.l1_l2(l1= .1, l2= .1), \n",
    "                    recurrent_regularizer = regularizers.l1_l2(l1= .1, l2= .1), \n",
    "                    return_sequences=False)(concat_layer)\n",
    "preds = Dense(units=inp_feat_len, activation='linear')(memory_layer)\n",
    "\n",
    "umodel = Model(input_layer, preds)\n",
    "#umodel.summary()\n",
    "\n",
    "models.append(umodel)"
   ]
  },
  {
   "cell_type": "code",
   "execution_count": null,
   "metadata": {
    "execution": {
     "iopub.execute_input": "2022-12-14T03:04:30.807611Z",
     "iopub.status.busy": "2022-12-14T03:04:30.806770Z",
     "iopub.status.idle": "2022-12-14T03:05:37.592821Z",
     "shell.execute_reply": "2022-12-14T03:05:37.592112Z"
    },
    "id": "Bf1ks6RTzF64"
   },
   "outputs": [],
   "source": [
    "\n",
    "# LSTM Model\n",
    "lstm_model = tf.keras.Sequential([\n",
    "        # Shape [batch, time, features] => [batch, lstm_units].\n",
    "\n",
    "        tf.keras.layers.LSTM(64, return_sequences=False)\n",
    "    ]+ ts_utils.getCommonLayer(ouput_len, ouput_feat_len),\n",
    "    name = \"LSTM\"\n",
    ")\n",
    "models.append(lstm_model)"
   ]
  },
  {
   "cell_type": "code",
   "execution_count": null,
   "metadata": {},
   "outputs": [],
   "source": [
    "for i, model in enumerate(models):\n",
    "    print(f\"Now Compiling {i+1}/{len(models)} {model.name} \")\n",
    "    history = ts_utils.compile_fit(model, window_trn, window_tst, epochs=10, verbose=1)\n",
    "    IPython.display.clear_output()\n",
    "\n",
    "# Plot graphs\n",
    "performance = ts_plot_utils.plot_performance(models, window_trn, window_tst, performance=performance)"
   ]
  },
  {
   "attachments": {},
   "cell_type": "markdown",
   "metadata": {},
   "source": [
    "### Predictions"
   ]
  },
  {
   "cell_type": "code",
   "execution_count": null,
   "metadata": {},
   "outputs": [],
   "source": [
    "#model = lstm_model\n",
    "#ydf, pdf = ts_plot_utils.predict_and_plot( model, window_trn100, window_tst100, howmany=1024* 1024,\n",
    "#                        plot_start=-200, df=None, scaler=None, label_slice=None)\n",
    "#;"
   ]
  },
  {
   "attachments": {},
   "cell_type": "markdown",
   "metadata": {},
   "source": [
    "### The END"
   ]
  }
 ],
 "metadata": {
  "accelerator": "GPU",
  "colab": {
   "collapsed_sections": [],
   "name": "time_series.ipynb",
   "toc_visible": true
  },
  "kernelspec": {
   "display_name": "py3.9",
   "language": "python",
   "name": "python3"
  },
  "language_info": {
   "codemirror_mode": {
    "name": "ipython",
    "version": 3
   },
   "file_extension": ".py",
   "mimetype": "text/x-python",
   "name": "python",
   "nbconvert_exporter": "python",
   "pygments_lexer": "ipython3",
   "version": "3.9.12 (main, Apr  5 2022, 01:53:17) \n[Clang 12.0.0 ]"
  },
  "vscode": {
   "interpreter": {
    "hash": "5ef3244febf2748b7299853ebe20fbefab2f9f94ffe70cfaeb9efc5b5372c95d"
   }
  }
 },
 "nbformat": 4,
 "nbformat_minor": 0
}
