{
 "cells": [
  {
   "cell_type": "code",
   "execution_count": null,
   "metadata": {},
   "outputs": [],
   "source": [
    "# Import standard libraries that you may use most times\n",
    "import tensorflow as tf\n",
    "import matplotlib.pyplot as plt\n",
    "import numpy as np\n",
    "\n",
    "print(\"TensorFlow version:\", tf.__version__)"
   ]
  },
  {
   "cell_type": "code",
   "execution_count": null,
   "metadata": {},
   "outputs": [],
   "source": [
    "l1 = tf.keras.layers.SimpleRNN(units=4, return_sequences=True, return_state=True, activation=\"linear\")\n"
   ]
  },
  {
   "cell_type": "code",
   "execution_count": null,
   "metadata": {},
   "outputs": [],
   "source": [
    "# inputs: A 3D tensor, with shape [batch, timesteps, feature]\n",
    "# np.random.random([1, 4, 2]).astype(np.float32) \n",
    "x = np.array(\n",
    "    [[  [0 , 1 ],\n",
    "        [1 , 3 ],\n",
    "        [2 , 1 ],\n",
    "        [2 , 0 ]],\n",
    "\n",
    "     [  [1 , 1],\n",
    "        [2 , 3 ],\n",
    "        [1 , 1 ],\n",
    "        [0 , 1 ]],\n",
    "    ]).astype(np.float32)\n",
    "print(x, x.shape)\n",
    "yhs, final_state = l1(x[0, np.newaxis])\n",
    "yhs, final_state"
   ]
  },
  {
   "cell_type": "code",
   "execution_count": null,
   "metadata": {},
   "outputs": [],
   "source": [
    "l1.weights"
   ]
  },
  {
   "cell_type": "code",
   "execution_count": null,
   "metadata": {},
   "outputs": [],
   "source": [
    "a0 = np.array([[0,0,1,1], [0,1,1,0]]).astype(np.float32)\n",
    "w0 = np.array([[0,0,1,1], [0,1,1,0], [1,1,1,0], [0,1,1,0]]).astype(np.float32)\n",
    "b0 = np.array([0., 0., 0., 0.]).astype(np.float32)\n",
    "l1.set_weights([a0, w0, b0]) \n",
    "l1.weights"
   ]
  },
  {
   "cell_type": "code",
   "execution_count": null,
   "metadata": {},
   "outputs": [],
   "source": [
    "yhs, final_state = l1(x[0, np.newaxis])\n",
    "yhs, final_state"
   ]
  },
  {
   "cell_type": "code",
   "execution_count": null,
   "metadata": {},
   "outputs": [],
   "source": [
    "# inputs: A 3D tensor, with shape [batch, timesteps, feature]\n",
    "inputs = np.random.random([32, 10, 8]).astype(np.float32)\n",
    "simple_rnn = tf.keras.layers.SimpleRNN(4)\n",
    "\n",
    "output = simple_rnn(inputs)  # The output has shape `[32, 4]`.\n",
    "\n",
    "simple_rnn = tf.keras.layers.SimpleRNN(\n",
    "    4, return_sequences=True, return_state=True)\n",
    "\n",
    "# whole_sequence_output has shape `[32, 10, 4]`.\n",
    "# final_state has shape `[32, 4]`.\n",
    "whole_sequence_output, final_state = simple_rnn(inputs)"
   ]
  }
 ],
 "metadata": {
  "kernelspec": {
   "display_name": "Python 3",
   "language": "python",
   "name": "python3"
  },
  "language_info": {
   "codemirror_mode": {
    "name": "ipython",
    "version": 3
   },
   "file_extension": ".py",
   "mimetype": "text/x-python",
   "name": "python",
   "nbconvert_exporter": "python",
   "pygments_lexer": "ipython3",
   "version": "3.9.12 (main, Apr  5 2022, 01:53:17) \n[Clang 12.0.0 ]"
  },
  "vscode": {
   "interpreter": {
    "hash": "949777d72b0d2535278d3dc13498b2535136f6dfe0678499012e853ee9abcab1"
   }
  }
 },
 "nbformat": 4,
 "nbformat_minor": 2
}
