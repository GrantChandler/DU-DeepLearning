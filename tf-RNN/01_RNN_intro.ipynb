{
 "cells": [
  {
   "cell_type": "code",
   "execution_count": 1,
   "metadata": {},
   "outputs": [
    {
     "name": "stderr",
     "output_type": "stream",
     "text": [
      "2023-03-24 00:46:06.771268: I tensorflow/core/platform/cpu_feature_guard.cc:193] This TensorFlow binary is optimized with oneAPI Deep Neural Network Library (oneDNN) to use the following CPU instructions in performance-critical operations:  AVX2 FMA\n",
      "To enable them in other operations, rebuild TensorFlow with the appropriate compiler flags.\n"
     ]
    },
    {
     "name": "stdout",
     "output_type": "stream",
     "text": [
      "TensorFlow version: 2.11.0\n"
     ]
    }
   ],
   "source": [
    "# Import standard libraries that you may use most times\n",
    "import tensorflow as tf\n",
    "import matplotlib.pyplot as plt\n",
    "import numpy as np\n",
    "\n",
    "print(\"TensorFlow version:\", tf.__version__)"
   ]
  },
  {
   "cell_type": "code",
   "execution_count": 2,
   "metadata": {},
   "outputs": [],
   "source": [
    "l1 = tf.keras.layers.SimpleRNN(units=4, return_sequences=True, return_state=True, activation=\"linear\")\n"
   ]
  },
  {
   "cell_type": "code",
   "execution_count": 3,
   "metadata": {},
   "outputs": [
    {
     "name": "stdout",
     "output_type": "stream",
     "text": [
      "[[[0. 1.]\n",
      "  [1. 3.]\n",
      "  [2. 1.]\n",
      "  [2. 0.]]\n",
      "\n",
      " [[1. 1.]\n",
      "  [2. 3.]\n",
      "  [1. 1.]\n",
      "  [0. 1.]]] (2, 4, 2)\n"
     ]
    },
    {
     "name": "stderr",
     "output_type": "stream",
     "text": [
      "2023-03-24 00:46:22.099405: I tensorflow/core/platform/cpu_feature_guard.cc:193] This TensorFlow binary is optimized with oneAPI Deep Neural Network Library (oneDNN) to use the following CPU instructions in performance-critical operations:  AVX2 FMA\n",
      "To enable them in other operations, rebuild TensorFlow with the appropriate compiler flags.\n"
     ]
    },
    {
     "data": {
      "text/plain": [
       "(<tf.Tensor: shape=(1, 4, 4), dtype=float32, numpy=\n",
       " array([[[-0.71201634, -0.7456565 , -0.0841279 ,  0.19091058],\n",
       "         [-1.8633313 , -2.6850853 , -1.9883252 ,  0.72654545],\n",
       "         [ 0.37084705, -2.6974735 , -4.425899  ,  2.19847   ],\n",
       "         [ 3.9040022 , -3.9778283 , -3.5249481 ,  2.6152525 ]]],\n",
       "       dtype=float32)>,\n",
       " <tf.Tensor: shape=(1, 4), dtype=float32, numpy=array([[ 3.9040022, -3.9778283, -3.5249481,  2.6152525]], dtype=float32)>)"
      ]
     },
     "execution_count": 3,
     "metadata": {},
     "output_type": "execute_result"
    }
   ],
   "source": [
    "# inputs: A 3D tensor, with shape [batch, timesteps, feature]\n",
    "# np.random.random([1, 4, 2]).astype(np.float32) \n",
    "x = np.array(\n",
    "    [[  [0 , 1 ],\n",
    "        [1 , 3 ],\n",
    "        [2 , 1 ],\n",
    "        [2 , 0 ]],\n",
    "\n",
    "     [  [1 , 1],\n",
    "        [2 , 3 ],\n",
    "        [1 , 1 ],\n",
    "        [0 , 1 ]],\n",
    "    ]).astype(np.float32)\n",
    "print(x, x.shape)\n",
    "yhs, final_state = l1(x[0, np.newaxis])\n",
    "yhs, final_state"
   ]
  },
  {
   "cell_type": "code",
   "execution_count": 4,
   "metadata": {},
   "outputs": [
    {
     "data": {
      "text/plain": [
       "[<tf.Variable 'simple_rnn/simple_rnn_cell/kernel:0' shape=(2, 4) dtype=float32, numpy=\n",
       " array([[ 0.422287  , -0.5546026 , -0.81824684, -0.32641673],\n",
       "        [-0.71201634, -0.7456565 , -0.0841279 ,  0.19091058]],\n",
       "       dtype=float32)>,\n",
       " <tf.Variable 'simple_rnn/simple_rnn_cell/recurrent_kernel:0' shape=(4, 4) dtype=float32, numpy=\n",
       " array([[ 0.37514734, -0.6271418 ,  0.32896778, -0.59811205],\n",
       "        [ 0.09892067,  0.49630967,  0.862344  ,  0.01594465],\n",
       "        [-0.2846764 ,  0.47527102, -0.22606516, -0.8012312 ],\n",
       "        [ 0.87660635,  0.3667252 , -0.3115086 , -0.00603324]],\n",
       "       dtype=float32)>,\n",
       " <tf.Variable 'simple_rnn/simple_rnn_cell/bias:0' shape=(4,) dtype=float32, numpy=array([0., 0., 0., 0.], dtype=float32)>]"
      ]
     },
     "execution_count": 4,
     "metadata": {},
     "output_type": "execute_result"
    }
   ],
   "source": [
    "l1.weights"
   ]
  },
  {
   "cell_type": "code",
   "execution_count": 5,
   "metadata": {},
   "outputs": [
    {
     "data": {
      "text/plain": [
       "[<tf.Variable 'simple_rnn/simple_rnn_cell/kernel:0' shape=(2, 4) dtype=float32, numpy=\n",
       " array([[0., 0., 1., 1.],\n",
       "        [0., 1., 1., 0.]], dtype=float32)>,\n",
       " <tf.Variable 'simple_rnn/simple_rnn_cell/recurrent_kernel:0' shape=(4, 4) dtype=float32, numpy=\n",
       " array([[0., 0., 1., 1.],\n",
       "        [0., 1., 1., 0.],\n",
       "        [1., 1., 1., 0.],\n",
       "        [0., 1., 1., 0.]], dtype=float32)>,\n",
       " <tf.Variable 'simple_rnn/simple_rnn_cell/bias:0' shape=(4,) dtype=float32, numpy=array([0., 0., 0., 0.], dtype=float32)>]"
      ]
     },
     "execution_count": 5,
     "metadata": {},
     "output_type": "execute_result"
    }
   ],
   "source": [
    "a0 = np.array([[0,0,1,1], [0,1,1,0]]).astype(np.float32)\n",
    "w0 = np.array([[0,0,1,1], [0,1,1,0], [1,1,1,0], [0,1,1,0]]).astype(np.float32)\n",
    "b0 = np.array([0., 0., 0., 0.]).astype(np.float32)\n",
    "l1.set_weights([a0, w0, b0]) \n",
    "l1.weights"
   ]
  },
  {
   "cell_type": "code",
   "execution_count": 6,
   "metadata": {},
   "outputs": [
    {
     "data": {
      "text/plain": [
       "(<tf.Tensor: shape=(1, 4, 4), dtype=float32, numpy=\n",
       " array([[[ 0.,  1.,  1.,  0.],\n",
       "         [ 1.,  5.,  6.,  1.],\n",
       "         [ 6., 13., 16.,  3.],\n",
       "         [16., 32., 40.,  8.]]], dtype=float32)>,\n",
       " <tf.Tensor: shape=(1, 4), dtype=float32, numpy=array([[16., 32., 40.,  8.]], dtype=float32)>)"
      ]
     },
     "execution_count": 6,
     "metadata": {},
     "output_type": "execute_result"
    }
   ],
   "source": [
    "yhs, final_state = l1(x[0, np.newaxis])\n",
    "yhs, final_state"
   ]
  },
  {
   "cell_type": "code",
   "execution_count": null,
   "metadata": {},
   "outputs": [],
   "source": [
    "# inputs: A 3D tensor, with shape [batch, timesteps, feature]\n",
    "inputs = np.random.random([32, 10, 8]).astype(np.float32)\n",
    "simple_rnn = tf.keras.layers.SimpleRNN(4)\n",
    "\n",
    "output = simple_rnn(inputs)  # The output has shape `[32, 4]`.\n",
    "\n",
    "simple_rnn = tf.keras.layers.SimpleRNN(\n",
    "    4, return_sequences=True, return_state=True)\n",
    "\n",
    "# whole_sequence_output has shape `[32, 10, 4]`.\n",
    "# final_state has shape `[32, 4]`.\n",
    "whole_sequence_output, final_state = simple_rnn(inputs)"
   ]
  }
 ],
 "metadata": {
  "kernelspec": {
   "display_name": "Python 3",
   "language": "python",
   "name": "python3"
  },
  "language_info": {
   "codemirror_mode": {
    "name": "ipython",
    "version": 3
   },
   "file_extension": ".py",
   "mimetype": "text/x-python",
   "name": "python",
   "nbconvert_exporter": "python",
   "pygments_lexer": "ipython3",
   "version": "3.8.3"
  },
  "vscode": {
   "interpreter": {
    "hash": "949777d72b0d2535278d3dc13498b2535136f6dfe0678499012e853ee9abcab1"
   }
  }
 },
 "nbformat": 4,
 "nbformat_minor": 2
}
