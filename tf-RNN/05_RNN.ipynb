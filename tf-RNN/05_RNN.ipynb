{
 "cells": [
  {
   "cell_type": "code",
   "execution_count": 1,
   "metadata": {},
   "outputs": [
    {
     "name": "stdout",
     "output_type": "stream",
     "text": [
      "TensorFlow version: 2.4.3\n"
     ]
    }
   ],
   "source": [
    "# Import standard libraries that you may use most times\n",
    "import tensorflow as tf\n",
    "import matplotlib.pyplot as plt\n",
    "import numpy as np\n",
    "\n",
    "print(\"TensorFlow version:\", tf.__version__)"
   ]
  },
  {
   "cell_type": "code",
   "execution_count": 66,
   "metadata": {},
   "outputs": [],
   "source": [
    "l1 = tf.keras.layers.SimpleRNN(units=4, return_sequences=True, return_state=True, activation=\"linear\")\n"
   ]
  },
  {
   "cell_type": "code",
   "execution_count": 67,
   "metadata": {},
   "outputs": [
    {
     "name": "stdout",
     "output_type": "stream",
     "text": [
      "[[[0. 1.]\n",
      "  [1. 3.]\n",
      "  [2. 1.]\n",
      "  [2. 0.]]\n",
      "\n",
      " [[1. 1.]\n",
      "  [2. 3.]\n",
      "  [1. 1.]\n",
      "  [0. 1.]]] (2, 4, 2)\n"
     ]
    },
    {
     "data": {
      "text/plain": [
       "(<tf.Tensor: shape=(1, 4, 4), dtype=float32, numpy=\n",
       " array([[[-0.10598612, -0.9480407 ,  0.7599113 ,  0.96044517],\n",
       "         [-0.8094461 , -3.7728183 ,  3.7216744 ,  2.6788685 ],\n",
       "         [-0.76816225, -4.0299606 ,  5.4051733 , -1.5885403 ],\n",
       "         [ 3.6604376 , -4.421138  ,  4.3602686 , -1.8053069 ]]],\n",
       "       dtype=float32)>,\n",
       " <tf.Tensor: shape=(1, 4), dtype=float32, numpy=array([[ 3.6604376, -4.421138 ,  4.3602686, -1.8053069]], dtype=float32)>)"
      ]
     },
     "execution_count": 67,
     "metadata": {},
     "output_type": "execute_result"
    }
   ],
   "source": [
    "# inputs: A 3D tensor, with shape [batch, timesteps, feature]\n",
    "# np.random.random([1, 4, 2]).astype(np.float32) \n",
    "x = np.array(\n",
    "    [[  [0 , 1 ],\n",
    "        [1 , 3 ],\n",
    "        [2 , 1 ],\n",
    "        [2 , 0 ]],\n",
    "\n",
    "     [  [1 , 1],\n",
    "        [2 , 3 ],\n",
    "        [1 , 1 ],\n",
    "        [0 , 1 ]],\n",
    "    ]).astype(np.float32)\n",
    "print(x, x.shape)\n",
    "yhs, final_state = l1(x[0, np.newaxis])\n",
    "yhs, final_state"
   ]
  },
  {
   "cell_type": "code",
   "execution_count": 68,
   "metadata": {},
   "outputs": [
    {
     "data": {
      "text/plain": [
       "[<tf.Variable 'simple_rnn_11/simple_rnn_cell_11/kernel:0' shape=(2, 4) dtype=float32, numpy=\n",
       " array([[ 0.03224039, -0.37920523,  0.6904471 ,  0.92401433],\n",
       "        [-0.10598612, -0.9480407 ,  0.7599113 ,  0.96044517]],\n",
       "       dtype=float32)>,\n",
       " <tf.Variable 'simple_rnn_11/simple_rnn_cell_11/recurrent_kernel:0' shape=(4, 4) dtype=float32, numpy=\n",
       " array([[-0.3266722 , -0.7860833 , -0.31949604,  0.4162696 ],\n",
       "        [-0.07385284,  0.38113594,  0.28120703,  0.87761253],\n",
       "        [ 0.30142444, -0.47727275,  0.82483435, -0.03165685],\n",
       "        [-0.8927341 ,  0.09496891,  0.37214643, -0.23561338]],\n",
       "       dtype=float32)>,\n",
       " <tf.Variable 'simple_rnn_11/simple_rnn_cell_11/bias:0' shape=(4,) dtype=float32, numpy=array([0., 0., 0., 0.], dtype=float32)>]"
      ]
     },
     "execution_count": 68,
     "metadata": {},
     "output_type": "execute_result"
    }
   ],
   "source": [
    "l1.weights"
   ]
  },
  {
   "cell_type": "code",
   "execution_count": 69,
   "metadata": {},
   "outputs": [
    {
     "data": {
      "text/plain": [
       "[<tf.Variable 'simple_rnn_11/simple_rnn_cell_11/kernel:0' shape=(2, 4) dtype=float32, numpy=\n",
       " array([[0., 0., 1., 1.],\n",
       "        [0., 1., 1., 0.]], dtype=float32)>,\n",
       " <tf.Variable 'simple_rnn_11/simple_rnn_cell_11/recurrent_kernel:0' shape=(4, 4) dtype=float32, numpy=\n",
       " array([[0., 0., 1., 1.],\n",
       "        [0., 1., 1., 0.],\n",
       "        [1., 1., 1., 0.],\n",
       "        [0., 1., 1., 0.]], dtype=float32)>,\n",
       " <tf.Variable 'simple_rnn_11/simple_rnn_cell_11/bias:0' shape=(4,) dtype=float32, numpy=array([0., 0., 0., 0.], dtype=float32)>]"
      ]
     },
     "execution_count": 69,
     "metadata": {},
     "output_type": "execute_result"
    }
   ],
   "source": [
    "a0 = np.array([[0,0,1,1], [0,1,1,0]]).astype(np.float32)\n",
    "w0 = np.array([[0,0,1,1], [0,1,1,0], [1,1,1,0], [0,1,1,0]]).astype(np.float32)\n",
    "b0 = np.array([0., 0., 0., 0.]).astype(np.float32)\n",
    "l1.set_weights([a0, w0, b0]) \n",
    "l1.weights"
   ]
  },
  {
   "cell_type": "code",
   "execution_count": 70,
   "metadata": {},
   "outputs": [
    {
     "data": {
      "text/plain": [
       "(<tf.Tensor: shape=(1, 4, 4), dtype=float32, numpy=\n",
       " array([[[ 0.,  1.,  1.,  0.],\n",
       "         [ 1.,  5.,  6.,  1.],\n",
       "         [ 6., 13., 16.,  3.],\n",
       "         [16., 32., 40.,  8.]]], dtype=float32)>,\n",
       " <tf.Tensor: shape=(1, 4), dtype=float32, numpy=array([[16., 32., 40.,  8.]], dtype=float32)>)"
      ]
     },
     "execution_count": 70,
     "metadata": {},
     "output_type": "execute_result"
    }
   ],
   "source": [
    "yhs, final_state = l1(x[0, np.newaxis])\n",
    "yhs, final_state"
   ]
  },
  {
   "cell_type": "code",
   "execution_count": 17,
   "metadata": {},
   "outputs": [
    {
     "data": {
      "text/plain": [
       "<tf.Tensor: shape=(4, 4), dtype=float32, numpy=\n",
       "array([[ 0.62279004,  0.04022525,  0.3555005 ,  0.29787636],\n",
       "       [ 0.90325713, -0.03884618,  0.9596978 ,  0.78025365],\n",
       "       [ 0.3446492 ,  0.8397548 ,  0.6342527 , -0.47363558],\n",
       "       [-0.6701257 , -0.40392202,  0.48921576,  0.6713644 ]],\n",
       "      dtype=float32)>"
      ]
     },
     "execution_count": 17,
     "metadata": {},
     "output_type": "execute_result"
    }
   ],
   "source": [
    "# inputs: A 3D tensor, with shape [batch, timesteps, feature]\n",
    "inputs = np.random.random([32, 10, 8]).astype(np.float32)\n",
    "simple_rnn = tf.keras.layers.SimpleRNN(4)\n",
    "\n",
    "output = simple_rnn(inputs)  # The output has shape `[32, 4]`.\n",
    "\n",
    "simple_rnn = tf.keras.layers.SimpleRNN(\n",
    "    4, return_sequences=True, return_state=True)\n",
    "\n",
    "# whole_sequence_output has shape `[32, 10, 4]`.\n",
    "# final_state has shape `[32, 4]`.\n",
    "whole_sequence_output, final_state = simple_rnn(inputs)"
   ]
  }
 ],
 "metadata": {
  "kernelspec": {
   "display_name": "Python 3",
   "language": "python",
   "name": "python3"
  },
  "language_info": {
   "codemirror_mode": {
    "name": "ipython",
    "version": 3
   },
   "file_extension": ".py",
   "mimetype": "text/x-python",
   "name": "python",
   "nbconvert_exporter": "python",
   "pygments_lexer": "ipython3",
   "version": "3.8.3"
  },
  "orig_nbformat": 4,
  "vscode": {
   "interpreter": {
    "hash": "949777d72b0d2535278d3dc13498b2535136f6dfe0678499012e853ee9abcab1"
   }
  }
 },
 "nbformat": 4,
 "nbformat_minor": 2
}
