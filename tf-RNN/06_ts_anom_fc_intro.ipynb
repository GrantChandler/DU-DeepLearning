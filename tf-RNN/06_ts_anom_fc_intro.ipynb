{
 "cells": [
  {
   "attachments": {},
   "cell_type": "markdown",
   "metadata": {
    "id": "XVhK72Pu1cJL"
   },
   "source": [
    "#### Anomaly Detection - Imports and Setup"
   ]
  },
  {
   "cell_type": "code",
   "execution_count": 1,
   "metadata": {
    "execution": {
     "iopub.execute_input": "2022-12-14T02:53:20.699018Z",
     "iopub.status.busy": "2022-12-14T02:53:20.698277Z",
     "iopub.status.idle": "2022-12-14T02:53:23.285398Z",
     "shell.execute_reply": "2022-12-14T02:53:23.284632Z"
    },
    "id": "7rZnJaGTWQw0"
   },
   "outputs": [
    {
     "name": "stderr",
     "output_type": "stream",
     "text": [
      "2023-03-24 14:32:39.650573: I tensorflow/core/platform/cpu_feature_guard.cc:193] This TensorFlow binary is optimized with oneAPI Deep Neural Network Library (oneDNN) to use the following CPU instructions in performance-critical operations:  AVX2 FMA\n",
      "To enable them in other operations, rebuild TensorFlow with the appropriate compiler flags.\n"
     ]
    },
    {
     "name": "stdout",
     "output_type": "stream",
     "text": [
      "Tensorflow Version 2.11.0, Keras Vesion: 2.11.0\n"
     ]
    }
   ],
   "source": [
    "%reload_ext autoreload\n",
    "%autoreload 2\n",
    "import tensorflow\n",
    "import tensorflow as tf\n",
    "from tensorflow import keras\n",
    "from keras.models import Sequential, Model\n",
    "from keras.layers import Lambda, Dropout, SimpleRNN, Dense, LSTM, RepeatVector, Input, TimeDistributed, concatenate\n",
    "from keras import regularizers\n",
    "from keras.utils import plot_model\n",
    "\n",
    "import IPython, IPython.display, os, datetime\n",
    "import matplotlib as mpl\n",
    "import matplotlib.pyplot as plt\n",
    "import numpy as np\n",
    "import pandas as pd\n",
    "\n",
    "mpl.rcParams['figure.figsize'] = (14, 4)\n",
    "mpl.rcParams['axes.grid'] = True\n",
    "\n",
    "print(f\"Tensorflow Version {tf.__version__}, Keras Vesion: {keras.__version__}\")"
   ]
  },
  {
   "cell_type": "code",
   "execution_count": 2,
   "metadata": {},
   "outputs": [
    {
     "name": "stdout",
     "output_type": "stream",
     "text": [
      "WARNING:tensorflow:From /Users/snarayan/venv/py39/lib/python3.8/site-packages/tensorflow/python/autograph/pyct/static_analysis/liveness.py:83: Analyzer.lamba_check (from tensorflow.python.autograph.pyct.static_analysis.liveness) is deprecated and will be removed after 2023-09-23.\n",
      "Instructions for updating:\n",
      "Lambda fuctions will be no more assumed to be used in the statement where they are used, or at least in the same block. https://github.com/tensorflow/tensorflow/issues/56089\n"
     ]
    },
    {
     "name": "stderr",
     "output_type": "stream",
     "text": [
      "2023-03-24 14:32:45.751497: I tensorflow/core/platform/cpu_feature_guard.cc:193] This TensorFlow binary is optimized with oneAPI Deep Neural Network Library (oneDNN) to use the following CPU instructions in performance-critical operations:  AVX2 FMA\n",
      "To enable them in other operations, rebuild TensorFlow with the appropriate compiler flags.\n"
     ]
    },
    {
     "data": {
      "text/html": [
       "<div>\n",
       "<style scoped>\n",
       "    .dataframe tbody tr th:only-of-type {\n",
       "        vertical-align: middle;\n",
       "    }\n",
       "\n",
       "    .dataframe tbody tr th {\n",
       "        vertical-align: top;\n",
       "    }\n",
       "\n",
       "    .dataframe thead th {\n",
       "        text-align: right;\n",
       "    }\n",
       "</style>\n",
       "<table border=\"1\" class=\"dataframe\">\n",
       "  <thead>\n",
       "    <tr style=\"text-align: right;\">\n",
       "      <th></th>\n",
       "      <th>x1</th>\n",
       "      <th>x2</th>\n",
       "      <th>x3</th>\n",
       "      <th>x4</th>\n",
       "      <th>x5</th>\n",
       "      <th>x6</th>\n",
       "      <th>x7</th>\n",
       "      <th>x8</th>\n",
       "      <th>x9</th>\n",
       "      <th>x10</th>\n",
       "      <th>...</th>\n",
       "      <th>x48</th>\n",
       "      <th>x49</th>\n",
       "      <th>x50</th>\n",
       "      <th>x51</th>\n",
       "      <th>x52</th>\n",
       "      <th>x53</th>\n",
       "      <th>x54</th>\n",
       "      <th>x55</th>\n",
       "      <th>x56</th>\n",
       "      <th>x57</th>\n",
       "    </tr>\n",
       "  </thead>\n",
       "  <tbody>\n",
       "    <tr>\n",
       "      <th>0</th>\n",
       "      <td>0.660393</td>\n",
       "      <td>0.373556</td>\n",
       "      <td>0.413587</td>\n",
       "      <td>0.542776</td>\n",
       "      <td>0.256705</td>\n",
       "      <td>0.742871</td>\n",
       "      <td>0.201421</td>\n",
       "      <td>0.314546</td>\n",
       "      <td>0.018072</td>\n",
       "      <td>0.019907</td>\n",
       "      <td>...</td>\n",
       "      <td>0.587033</td>\n",
       "      <td>0.468376</td>\n",
       "      <td>0.841714</td>\n",
       "      <td>0.997247</td>\n",
       "      <td>0.979771</td>\n",
       "      <td>0.562500</td>\n",
       "      <td>0.038030</td>\n",
       "      <td>0.397786</td>\n",
       "      <td>0.551731</td>\n",
       "      <td>0.823712</td>\n",
       "    </tr>\n",
       "    <tr>\n",
       "      <th>1</th>\n",
       "      <td>0.676103</td>\n",
       "      <td>0.375140</td>\n",
       "      <td>0.415857</td>\n",
       "      <td>0.547187</td>\n",
       "      <td>0.255016</td>\n",
       "      <td>0.748360</td>\n",
       "      <td>0.201421</td>\n",
       "      <td>0.314546</td>\n",
       "      <td>0.018072</td>\n",
       "      <td>0.019907</td>\n",
       "      <td>...</td>\n",
       "      <td>0.587064</td>\n",
       "      <td>0.470738</td>\n",
       "      <td>0.841608</td>\n",
       "      <td>0.997247</td>\n",
       "      <td>0.979791</td>\n",
       "      <td>0.562875</td>\n",
       "      <td>0.037965</td>\n",
       "      <td>0.382678</td>\n",
       "      <td>0.559875</td>\n",
       "      <td>0.783305</td>\n",
       "    </tr>\n",
       "    <tr>\n",
       "      <th>2</th>\n",
       "      <td>0.658361</td>\n",
       "      <td>0.371061</td>\n",
       "      <td>0.406039</td>\n",
       "      <td>0.543794</td>\n",
       "      <td>0.253327</td>\n",
       "      <td>0.751006</td>\n",
       "      <td>0.206138</td>\n",
       "      <td>0.314546</td>\n",
       "      <td>0.027062</td>\n",
       "      <td>0.026475</td>\n",
       "      <td>...</td>\n",
       "      <td>0.587094</td>\n",
       "      <td>0.476883</td>\n",
       "      <td>0.841501</td>\n",
       "      <td>0.997247</td>\n",
       "      <td>0.979813</td>\n",
       "      <td>0.563251</td>\n",
       "      <td>0.037899</td>\n",
       "      <td>0.379259</td>\n",
       "      <td>0.568019</td>\n",
       "      <td>0.826988</td>\n",
       "    </tr>\n",
       "    <tr>\n",
       "      <th>3</th>\n",
       "      <td>0.648487</td>\n",
       "      <td>0.368784</td>\n",
       "      <td>0.415703</td>\n",
       "      <td>0.542234</td>\n",
       "      <td>0.251706</td>\n",
       "      <td>0.749051</td>\n",
       "      <td>0.202050</td>\n",
       "      <td>0.314546</td>\n",
       "      <td>0.030090</td>\n",
       "      <td>0.029810</td>\n",
       "      <td>...</td>\n",
       "      <td>0.587125</td>\n",
       "      <td>0.476006</td>\n",
       "      <td>0.841395</td>\n",
       "      <td>0.997247</td>\n",
       "      <td>0.979835</td>\n",
       "      <td>0.563617</td>\n",
       "      <td>0.037834</td>\n",
       "      <td>0.375840</td>\n",
       "      <td>0.557788</td>\n",
       "      <td>0.849920</td>\n",
       "    </tr>\n",
       "    <tr>\n",
       "      <th>4</th>\n",
       "      <td>0.642775</td>\n",
       "      <td>0.369048</td>\n",
       "      <td>0.406625</td>\n",
       "      <td>0.545633</td>\n",
       "      <td>0.250483</td>\n",
       "      <td>0.751955</td>\n",
       "      <td>0.201421</td>\n",
       "      <td>0.314546</td>\n",
       "      <td>0.027062</td>\n",
       "      <td>0.029810</td>\n",
       "      <td>...</td>\n",
       "      <td>0.587155</td>\n",
       "      <td>0.475128</td>\n",
       "      <td>0.841288</td>\n",
       "      <td>0.997247</td>\n",
       "      <td>0.979856</td>\n",
       "      <td>0.563992</td>\n",
       "      <td>0.037769</td>\n",
       "      <td>0.372421</td>\n",
       "      <td>0.558239</td>\n",
       "      <td>0.830264</td>\n",
       "    </tr>\n",
       "    <tr>\n",
       "      <th>...</th>\n",
       "      <td>...</td>\n",
       "      <td>...</td>\n",
       "      <td>...</td>\n",
       "      <td>...</td>\n",
       "      <td>...</td>\n",
       "      <td>...</td>\n",
       "      <td>...</td>\n",
       "      <td>...</td>\n",
       "      <td>...</td>\n",
       "      <td>...</td>\n",
       "      <td>...</td>\n",
       "      <td>...</td>\n",
       "      <td>...</td>\n",
       "      <td>...</td>\n",
       "      <td>...</td>\n",
       "      <td>...</td>\n",
       "      <td>...</td>\n",
       "      <td>...</td>\n",
       "      <td>...</td>\n",
       "      <td>...</td>\n",
       "      <td>...</td>\n",
       "    </tr>\n",
       "    <tr>\n",
       "      <th>14713</th>\n",
       "      <td>0.659086</td>\n",
       "      <td>0.487708</td>\n",
       "      <td>0.510244</td>\n",
       "      <td>0.704560</td>\n",
       "      <td>0.509098</td>\n",
       "      <td>0.790557</td>\n",
       "      <td>0.187411</td>\n",
       "      <td>0.435392</td>\n",
       "      <td>0.032408</td>\n",
       "      <td>0.026475</td>\n",
       "      <td>...</td>\n",
       "      <td>0.578335</td>\n",
       "      <td>0.299791</td>\n",
       "      <td>0.480062</td>\n",
       "      <td>0.997247</td>\n",
       "      <td>0.909209</td>\n",
       "      <td>0.536314</td>\n",
       "      <td>0.518520</td>\n",
       "      <td>0.512110</td>\n",
       "      <td>0.547505</td>\n",
       "      <td>0.599064</td>\n",
       "    </tr>\n",
       "    <tr>\n",
       "      <th>14714</th>\n",
       "      <td>0.645295</td>\n",
       "      <td>0.484320</td>\n",
       "      <td>0.513579</td>\n",
       "      <td>0.703416</td>\n",
       "      <td>0.509842</td>\n",
       "      <td>0.792274</td>\n",
       "      <td>0.191986</td>\n",
       "      <td>0.427516</td>\n",
       "      <td>0.033025</td>\n",
       "      <td>0.026475</td>\n",
       "      <td>...</td>\n",
       "      <td>0.578304</td>\n",
       "      <td>0.300468</td>\n",
       "      <td>0.480517</td>\n",
       "      <td>0.997247</td>\n",
       "      <td>0.909281</td>\n",
       "      <td>0.536141</td>\n",
       "      <td>0.518489</td>\n",
       "      <td>0.512647</td>\n",
       "      <td>0.558080</td>\n",
       "      <td>0.538220</td>\n",
       "    </tr>\n",
       "    <tr>\n",
       "      <th>14715</th>\n",
       "      <td>0.650842</td>\n",
       "      <td>0.484870</td>\n",
       "      <td>0.518746</td>\n",
       "      <td>0.702267</td>\n",
       "      <td>0.510587</td>\n",
       "      <td>0.784906</td>\n",
       "      <td>0.187411</td>\n",
       "      <td>0.427516</td>\n",
       "      <td>0.031605</td>\n",
       "      <td>0.026475</td>\n",
       "      <td>...</td>\n",
       "      <td>0.578273</td>\n",
       "      <td>0.301227</td>\n",
       "      <td>0.480973</td>\n",
       "      <td>0.997247</td>\n",
       "      <td>0.909353</td>\n",
       "      <td>0.535977</td>\n",
       "      <td>0.518458</td>\n",
       "      <td>0.508669</td>\n",
       "      <td>0.554702</td>\n",
       "      <td>0.538220</td>\n",
       "    </tr>\n",
       "    <tr>\n",
       "      <th>14716</th>\n",
       "      <td>0.649777</td>\n",
       "      <td>0.480964</td>\n",
       "      <td>0.516777</td>\n",
       "      <td>0.699081</td>\n",
       "      <td>0.511331</td>\n",
       "      <td>0.789797</td>\n",
       "      <td>0.187411</td>\n",
       "      <td>0.427516</td>\n",
       "      <td>0.030090</td>\n",
       "      <td>0.019907</td>\n",
       "      <td>...</td>\n",
       "      <td>0.578242</td>\n",
       "      <td>0.301985</td>\n",
       "      <td>0.481428</td>\n",
       "      <td>0.997247</td>\n",
       "      <td>0.909425</td>\n",
       "      <td>0.535804</td>\n",
       "      <td>0.518427</td>\n",
       "      <td>0.504692</td>\n",
       "      <td>0.555437</td>\n",
       "      <td>0.538220</td>\n",
       "    </tr>\n",
       "    <tr>\n",
       "      <th>14717</th>\n",
       "      <td>0.633735</td>\n",
       "      <td>0.483062</td>\n",
       "      <td>0.520301</td>\n",
       "      <td>0.701120</td>\n",
       "      <td>0.512075</td>\n",
       "      <td>0.795803</td>\n",
       "      <td>0.191986</td>\n",
       "      <td>0.419394</td>\n",
       "      <td>0.030090</td>\n",
       "      <td>0.019907</td>\n",
       "      <td>...</td>\n",
       "      <td>0.578212</td>\n",
       "      <td>0.302744</td>\n",
       "      <td>0.481890</td>\n",
       "      <td>0.997247</td>\n",
       "      <td>0.909496</td>\n",
       "      <td>0.535630</td>\n",
       "      <td>0.518397</td>\n",
       "      <td>0.507502</td>\n",
       "      <td>0.554299</td>\n",
       "      <td>0.570981</td>\n",
       "    </tr>\n",
       "  </tbody>\n",
       "</table>\n",
       "<p>14718 rows × 57 columns</p>\n",
       "</div>"
      ],
      "text/plain": [
       "             x1        x2        x3        x4        x5        x6        x7  \\\n",
       "0      0.660393  0.373556  0.413587  0.542776  0.256705  0.742871  0.201421   \n",
       "1      0.676103  0.375140  0.415857  0.547187  0.255016  0.748360  0.201421   \n",
       "2      0.658361  0.371061  0.406039  0.543794  0.253327  0.751006  0.206138   \n",
       "3      0.648487  0.368784  0.415703  0.542234  0.251706  0.749051  0.202050   \n",
       "4      0.642775  0.369048  0.406625  0.545633  0.250483  0.751955  0.201421   \n",
       "...         ...       ...       ...       ...       ...       ...       ...   \n",
       "14713  0.659086  0.487708  0.510244  0.704560  0.509098  0.790557  0.187411   \n",
       "14714  0.645295  0.484320  0.513579  0.703416  0.509842  0.792274  0.191986   \n",
       "14715  0.650842  0.484870  0.518746  0.702267  0.510587  0.784906  0.187411   \n",
       "14716  0.649777  0.480964  0.516777  0.699081  0.511331  0.789797  0.187411   \n",
       "14717  0.633735  0.483062  0.520301  0.701120  0.512075  0.795803  0.191986   \n",
       "\n",
       "             x8        x9       x10  ...       x48       x49       x50  \\\n",
       "0      0.314546  0.018072  0.019907  ...  0.587033  0.468376  0.841714   \n",
       "1      0.314546  0.018072  0.019907  ...  0.587064  0.470738  0.841608   \n",
       "2      0.314546  0.027062  0.026475  ...  0.587094  0.476883  0.841501   \n",
       "3      0.314546  0.030090  0.029810  ...  0.587125  0.476006  0.841395   \n",
       "4      0.314546  0.027062  0.029810  ...  0.587155  0.475128  0.841288   \n",
       "...         ...       ...       ...  ...       ...       ...       ...   \n",
       "14713  0.435392  0.032408  0.026475  ...  0.578335  0.299791  0.480062   \n",
       "14714  0.427516  0.033025  0.026475  ...  0.578304  0.300468  0.480517   \n",
       "14715  0.427516  0.031605  0.026475  ...  0.578273  0.301227  0.480973   \n",
       "14716  0.427516  0.030090  0.019907  ...  0.578242  0.301985  0.481428   \n",
       "14717  0.419394  0.030090  0.019907  ...  0.578212  0.302744  0.481890   \n",
       "\n",
       "            x51       x52       x53       x54       x55       x56       x57  \n",
       "0      0.997247  0.979771  0.562500  0.038030  0.397786  0.551731  0.823712  \n",
       "1      0.997247  0.979791  0.562875  0.037965  0.382678  0.559875  0.783305  \n",
       "2      0.997247  0.979813  0.563251  0.037899  0.379259  0.568019  0.826988  \n",
       "3      0.997247  0.979835  0.563617  0.037834  0.375840  0.557788  0.849920  \n",
       "4      0.997247  0.979856  0.563992  0.037769  0.372421  0.558239  0.830264  \n",
       "...         ...       ...       ...       ...       ...       ...       ...  \n",
       "14713  0.997247  0.909209  0.536314  0.518520  0.512110  0.547505  0.599064  \n",
       "14714  0.997247  0.909281  0.536141  0.518489  0.512647  0.558080  0.538220  \n",
       "14715  0.997247  0.909353  0.535977  0.518458  0.508669  0.554702  0.538220  \n",
       "14716  0.997247  0.909425  0.535804  0.518427  0.504692  0.555437  0.538220  \n",
       "14717  0.997247  0.909496  0.535630  0.518397  0.507502  0.554299  0.570981  \n",
       "\n",
       "[14718 rows x 57 columns]"
      ]
     },
     "execution_count": 2,
     "metadata": {},
     "output_type": "execute_result"
    }
   ],
   "source": [
    "import ts_utils\n",
    "import ts_plot_utils\n",
    "from sklearn.preprocessing import StandardScaler, MinMaxScaler\n",
    "import pickle\n",
    "\n",
    "# STEP 1: = >Lets just read the first few columns for testing\n",
    "df = pd.read_csv(\"../data/processminer-rare-event-mts.csv.zip\", sep=';', usecols=range(59))\n",
    "split = int (.8 * len(df) )\n",
    "df_scaled_trn = df [df.columns[2:] ][0:split ]\n",
    "df_scaled_tst = df [df.columns[2:] ][split: ]\n",
    "\n",
    "scaler = MinMaxScaler()\n",
    "df_scaled_trn = pd.DataFrame(scaler.fit_transform(df_scaled_trn), columns=df_scaled_trn.columns)\n",
    "df_scaled_tst = pd.DataFrame(scaler.transform(df_scaled_tst), columns=df_scaled_tst.columns)\n",
    "\n",
    "\n",
    "#  STEP 2: => Create window\n",
    "\n",
    "input_slice  = slice(0, len(df_scaled_trn.columns) )\n",
    "label_slice  = input_slice\n",
    "window_len   = 5\n",
    "ouput_len    = 1\n",
    "batch_size   = 64\n",
    "\n",
    "inp_feat_len    = input_slice.stop - (input_slice.start or 0)\n",
    "ouput_feat_len  = label_slice.stop - (label_slice.start or 0)\n",
    "\n",
    "ds_trn        = tf.data.Dataset.from_tensor_slices(df_scaled_trn[df_scaled_trn.columns[input_slice]])\n",
    "ds_tst        = tf.data.Dataset.from_tensor_slices(df_scaled_tst[df_scaled_trn.columns[input_slice]])\n",
    "window_trn    = ts_utils.window(ds_trn, window_len, ouput_len, label_slice, batch_size=batch_size,)\n",
    "window_tst    = ts_utils.window(ds_tst, window_len, ouput_len, label_slice, batch_size=batch_size )\n",
    "window_trn100 = ts_utils.window(ds_trn, window_len, ouput_len, label_slice, batch_size=100000  )\n",
    "window_tst100 = ts_utils.window(ds_tst, window_len, ouput_len, label_slice, batch_size=100000  )\n",
    "\n",
    "df_scaled_trn\n",
    "#for w in window_trn.take(1): print(f'{w[0]} \\n\\n {w[1]}' )"
   ]
  },
  {
   "attachments": {},
   "cell_type": "markdown",
   "metadata": {},
   "source": [
    "### Create model forecasting"
   ]
  },
  {
   "cell_type": "code",
   "execution_count": 3,
   "metadata": {},
   "outputs": [
    {
     "name": "stdout",
     "output_type": "stream",
     "text": [
      "1/1 [==============================] - 1s 1s/step - loss: 0.3267 - mean_absolute_error: 0.4854\n"
     ]
    },
    {
     "data": {
      "text/plain": [
       "<keras.callbacks.History at 0x7ff601385160>"
      ]
     },
     "execution_count": 3,
     "metadata": {},
     "output_type": "execute_result"
    }
   ],
   "source": [
    "from keras.utils import plot_model\n",
    "performance = {}\n",
    "models = []\n",
    "\n",
    "# Linear Model\n",
    "linear_model = tf.keras.Sequential([\n",
    "    # Take the last time-step.\n",
    "    # Shape [batch, time, features] => [batch, 1, features]\n",
    "    tf.keras.layers.Lambda(lambda x: x[:, -1:, :])\n",
    "    ] + ts_utils.getCommonLayer(ouput_len, ouput_feat_len),\n",
    "    name = \"Linear\"\n",
    ")\n",
    "models.append(linear_model)\n",
    "ts_utils.compile_fit(models[-1])\n",
    "models[-1].fit(window_trn.take(1), epochs=1)\n"
   ]
  },
  {
   "cell_type": "code",
   "execution_count": 4,
   "metadata": {},
   "outputs": [
    {
     "name": "stdout",
     "output_type": "stream",
     "text": [
      "1/1 [==============================] - 11s 11s/step - loss: 0.3278 - mean_absolute_error: 0.4949\n"
     ]
    },
    {
     "data": {
      "text/plain": [
       "<keras.callbacks.History at 0x7ff613082fa0>"
      ]
     },
     "execution_count": 4,
     "metadata": {},
     "output_type": "execute_result"
    }
   ],
   "source": [
    "dim = 256\n",
    "\n",
    "# Create Autoencoder Layer\n",
    "input_layer = Input(shape=(window_len, inp_feat_len), dtype='float32', name='input')\n",
    "memory_layer = LSTM(dim, return_sequences=True)(input_layer)\n",
    "memory_layer = LSTM (dim//2, return_sequences=False)(memory_layer)\n",
    "repeated_lyr = RepeatVector(window_len)(memory_layer)\n",
    "memory_layer = LSTM (dim//2, return_sequences=True)(repeated_lyr)\n",
    "memory_layer = LSTM (dim,  return_sequences=True)(memory_layer)\n",
    "decoded_inputs = TimeDistributed(Dense(units=inp_feat_len, activation='linear'))( memory_layer)\n",
    "\n",
    "dropout_input = Dropout(0.2)(input_layer)\n",
    "concat_layer = concatenate([dropout_input, decoded_inputs])\n",
    "memory_layer = LSTM(units=dim, \n",
    "                    kernel_regularizer = regularizers.l1_l2(l1= 0, l2= 0), \n",
    "                    recurrent_regularizer = regularizers.l1_l2(l1= 0, l2= 0), \n",
    "                    return_sequences=False)(concat_layer)\n",
    "\n",
    "# => Note this is same as getCommonLayer(ouput_len, ouput_feat_len, memory_layer)\n",
    "#\n",
    "preds = Dense(units=ouput_feat_len*ouput_len)(memory_layer)\n",
    "preds = Dense(units=ouput_feat_len*ouput_len, activation='linear')(preds)\n",
    "preds = tf.keras.layers.Reshape([ouput_len, ouput_feat_len])(preds)\n",
    "umodel = Model(input_layer, preds, name=\"Uber\")\n",
    "\n",
    "models.append(umodel)\n",
    "ts_utils.compile_fit(models[-1])\n",
    "models[-1].fit(window_trn.take(1), epochs=1)\n"
   ]
  },
  {
   "cell_type": "code",
   "execution_count": 5,
   "metadata": {},
   "outputs": [
    {
     "name": "stdout",
     "output_type": "stream",
     "text": [
      "1/1 [==============================] - 14s 14s/step - loss: 0.3241 - mean_absolute_error: 0.4828\n"
     ]
    },
    {
     "data": {
      "text/plain": [
       "<keras.callbacks.History at 0x7ff5a8a16700>"
      ]
     },
     "execution_count": 5,
     "metadata": {},
     "output_type": "execute_result"
    }
   ],
   "source": [
    "umodel.layers[-2].set_weights(linear_model.layers[-2].weights)\n",
    "ts_utils.compile_fit(models[-1])\n",
    "models[-1].fit(window_trn.take(1), epochs=1)"
   ]
  },
  {
   "cell_type": "code",
   "execution_count": 6,
   "metadata": {},
   "outputs": [],
   "source": [
    "# LSTM Model\n",
    "lstm_model = tf.keras.Sequential([\n",
    "        # Shape [batch, time, features] => [batch, lstm_units].\n",
    "        # Adding more `lstm_units` just overfits more quickly.\n",
    "\n",
    "        tf.keras.layers.LSTM(32, return_sequences=False)\n",
    "    ]+ ts_utils.getCommonLayer(ouput_len, ouput_feat_len),\n",
    "    name = \"LSTM\"\n",
    ")\n",
    "models.append(lstm_model)"
   ]
  },
  {
   "cell_type": "code",
   "execution_count": 7,
   "metadata": {},
   "outputs": [
    {
     "name": "stdout",
     "output_type": "stream",
     "text": [
      "1/1 [==============================] - 2s 2s/step - loss: 0.0125 - mean_absolute_error: 0.0760\n",
      "1/1 [==============================] - 1s 629ms/step - loss: 0.0398 - mean_absolute_error: 0.0684\n",
      "1/1 [==============================] - 5s 5s/step - loss: 0.0283 - mean_absolute_error: 0.1110\n",
      "1/1 [==============================] - 1s 1s/step - loss: 0.0449 - mean_absolute_error: 0.0914\n",
      "1/1 [==============================] - 2s 2s/step - loss: 0.0199 - mean_absolute_error: 0.0949\n",
      "1/1 [==============================] - 1s 637ms/step - loss: 0.0408 - mean_absolute_error: 0.0839\n"
     ]
    },
    {
     "data": {
      "image/png": "[encoded data removed]",
      "text/plain": [
       "<Figure size 1400x400 with 1 Axes>"
      ]
     },
     "metadata": {},
     "output_type": "display_data"
    }
   ],
   "source": [
    "#%%script echo\n",
    "for i, model in enumerate(models):\n",
    "    print(f\"Now Compiling model: {model.name} => {i+1}/{len(models)} models\")\n",
    "    history = ts_utils.compile_fit(model, window_trn, window_tst, epochs=50, patience=3, verbose=1)\n",
    "    IPython.display.clear_output()\n",
    "\n",
    "IPython.display.clear_output()\n",
    "# Plot graphs\n",
    "#performance={}\n",
    "performance = ts_plot_utils.plot_performance(models, window_trn100, window_tst100, performance=performance, reeval=1)"
   ]
  },
  {
   "cell_type": "code",
   "execution_count": 8,
   "metadata": {},
   "outputs": [
    {
     "ename": "TypeError",
     "evalue": "'str' object is not callable",
     "output_type": "error",
     "traceback": [
      "\u001b[0;31m---------------------------------------------------------------------------\u001b[0m",
      "\u001b[0;31mTypeError\u001b[0m                                 Traceback (most recent call last)",
      "Cell \u001b[0;32mIn[8], line 5\u001b[0m\n\u001b[1;32m      3\u001b[0m \u001b[39mfor\u001b[39;00m l \u001b[39min\u001b[39;00m history\u001b[39m.\u001b[39mhistory:\n\u001b[1;32m      4\u001b[0m     plt\u001b[39m.\u001b[39mplot(history\u001b[39m.\u001b[39mhistory[l], label\u001b[39m=\u001b[39m\u001b[39mf\u001b[39m\u001b[39m\"\u001b[39m\u001b[39m{\u001b[39;00ml\u001b[39m}\u001b[39;00m\u001b[39m\"\u001b[39m)\n\u001b[0;32m----> 5\u001b[0m plt\u001b[39m.\u001b[39;49mtitle(\u001b[39m\"\u001b[39;49m\u001b[39mHistory of Losses\u001b[39;49m\u001b[39m\"\u001b[39;49m)\n\u001b[1;32m      6\u001b[0m plt\u001b[39m.\u001b[39mlegend()\n",
      "\u001b[0;31mTypeError\u001b[0m: 'str' object is not callable"
     ]
    },
    {
     "data": {
      "image/png": "[encoded data removed]",
      "text/plain": [
       "<Figure size 1400x400 with 1 Axes>"
      ]
     },
     "metadata": {},
     "output_type": "display_data"
    }
   ],
   "source": [
    "IPython.display.clear_output()\n",
    "\n",
    "for l in history.history:\n",
    "    plt.plot(history.history[l], label=f\"{l}\")\n",
    "plt.title(\"History of Losses\")\n",
    "plt.legend()"
   ]
  },
  {
   "attachments": {},
   "cell_type": "markdown",
   "metadata": {},
   "source": [
    "### Anomaly Score - precision/Recall etc."
   ]
  },
  {
   "cell_type": "code",
   "execution_count": null,
   "metadata": {},
   "outputs": [],
   "source": [
    "model     = models[0]\n",
    "trn_errdf = None\n",
    "tst_errdf = None\n",
    "\n",
    "def getErrDF(model, window_trn, retdf=None, columns=None):\n",
    "    for w in window_trn:\n",
    "        p = model.predict(w[0])\n",
    "        r = w[1] - p.reshape(w[1].shape)\n",
    "        r.numpy().sum(axis=1)\n",
    "        df=pd.DataFrame(r[:,-1], columns=columns) \n",
    "        \n",
    "        if (retdf is None):\n",
    "            retdf = df\n",
    "        else:\n",
    "            retdf.append(df, ignore_index=1)\n",
    "\n",
    "    return retdf\n",
    "\n",
    "trn_errdf = getErrDF (model, window_trn100, trn_errdf, df_scaled_trn.columns)\n",
    "tst_errdf = getErrDF (model, window_tst100, tst_errdf, df_scaled_trn.columns)"
   ]
  },
  {
   "cell_type": "code",
   "execution_count": null,
   "metadata": {},
   "outputs": [],
   "source": [
    "trn_errdf.hist();"
   ]
  },
  {
   "cell_type": "code",
   "execution_count": null,
   "metadata": {},
   "outputs": [],
   "source": []
  }
 ],
 "metadata": {
  "accelerator": "GPU",
  "colab": {
   "collapsed_sections": [],
   "name": "time_series.ipynb",
   "toc_visible": true
  },
  "kernelspec": {
   "display_name": "py39",
   "language": "python",
   "name": "python3"
  },
  "language_info": {
   "codemirror_mode": {
    "name": "ipython",
    "version": 3
   },
   "file_extension": ".py",
   "mimetype": "text/x-python",
   "name": "python",
   "nbconvert_exporter": "python",
   "pygments_lexer": "ipython3",
   "version": "3.8.3"
  },
  "vscode": {
   "interpreter": {
    "hash": "dff0aaeeb8ee9738611fdcb903e0426fbcf38bc2d039ac205716a81cc1909598"
   }
  }
 },
 "nbformat": 4,
 "nbformat_minor": 0
}
