{
 "cells": [
  {
   "cell_type": "markdown",
   "metadata": {},
   "source": [
    "# Introduction to PyTorch framework\n",
    "Authors: Sada Narayanappa & Emmanuel Iarussi\n",
    "\n",
    "## Create python environment (conda)\n",
    "\n",
    "An example of creating environment on your machine.\n",
    "\n",
    "```\n",
    "conda create --name pytorchenv python=3.9\n",
    "\n",
    "# Activate enviroment\n",
    "conda activate pytorchenv\n",
    "```"
   ]
  },
  {
   "cell_type": "code",
   "execution_count": 1,
   "metadata": {},
   "outputs": [],
   "source": [
    "# Install PyTorch using the command provided in https://pytorch.org/"
   ]
  },
  {
   "cell_type": "code",
   "execution_count": 2,
   "metadata": {},
   "outputs": [
    {
     "name": "stdout",
     "output_type": "stream",
     "text": [
      "PyTorch version: 1.13.1\n"
     ]
    }
   ],
   "source": [
    "import torch \n",
    "print(\"PyTorch version:\", torch.__version__)"
   ]
  },
  {
   "cell_type": "markdown",
   "metadata": {},
   "source": [
    "# PyTorch Dense Layer\n",
    "\n",
    "In the following cell, we will run a simple example and demonstrate what is a dense layer.\n",
    "A dense layer with n1 inouts and n nodes will have n outputs. When we create it, by default it uses the bias.\n",
    "In the following figure, can you guess the dimention of the weight matrix before you the run the cells?\n",
    "\n",
    "<img width=128 src=../imgs/01_nn.png> "
   ]
  },
  {
   "cell_type": "code",
   "execution_count": 3,
   "metadata": {},
   "outputs": [
    {
     "data": {
      "text/plain": [
       "tensor([[ 0.1553,  0.5051, -4.1022]], grad_fn=<AddmmBackward0>)"
      ]
     },
     "execution_count": 3,
     "metadata": {},
     "output_type": "execute_result"
    }
   ],
   "source": [
    "import torch.nn as nn\n",
    "import numpy as np\n",
    "\n",
    "# Create a single dense leyer, pass some data through it\n",
    "d = nn.Linear(2,3,bias=True)\n",
    "x = torch.Tensor([[5.,6.]])\n",
    "d(x)"
   ]
  },
  {
   "cell_type": "code",
   "execution_count": 4,
   "metadata": {},
   "outputs": [
    {
     "data": {
      "text/plain": [
       "(Parameter containing:\n",
       " tensor([[ 0.3531, -0.3770],\n",
       "         [-0.0105, -0.0022],\n",
       "         [-0.4776, -0.3369]], requires_grad=True),\n",
       " Parameter containing:\n",
       " tensor([0.6517, 0.5707, 0.3074], requires_grad=True))"
      ]
     },
     "execution_count": 4,
     "metadata": {},
     "output_type": "execute_result"
    }
   ],
   "source": [
    "# Print weight matrix and bias\n",
    "d.weight, d.bias"
   ]
  },
  {
   "cell_type": "code",
   "execution_count": 5,
   "metadata": {},
   "outputs": [],
   "source": [
    "# Set weights \"manually\" using nn.Parameter \n",
    "# https://pytorch.org/docs/stable/generated/torch.nn.parameter.Parameter.html#parameter\n",
    "\n",
    "w = nn.Parameter(torch.t(torch.Tensor([[1., 2., 3.],\n",
    "                                       [0., 1., 2.]])))\n",
    "b = nn.Parameter(torch.Tensor([0.,0.,0.]))\n",
    "\n",
    "d.weight = w\n",
    "d.bias   = b"
   ]
  },
  {
   "cell_type": "code",
   "execution_count": 6,
   "metadata": {},
   "outputs": [
    {
     "data": {
      "text/plain": [
       "(Parameter containing:\n",
       " tensor([[1., 0.],\n",
       "         [2., 1.],\n",
       "         [3., 2.]], requires_grad=True),\n",
       " Parameter containing:\n",
       " tensor([0., 0., 0.], requires_grad=True))"
      ]
     },
     "execution_count": 6,
     "metadata": {},
     "output_type": "execute_result"
    }
   ],
   "source": [
    "# Print weight matrix and bias\n",
    "d.weight, d.bias"
   ]
  },
  {
   "cell_type": "code",
   "execution_count": 7,
   "metadata": {},
   "outputs": [
    {
     "data": {
      "text/plain": [
       "tensor([[ 5., 16., 27.]], grad_fn=<AddmmBackward0>)"
      ]
     },
     "execution_count": 7,
     "metadata": {},
     "output_type": "execute_result"
    }
   ],
   "source": [
    "d(x)"
   ]
  },
  {
   "cell_type": "markdown",
   "metadata": {},
   "source": [
    "# Sequential Model"
   ]
  },
  {
   "cell_type": "code",
   "execution_count": 8,
   "metadata": {},
   "outputs": [
    {
     "data": {
      "text/plain": [
       "tensor([[0.2968, 0.7032]], grad_fn=<SoftmaxBackward0>)"
      ]
     },
     "execution_count": 8,
     "metadata": {},
     "output_type": "execute_result"
    }
   ],
   "source": [
    "# List our layers\n",
    "layers = []\n",
    "layers.append(nn.Linear(2,3))\n",
    "layers.append(nn.ReLU())\n",
    "layers.append(nn.Linear(3,3))\n",
    "layers.append(nn.ReLU())\n",
    "layers.append(nn.Linear(3,2))\n",
    "layers.append(nn.Softmax(dim=1))\n",
    "\n",
    "# Form a model using nn.Sequential\n",
    "model = nn.Sequential(*layers)\n",
    "\n",
    "# Test the NN\n",
    "x = torch.Tensor([[1,2]])\n",
    "model(x)"
   ]
  },
  {
   "cell_type": "code",
   "execution_count": 9,
   "metadata": {},
   "outputs": [
    {
     "name": "stdout",
     "output_type": "stream",
     "text": [
      "Parameter containing:\n",
      "tensor([[ 0.0947, -0.4042],\n",
      "        [ 0.1844,  0.1265],\n",
      "        [ 0.6245, -0.3448]], requires_grad=True)\n",
      "Parameter containing:\n",
      "tensor([ 0.3605, -0.6494,  0.2801], requires_grad=True)\n",
      "Parameter containing:\n",
      "tensor([[ 0.3565, -0.5088,  0.1182],\n",
      "        [ 0.5444, -0.4059,  0.5653],\n",
      "        [-0.3916,  0.4594, -0.0195]], requires_grad=True)\n",
      "Parameter containing:\n",
      "tensor([0.4907, 0.2497, 0.5518], requires_grad=True)\n",
      "Parameter containing:\n",
      "tensor([[-0.4930, -0.3656, -0.4518],\n",
      "        [ 0.2851, -0.4102,  0.0526]], requires_grad=True)\n",
      "Parameter containing:\n",
      "tensor([0.0203, 0.2220], requires_grad=True)\n"
     ]
    }
   ],
   "source": [
    "# Print all parameters\n",
    "for param in model.parameters():\n",
    "    print(param)"
   ]
  },
  {
   "cell_type": "code",
   "execution_count": 10,
   "metadata": {},
   "outputs": [
    {
     "name": "stdout",
     "output_type": "stream",
     "text": [
      "Sequential(\n",
      "  (0): Linear(in_features=2, out_features=3, bias=True)\n",
      "  (1): ReLU()\n",
      "  (2): Linear(in_features=3, out_features=3, bias=True)\n",
      "  (3): ReLU()\n",
      "  (4): Linear(in_features=3, out_features=2, bias=True)\n",
      "  (5): Softmax(dim=1)\n",
      ")\n"
     ]
    }
   ],
   "source": [
    "# Print layers\n",
    "print(model)"
   ]
  },
  {
   "cell_type": "code",
   "execution_count": 11,
   "metadata": {},
   "outputs": [
    {
     "data": {
      "text/plain": [
       "(Parameter containing:\n",
       " tensor([[ 0.0947, -0.4042],\n",
       "         [ 0.1844,  0.1265],\n",
       "         [ 0.6245, -0.3448]], requires_grad=True),\n",
       " Parameter containing:\n",
       " tensor([ 0.3605, -0.6494,  0.2801], requires_grad=True))"
      ]
     },
     "execution_count": 11,
     "metadata": {},
     "output_type": "execute_result"
    }
   ],
   "source": [
    "# We can also index the model using []\n",
    "model[0].weight,model[0].bias"
   ]
  },
  {
   "cell_type": "code",
   "execution_count": 12,
   "metadata": {},
   "outputs": [
    {
     "data": {
      "text/plain": [
       "==========================================================================================\n",
       "Layer (type:depth-idx)                   Output Shape              Param #\n",
       "==========================================================================================\n",
       "Sequential                               [1, 2]                    --\n",
       "├─Linear: 1-1                            [1, 3]                    9\n",
       "├─ReLU: 1-2                              [1, 3]                    --\n",
       "├─Linear: 1-3                            [1, 3]                    12\n",
       "├─ReLU: 1-4                              [1, 3]                    --\n",
       "├─Linear: 1-5                            [1, 2]                    8\n",
       "├─Softmax: 1-6                           [1, 2]                    --\n",
       "==========================================================================================\n",
       "Total params: 29\n",
       "Trainable params: 29\n",
       "Non-trainable params: 0\n",
       "Total mult-adds (M): 0.00\n",
       "==========================================================================================\n",
       "Input size (MB): 0.00\n",
       "Forward/backward pass size (MB): 0.00\n",
       "Params size (MB): 0.00\n",
       "Estimated Total Size (MB): 0.00\n",
       "=========================================================================================="
      ]
     },
     "execution_count": 12,
     "metadata": {},
     "output_type": "execute_result"
    }
   ],
   "source": [
    "# Network summary (tensorflow style) \n",
    "# https://github.com/TylerYep/torchinfo\n",
    "\n",
    "from torchinfo import summary\n",
    "summary(model, input_size=(1,2))"
   ]
  },
  {
   "cell_type": "markdown",
   "metadata": {},
   "source": [
    "# Real example"
   ]
  },
  {
   "cell_type": "code",
   "execution_count": 13,
   "metadata": {},
   "outputs": [],
   "source": [
    "# Set device\n",
    "device = torch.device(\"cuda\" if torch.cuda.is_available() else \"cpu\")"
   ]
  },
  {
   "cell_type": "code",
   "execution_count": 14,
   "metadata": {},
   "outputs": [
    {
     "data": {
      "text/plain": [
       "==========================================================================================\n",
       "Layer (type:depth-idx)                   Output Shape              Param #\n",
       "==========================================================================================\n",
       "Sequential                               [1, 1]                    --\n",
       "├─Linear: 1-1                            [1, 3]                    6\n",
       "├─ReLU: 1-2                              [1, 3]                    --\n",
       "├─Linear: 1-3                            [1, 1]                    4\n",
       "==========================================================================================\n",
       "Total params: 10\n",
       "Trainable params: 10\n",
       "Non-trainable params: 0\n",
       "Total mult-adds (M): 0.00\n",
       "==========================================================================================\n",
       "Input size (MB): 0.00\n",
       "Forward/backward pass size (MB): 0.00\n",
       "Params size (MB): 0.00\n",
       "Estimated Total Size (MB): 0.00\n",
       "=========================================================================================="
      ]
     },
     "execution_count": 14,
     "metadata": {},
     "output_type": "execute_result"
    }
   ],
   "source": [
    "import matplotlib.pyplot as plt\n",
    "\n",
    "# List our layers\n",
    "layers = []\n",
    "layers.append(nn.Linear(1,3))\n",
    "layers.append(nn.ReLU())\n",
    "layers.append(nn.Linear(3,1))\n",
    "\n",
    "# Form a model using nn.Sequential\n",
    "model = nn.Sequential(*layers)\n",
    "\n",
    "# Print summary\n",
    "summary(model, input_size=(1,1))"
   ]
  },
  {
   "cell_type": "code",
   "execution_count": 15,
   "metadata": {},
   "outputs": [],
   "source": [
    "# Optimizer and loss function\n",
    "optimizer = torch.optim.SGD(model.parameters(), lr=0.001)\n",
    "MSEloss      = nn.MSELoss()"
   ]
  },
  {
   "cell_type": "code",
   "execution_count": 16,
   "metadata": {},
   "outputs": [
    {
     "data": {
      "image/png": "[encoded data removed]",
      "text/plain": [
       "<Figure size 432x288 with 1 Axes>"
      ]
     },
     "metadata": {
      "needs_background": "light"
     },
     "output_type": "display_data"
    }
   ],
   "source": [
    "# Declare model inputs and outputs for training\n",
    "xs = torch.Tensor([-1.0,  0.0, 1.0, 2.0, 5.0, 9.0])\n",
    "ys = torch.Tensor([-3.0, -1.0, 1.0, 4.0, 7.0, 7.0])\n",
    "\n",
    "plt.plot(xs,ys, marker='o')\n",
    "plt.grid()"
   ]
  },
  {
   "cell_type": "code",
   "execution_count": 17,
   "metadata": {},
   "outputs": [
    {
     "data": {
      "text/plain": [
       "[tensor([1.]), tensor([1.])]"
      ]
     },
     "execution_count": 17,
     "metadata": {},
     "output_type": "execute_result"
    }
   ],
   "source": [
    "# Prepare arrays to be loaded as training data\n",
    "# https://pytorch.org/tutorials/beginner/basics/data_tutorial.html\n",
    "from torch.utils.data import DataLoader\n",
    "\n",
    "# Create simple dataset\n",
    "dataset = torch.utils.data.TensorDataset(xs, ys)\n",
    "\n",
    "# Create a dataloader\n",
    "train_dataloader = DataLoader(dataset, batch_size=1, shuffle=True)\n",
    "\n",
    "# Get some random data\n",
    "next(iter(train_dataloader))"
   ]
  },
  {
   "cell_type": "code",
   "execution_count": 18,
   "metadata": {
    "scrolled": true
   },
   "outputs": [
    {
     "name": "stdout",
     "output_type": "stream",
     "text": [
      "Training epoch 0\n",
      "Training epoch 10\n",
      "Training epoch 20\n",
      "Training epoch 30\n",
      "Training epoch 40\n",
      "Training epoch 50\n",
      "Training epoch 60\n",
      "Training epoch 70\n",
      "Training epoch 80\n",
      "Training epoch 90\n",
      "Training epoch 100\n",
      "Training epoch 110\n",
      "Training epoch 120\n",
      "Training epoch 130\n",
      "Training epoch 140\n",
      "Training epoch 150\n",
      "Training epoch 160\n",
      "Training epoch 170\n",
      "Training epoch 180\n",
      "Training epoch 190\n",
      "Training epoch 200\n",
      "Training epoch 210\n",
      "Training epoch 220\n",
      "Training epoch 230\n",
      "Training epoch 240\n"
     ]
    }
   ],
   "source": [
    "model.to(device)\n",
    "\n",
    "# Fit the model\n",
    "num_epochs = 250\n",
    "\n",
    "# Iterate over #epochs\n",
    "for epoch in range(num_epochs):\n",
    "    # Visit each data sample once (random)\n",
    "    for batch, (x,y) in enumerate(train_dataloader): \n",
    "        # Compute model prediction and loss\n",
    "        pred = model(x.to(device))\n",
    "        loss = MSEloss(pred, y.to(device))\n",
    "        \n",
    "        # Backpropagate\n",
    "        optimizer.zero_grad()\n",
    "        loss.backward()\n",
    "        optimizer.step()       \n",
    "        \n",
    "    if epoch % 10 == 0:\n",
    "        print(\"Training epoch {}\".format(epoch))"
   ]
  },
  {
   "cell_type": "code",
   "execution_count": 19,
   "metadata": {},
   "outputs": [
    {
     "data": {
      "text/plain": [
       "[<matplotlib.lines.Line2D at 0x7fb410e65310>]"
      ]
     },
     "execution_count": 19,
     "metadata": {},
     "output_type": "execute_result"
    },
    {
     "data": {
      "image/png": "[encoded data removed]",
      "text/plain": [
       "<Figure size 1008x360 with 1 Axes>"
      ]
     },
     "metadata": {
      "needs_background": "light"
     },
     "output_type": "display_data"
    }
   ],
   "source": [
    "yh = model(xs.to(device).unsqueeze(dim=1)).cpu().detach()\n",
    "\n",
    "plt.figure(figsize=(14,5))\n",
    "plt.plot(xs,ys, marker='o')\n",
    "plt.plot(xs,yh, marker='x')"
   ]
  },
  {
   "cell_type": "code",
   "execution_count": 20,
   "metadata": {
    "scrolled": true
   },
   "outputs": [
    {
     "name": "stdout",
     "output_type": "stream",
     "text": [
      "Training epoch 0\n",
      "Training epoch 10\n",
      "Training epoch 20\n",
      "Training epoch 30\n",
      "Training epoch 40\n",
      "Training epoch 50\n",
      "Training epoch 60\n",
      "Training epoch 70\n",
      "Training epoch 80\n",
      "Training epoch 90\n",
      "Training epoch 100\n",
      "Training epoch 110\n",
      "Training epoch 120\n",
      "Training epoch 130\n",
      "Training epoch 140\n",
      "Training epoch 150\n",
      "Training epoch 160\n",
      "Training epoch 170\n",
      "Training epoch 180\n",
      "Training epoch 190\n",
      "Training epoch 200\n",
      "Training epoch 210\n",
      "Training epoch 220\n",
      "Training epoch 230\n",
      "Training epoch 240\n",
      "Training epoch 250\n",
      "Training epoch 260\n",
      "Training epoch 270\n",
      "Training epoch 280\n",
      "Training epoch 290\n",
      "Training epoch 300\n",
      "Training epoch 310\n",
      "Training epoch 320\n",
      "Training epoch 330\n",
      "Training epoch 340\n",
      "Training epoch 350\n",
      "Training epoch 360\n",
      "Training epoch 370\n",
      "Training epoch 380\n",
      "Training epoch 390\n",
      "Training epoch 400\n",
      "Training epoch 410\n",
      "Training epoch 420\n",
      "Training epoch 430\n",
      "Training epoch 440\n",
      "Training epoch 450\n",
      "Training epoch 460\n",
      "Training epoch 470\n",
      "Training epoch 480\n",
      "Training epoch 490\n",
      "Training epoch 500\n",
      "Training epoch 510\n",
      "Training epoch 520\n",
      "Training epoch 530\n",
      "Training epoch 540\n",
      "Training epoch 550\n",
      "Training epoch 560\n",
      "Training epoch 570\n",
      "Training epoch 580\n",
      "Training epoch 590\n",
      "Training epoch 600\n",
      "Training epoch 610\n",
      "Training epoch 620\n",
      "Training epoch 630\n",
      "Training epoch 640\n",
      "Training epoch 650\n",
      "Training epoch 660\n",
      "Training epoch 670\n",
      "Training epoch 680\n",
      "Training epoch 690\n",
      "Training epoch 700\n",
      "Training epoch 710\n",
      "Training epoch 720\n",
      "Training epoch 730\n",
      "Training epoch 740\n",
      "Training epoch 750\n",
      "Training epoch 760\n",
      "Training epoch 770\n",
      "Training epoch 780\n",
      "Training epoch 790\n",
      "Training epoch 800\n",
      "Training epoch 810\n",
      "Training epoch 820\n",
      "Training epoch 830\n",
      "Training epoch 840\n",
      "Training epoch 850\n",
      "Training epoch 860\n",
      "Training epoch 870\n",
      "Training epoch 880\n",
      "Training epoch 890\n",
      "Training epoch 900\n",
      "Training epoch 910\n",
      "Training epoch 920\n",
      "Training epoch 930\n",
      "Training epoch 940\n",
      "Training epoch 950\n",
      "Training epoch 960\n",
      "Training epoch 970\n",
      "Training epoch 980\n",
      "Training epoch 990\n"
     ]
    }
   ],
   "source": [
    "# Repeat training * 4\n",
    "model.to(device)\n",
    "\n",
    "# Fit the model\n",
    "num_epochs = 250*4\n",
    "\n",
    "# Iterate over #epochs\n",
    "for epoch in range(num_epochs):\n",
    "    # Visit each data sample once (random)\n",
    "    for batch, (x,y) in enumerate(train_dataloader): \n",
    "        # Compute model prediction and loss\n",
    "        pred = model(x.to(device))\n",
    "        loss = MSEloss(pred, y.to(device))\n",
    "        \n",
    "        # Backpropagate\n",
    "        optimizer.zero_grad()\n",
    "        loss.backward()\n",
    "        optimizer.step()       \n",
    "        \n",
    "    if epoch % 10 == 0:\n",
    "        print(\"Training epoch {}\".format(epoch))"
   ]
  },
  {
   "cell_type": "code",
   "execution_count": 21,
   "metadata": {},
   "outputs": [
    {
     "data": {
      "text/plain": [
       "[<matplotlib.lines.Line2D at 0x7fb410456ac0>]"
      ]
     },
     "execution_count": 21,
     "metadata": {},
     "output_type": "execute_result"
    },
    {
     "data": {
      "image/png": "[encoded data removed]",
      "text/plain": [
       "<Figure size 1008x360 with 1 Axes>"
      ]
     },
     "metadata": {
      "needs_background": "light"
     },
     "output_type": "display_data"
    }
   ],
   "source": [
    "yh = model(xs.to(device).unsqueeze(dim=1)).cpu().detach()\n",
    "\n",
    "plt.figure(figsize=(14,5))\n",
    "plt.plot(xs,ys, marker='o')\n",
    "plt.plot(xs,yh, marker='x')"
   ]
  },
  {
   "cell_type": "code",
   "execution_count": 22,
   "metadata": {
    "scrolled": true
   },
   "outputs": [
    {
     "name": "stdout",
     "output_type": "stream",
     "text": [
      "Training epoch 0\n",
      "Training epoch 10\n",
      "Training epoch 20\n",
      "Training epoch 30\n",
      "Training epoch 40\n",
      "Training epoch 50\n",
      "Training epoch 60\n",
      "Training epoch 70\n",
      "Training epoch 80\n",
      "Training epoch 90\n",
      "Training epoch 100\n",
      "Training epoch 110\n",
      "Training epoch 120\n",
      "Training epoch 130\n",
      "Training epoch 140\n",
      "Training epoch 150\n",
      "Training epoch 160\n",
      "Training epoch 170\n",
      "Training epoch 180\n",
      "Training epoch 190\n",
      "Training epoch 200\n",
      "Training epoch 210\n",
      "Training epoch 220\n",
      "Training epoch 230\n",
      "Training epoch 240\n",
      "Training epoch 250\n",
      "Training epoch 260\n",
      "Training epoch 270\n",
      "Training epoch 280\n",
      "Training epoch 290\n",
      "Training epoch 300\n",
      "Training epoch 310\n",
      "Training epoch 320\n",
      "Training epoch 330\n",
      "Training epoch 340\n",
      "Training epoch 350\n",
      "Training epoch 360\n",
      "Training epoch 370\n",
      "Training epoch 380\n",
      "Training epoch 390\n",
      "Training epoch 400\n",
      "Training epoch 410\n",
      "Training epoch 420\n",
      "Training epoch 430\n",
      "Training epoch 440\n",
      "Training epoch 450\n",
      "Training epoch 460\n",
      "Training epoch 470\n",
      "Training epoch 480\n",
      "Training epoch 490\n",
      "Training epoch 500\n",
      "Training epoch 510\n",
      "Training epoch 520\n",
      "Training epoch 530\n",
      "Training epoch 540\n",
      "Training epoch 550\n",
      "Training epoch 560\n",
      "Training epoch 570\n",
      "Training epoch 580\n",
      "Training epoch 590\n",
      "Training epoch 600\n",
      "Training epoch 610\n",
      "Training epoch 620\n",
      "Training epoch 630\n",
      "Training epoch 640\n",
      "Training epoch 650\n",
      "Training epoch 660\n",
      "Training epoch 670\n",
      "Training epoch 680\n",
      "Training epoch 690\n",
      "Training epoch 700\n",
      "Training epoch 710\n",
      "Training epoch 720\n",
      "Training epoch 730\n",
      "Training epoch 740\n",
      "Training epoch 750\n",
      "Training epoch 760\n",
      "Training epoch 770\n",
      "Training epoch 780\n",
      "Training epoch 790\n",
      "Training epoch 800\n",
      "Training epoch 810\n",
      "Training epoch 820\n",
      "Training epoch 830\n",
      "Training epoch 840\n",
      "Training epoch 850\n",
      "Training epoch 860\n",
      "Training epoch 870\n",
      "Training epoch 880\n",
      "Training epoch 890\n",
      "Training epoch 900\n",
      "Training epoch 910\n",
      "Training epoch 920\n",
      "Training epoch 930\n",
      "Training epoch 940\n",
      "Training epoch 950\n",
      "Training epoch 960\n",
      "Training epoch 970\n",
      "Training epoch 980\n",
      "Training epoch 990\n",
      "Training epoch 1000\n",
      "Training epoch 1010\n",
      "Training epoch 1020\n",
      "Training epoch 1030\n",
      "Training epoch 1040\n",
      "Training epoch 1050\n",
      "Training epoch 1060\n",
      "Training epoch 1070\n",
      "Training epoch 1080\n",
      "Training epoch 1090\n",
      "Training epoch 1100\n",
      "Training epoch 1110\n",
      "Training epoch 1120\n",
      "Training epoch 1130\n",
      "Training epoch 1140\n",
      "Training epoch 1150\n",
      "Training epoch 1160\n",
      "Training epoch 1170\n",
      "Training epoch 1180\n",
      "Training epoch 1190\n",
      "Training epoch 1200\n",
      "Training epoch 1210\n",
      "Training epoch 1220\n",
      "Training epoch 1230\n",
      "Training epoch 1240\n",
      "Training epoch 1250\n",
      "Training epoch 1260\n",
      "Training epoch 1270\n",
      "Training epoch 1280\n",
      "Training epoch 1290\n",
      "Training epoch 1300\n",
      "Training epoch 1310\n",
      "Training epoch 1320\n",
      "Training epoch 1330\n",
      "Training epoch 1340\n",
      "Training epoch 1350\n",
      "Training epoch 1360\n",
      "Training epoch 1370\n",
      "Training epoch 1380\n",
      "Training epoch 1390\n",
      "Training epoch 1400\n",
      "Training epoch 1410\n",
      "Training epoch 1420\n",
      "Training epoch 1430\n",
      "Training epoch 1440\n",
      "Training epoch 1450\n",
      "Training epoch 1460\n",
      "Training epoch 1470\n",
      "Training epoch 1480\n",
      "Training epoch 1490\n",
      "Training epoch 1500\n",
      "Training epoch 1510\n",
      "Training epoch 1520\n",
      "Training epoch 1530\n",
      "Training epoch 1540\n",
      "Training epoch 1550\n",
      "Training epoch 1560\n",
      "Training epoch 1570\n",
      "Training epoch 1580\n",
      "Training epoch 1590\n",
      "Training epoch 1600\n",
      "Training epoch 1610\n",
      "Training epoch 1620\n",
      "Training epoch 1630\n",
      "Training epoch 1640\n",
      "Training epoch 1650\n",
      "Training epoch 1660\n",
      "Training epoch 1670\n",
      "Training epoch 1680\n",
      "Training epoch 1690\n",
      "Training epoch 1700\n",
      "Training epoch 1710\n",
      "Training epoch 1720\n",
      "Training epoch 1730\n",
      "Training epoch 1740\n",
      "Training epoch 1750\n",
      "Training epoch 1760\n",
      "Training epoch 1770\n",
      "Training epoch 1780\n",
      "Training epoch 1790\n",
      "Training epoch 1800\n",
      "Training epoch 1810\n",
      "Training epoch 1820\n",
      "Training epoch 1830\n",
      "Training epoch 1840\n",
      "Training epoch 1850\n",
      "Training epoch 1860\n",
      "Training epoch 1870\n",
      "Training epoch 1880\n",
      "Training epoch 1890\n",
      "Training epoch 1900\n",
      "Training epoch 1910\n",
      "Training epoch 1920\n",
      "Training epoch 1930\n",
      "Training epoch 1940\n",
      "Training epoch 1950\n",
      "Training epoch 1960\n",
      "Training epoch 1970\n",
      "Training epoch 1980\n",
      "Training epoch 1990\n",
      "Training epoch 2000\n",
      "Training epoch 2010\n",
      "Training epoch 2020\n",
      "Training epoch 2030\n",
      "Training epoch 2040\n",
      "Training epoch 2050\n",
      "Training epoch 2060\n",
      "Training epoch 2070\n",
      "Training epoch 2080\n",
      "Training epoch 2090\n",
      "Training epoch 2100\n",
      "Training epoch 2110\n",
      "Training epoch 2120\n",
      "Training epoch 2130\n",
      "Training epoch 2140\n",
      "Training epoch 2150\n",
      "Training epoch 2160\n",
      "Training epoch 2170\n",
      "Training epoch 2180\n",
      "Training epoch 2190\n",
      "Training epoch 2200\n",
      "Training epoch 2210\n",
      "Training epoch 2220\n",
      "Training epoch 2230\n",
      "Training epoch 2240\n",
      "Training epoch 2250\n",
      "Training epoch 2260\n",
      "Training epoch 2270\n",
      "Training epoch 2280\n",
      "Training epoch 2290\n",
      "Training epoch 2300\n",
      "Training epoch 2310\n",
      "Training epoch 2320\n",
      "Training epoch 2330\n",
      "Training epoch 2340\n",
      "Training epoch 2350\n",
      "Training epoch 2360\n",
      "Training epoch 2370\n",
      "Training epoch 2380\n",
      "Training epoch 2390\n",
      "Training epoch 2400\n",
      "Training epoch 2410\n",
      "Training epoch 2420\n",
      "Training epoch 2430\n",
      "Training epoch 2440\n",
      "Training epoch 2450\n",
      "Training epoch 2460\n",
      "Training epoch 2470\n",
      "Training epoch 2480\n",
      "Training epoch 2490\n"
     ]
    }
   ],
   "source": [
    "# Repeat training * 10\n",
    "model.to(device)\n",
    "\n",
    "# Fit the model\n",
    "num_epochs = 250*10\n",
    "\n",
    "# Iterate over #epochs\n",
    "for epoch in range(num_epochs):\n",
    "    # Visit each data sample once (random)\n",
    "    for batch, (x,y) in enumerate(train_dataloader): \n",
    "        # Compute model prediction and loss\n",
    "        pred = model(x.to(device))\n",
    "        loss = MSEloss(pred, y.to(device))\n",
    "        \n",
    "        # Backpropagate\n",
    "        optimizer.zero_grad()\n",
    "        loss.backward()\n",
    "        optimizer.step()       \n",
    "        \n",
    "    if epoch % 10 == 0:\n",
    "        print(\"Training epoch {}\".format(epoch))\n"
   ]
  },
  {
   "cell_type": "code",
   "execution_count": 23,
   "metadata": {},
   "outputs": [
    {
     "data": {
      "text/plain": [
       "[<matplotlib.lines.Line2D at 0x7fb410447fd0>]"
      ]
     },
     "execution_count": 23,
     "metadata": {},
     "output_type": "execute_result"
    },
    {
     "data": {
      "image/png": "[encoded data removed]",
      "text/plain": [
       "<Figure size 1008x360 with 1 Axes>"
      ]
     },
     "metadata": {
      "needs_background": "light"
     },
     "output_type": "display_data"
    }
   ],
   "source": [
    "yh = model(xs.to(device).unsqueeze(dim=1)).cpu().detach()\n",
    "\n",
    "plt.figure(figsize=(14,5))\n",
    "plt.plot(xs,ys, marker='o')\n",
    "plt.plot(xs,yh, marker='x')"
   ]
  },
  {
   "cell_type": "markdown",
   "metadata": {},
   "source": [
    "# References\n",
    "\n",
    "To learn more, refer to:\n",
    "\n",
    "- <a href=\"https://www.oreilly.com/library/view/programming-pytorch-for/9781492045342/\" class=\"external\">Programming PyTorch for Deep Learning</a>.\n",
    "\n",
    "\n",
    "## The END"
   ]
  },
  {
   "cell_type": "code",
   "execution_count": null,
   "metadata": {},
   "outputs": [],
   "source": []
  }
 ],
 "metadata": {
  "kernelspec": {
   "display_name": "Python 3 (ipykernel)",
   "language": "python",
   "name": "python3"
  },
  "language_info": {
   "codemirror_mode": {
    "name": "ipython",
    "version": 3
   },
   "file_extension": ".py",
   "mimetype": "text/x-python",
   "name": "python",
   "nbconvert_exporter": "python",
   "pygments_lexer": "ipython3",
   "version": "3.9.16"
  },
  "vscode": {
   "interpreter": {
    "hash": "dff0aaeeb8ee9738611fdcb903e0426fbcf38bc2d039ac205716a81cc1909598"
   }
  }
 },
 "nbformat": 4,
 "nbformat_minor": 2
}
