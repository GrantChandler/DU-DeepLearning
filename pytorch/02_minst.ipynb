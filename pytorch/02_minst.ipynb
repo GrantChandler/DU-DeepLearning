{
 "cells": [
  {
   "cell_type": "markdown",
   "metadata": {
    "id": "rX8mhOLljYeM"
   },
   "source": [
    "# PyTorch use prebuilt dataset"
   ]
  },
  {
   "cell_type": "code",
   "execution_count": null,
   "metadata": {
    "execution": {
     "iopub.execute_input": "2023-01-05T02:22:10.415302Z",
     "iopub.status.busy": "2023-01-05T02:22:10.415049Z",
     "iopub.status.idle": "2023-01-05T02:22:12.793816Z",
     "shell.execute_reply": "2023-01-05T02:22:12.792789Z"
    },
    "id": "0trJmd6DjqBZ"
   },
   "outputs": [],
   "source": [
    "# Import standard libraries that you may use most times\n",
    "import torch \n",
    "import torch.nn as nn\n",
    "import matplotlib.pyplot as plt\n",
    "from torchinfo import summary\n",
    "from torchvision import transforms, datasets\n",
    "\n",
    "print(\"PyTorch version:\", torch.__version__)"
   ]
  },
  {
   "cell_type": "code",
   "execution_count": null,
   "metadata": {},
   "outputs": [],
   "source": [
    "# Convert Pil image to PyTorch Tensor\n",
    "data_transform = transforms.Compose([transforms.ToTensor()])"
   ]
  },
  {
   "cell_type": "code",
   "execution_count": null,
   "metadata": {},
   "outputs": [],
   "source": [
    "# Load the data set\n",
    "mnist_train = datasets.MNIST(root='./data', train=True, transform=data_transform, download=True)\n",
    "mnist_test  = datasets.MNIST(root='./data', train=False,transform=data_transform, download=True)"
   ]
  },
  {
   "cell_type": "code",
   "execution_count": null,
   "metadata": {},
   "outputs": [],
   "source": [
    "# Prepare dataloaders\n",
    "train_dataloader = torch.utils.data.DataLoader(mnist_train, batch_size=64, shuffle=True)\n",
    "test_dataloader  = torch.utils.data.DataLoader(mnist_test,  batch_size=64, shuffle=False)"
   ]
  },
  {
   "cell_type": "markdown",
   "metadata": {},
   "source": [
    "# Explore the data"
   ]
  },
  {
   "cell_type": "code",
   "execution_count": null,
   "metadata": {},
   "outputs": [],
   "source": [
    "# Get some random data\n",
    "next(iter(train_dataloader))"
   ]
  },
  {
   "cell_type": "code",
   "execution_count": null,
   "metadata": {},
   "outputs": [],
   "source": [
    "\"Dataset size\", len(mnist_train), len(mnist_test)"
   ]
  },
  {
   "cell_type": "code",
   "execution_count": null,
   "metadata": {},
   "outputs": [],
   "source": [
    "\"Shape of the samples\", next(iter(train_dataloader))[0].shape, next(iter(train_dataloader))[1].shape"
   ]
  },
  {
   "cell_type": "code",
   "execution_count": null,
   "metadata": {},
   "outputs": [],
   "source": [
    "# Plot\n",
    "def plot_tensor(tensor, label, yh=\"\"):\n",
    "    plt.imshow(tensor.detach().numpy(), cmap='Greys')\n",
    "    plt.title (\"{}:^{}\".format(label.item(),yh));\n",
    "    plt.tick_params(left= False, labelleft = False , labelbottom = False, bottom = False)\n",
    "    plt.show()\n",
    "    \n",
    "sample = next(iter(train_dataloader))\n",
    "plot_tensor(sample[0][0].squeeze(), sample[1][0].squeeze())"
   ]
  },
  {
   "cell_type": "code",
   "execution_count": null,
   "metadata": {},
   "outputs": [],
   "source": [
    "class NeuralNet(nn.Module):\n",
    "    def __init__(self):\n",
    "        super(NeuralNet, self).__init__()\n",
    "        self.flatten = nn.Flatten()\n",
    "        self.fc1     = nn.Linear(28 * 28, 128)\n",
    "        self.relu    = nn.ReLU()\n",
    "        self.dropout = nn.Dropout(0.2)\n",
    "        self.fc2     = nn.Linear(128, 10)\n",
    "        self.softmax = nn.Softmax(dim=1)\n",
    "\n",
    "    def forward(self, x):\n",
    "        x = self.flatten(x) # Flatten tensor\n",
    "        x = self.relu(self.fc1(x))\n",
    "        x = self.dropout(x)\n",
    "        x = self.softmax(self.fc2(x))\n",
    "        return x\n",
    "    \n",
    "# Set device\n",
    "device = torch.device(\"cuda\" if torch.cuda.is_available() else \"cpu\")\n",
    "\n",
    "# Create model\n",
    "model = NeuralNet().to(device)\n",
    "\n",
    "# Print summary\n",
    "summary(model, input_size=(1,28,28))"
   ]
  },
  {
   "cell_type": "code",
   "execution_count": null,
   "metadata": {},
   "outputs": [],
   "source": [
    "# Predict labels using model (untrained)\n",
    "predictions = model(sample[0][0].to(device)).cpu()\n",
    "predictions"
   ]
  },
  {
   "cell_type": "code",
   "execution_count": null,
   "metadata": {},
   "outputs": [],
   "source": [
    "# Plot prediction\n",
    "p1 = torch.argmax(predictions)\n",
    "\n",
    "plot_tensor(sample[0][0].squeeze(), sample[1][0].squeeze(),p1.item())"
   ]
  },
  {
   "cell_type": "markdown",
   "metadata": {
    "id": "ix4mEL65on-w"
   },
   "source": [
    "## Train and evaluate your model\n"
   ]
  },
  {
   "cell_type": "code",
   "execution_count": null,
   "metadata": {},
   "outputs": [],
   "source": [
    "# Optimizer and loss function\n",
    "optimizer = torch.optim.Adam(model.parameters(), lr=0.001)\n",
    "CEloos   = nn.CrossEntropyLoss()"
   ]
  },
  {
   "cell_type": "code",
   "execution_count": null,
   "metadata": {},
   "outputs": [],
   "source": [
    "# Fit the model\n",
    "num_epochs = 5\n",
    "\n",
    "# Iterate over #epochs\n",
    "for epoch in range(num_epochs):\n",
    "    # Keep track of network progress\n",
    "    train_loss    = 0.0\n",
    "    train_correct = 0\n",
    "    test_correct  = 0\n",
    "    \n",
    "    # Visit each data sample once (random)\n",
    "    for image, labels in train_dataloader: \n",
    "        # Compute model prediction and loss\n",
    "        pred_labels = model(image.to(device))\n",
    "        loss        = CEloos(pred_labels, labels.to(device))\n",
    "        \n",
    "        # Backpropagate\n",
    "        optimizer.zero_grad()\n",
    "        loss.backward()\n",
    "        optimizer.step()       \n",
    "        \n",
    "        # Add loss to history\n",
    "        train_loss    += loss.item()\n",
    "        # Count number of correct predictions \n",
    "        train_correct += (torch.argmax(pred_labels.cpu(), 1) == labels.cpu()).sum().item()\n",
    "    \n",
    "    # Test loop (once per epoch)\n",
    "    with torch.no_grad():\n",
    "        for images, labels in test_dataloader:\n",
    "            pred_labels = model(images.to(device))\n",
    "            test_correct += (torch.argmax(pred_labels.cpu(), 1) == labels.cpu()).sum().item()\n",
    "        \n",
    "    # Compute accuracy (train & test)\n",
    "    train_acc = train_correct / len(mnist_train)\n",
    "    test_acc  = test_correct  / len(mnist_test)\n",
    "    print('Epoch [{}/{}], Loss: {:.4f}, Train Acc: {:.2f}%, Test Acc: {:.2f}%'\n",
    "          .format(epoch, num_epochs, train_loss / len(mnist_train), 100 * train_acc, 100 * test_acc))"
   ]
  },
  {
   "cell_type": "code",
   "execution_count": null,
   "metadata": {},
   "outputs": [],
   "source": [
    "# Sample and plot\n",
    "samples = next(iter(test_dataloader))[0][:5]\n",
    "labels  = next(iter(test_dataloader))[1][:5]"
   ]
  },
  {
   "cell_type": "code",
   "execution_count": null,
   "metadata": {
    "execution": {
     "iopub.execute_input": "2023-01-05T02:22:46.423242Z",
     "iopub.status.busy": "2023-01-05T02:22:46.422957Z",
     "iopub.status.idle": "2023-01-05T02:22:46.433317Z",
     "shell.execute_reply": "2023-01-05T02:22:46.432428Z"
    },
    "id": "cnqOZtUp1YR_"
   },
   "outputs": [],
   "source": [
    "p = [torch.argmax(k) for k in model(samples.to(device))]\n",
    "for i, l in enumerate(p):\n",
    "    plt.figure(figsize=(1,1))\n",
    "    plot_tensor(samples[i].squeeze(), labels[i].squeeze(), p[i].item())\n",
    "    plt.show()\n"
   ]
  },
  {
   "cell_type": "markdown",
   "metadata": {
    "id": "-47O6_GLdRuT"
   },
   "source": [
    "## Conclusion\n",
    "\n",
    "Congratulations! on predicting minst data. You have successfully built a neural network to classify handwritten digits with Pytorch. You have achieved accuracy of 96%."
   ]
  },
  {
   "cell_type": "markdown",
   "metadata": {},
   "source": []
  }
 ],
 "metadata": {
  "colab": {
   "name": "beginner.ipynb",
   "toc_visible": true
  },
  "kernelspec": {
   "display_name": "Python 3 (ipykernel)",
   "language": "python",
   "name": "python3"
  },
  "language_info": {
   "codemirror_mode": {
    "name": "ipython",
    "version": 3
   },
   "file_extension": ".py",
   "mimetype": "text/x-python",
   "name": "python",
   "nbconvert_exporter": "python",
   "pygments_lexer": "ipython3",
   "version": "3.9.16"
  },
  "vscode": {
   "interpreter": {
    "hash": "dff0aaeeb8ee9738611fdcb903e0426fbcf38bc2d039ac205716a81cc1909598"
   }
  }
 },
 "nbformat": 4,
 "nbformat_minor": 1
}
