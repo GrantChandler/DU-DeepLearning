{
 "cells": [
  {
   "cell_type": "markdown",
   "id": "5a948d49",
   "metadata": {
    "id": "5a948d49"
   },
   "source": [
    "# Coding Exercise Part 1: Tensor Operations with NumPy and PyTorch"
   ]
  },
  {
   "cell_type": "markdown",
   "id": "8663059f",
   "metadata": {
    "id": "8663059f"
   },
   "source": [
    "### Objective:\n",
    "Familiarize yourself with tensor operations using both NumPy and PyTorch."
   ]
  },
  {
   "cell_type": "markdown",
   "id": "8d71f4a6",
   "metadata": {
    "id": "8d71f4a6"
   },
   "source": [
    "### 1. Creating 2D tensors/arrays with random numbers\n"
   ]
  },
  {
   "cell_type": "markdown",
   "id": "954fea8c",
   "metadata": {
    "id": "954fea8c"
   },
   "source": [
    "Using [NumPy](https://numpy.org/doc/stable/reference/generated/numpy.array.html):"
   ]
  },
  {
   "cell_type": "code",
   "execution_count": 2,
   "id": "1bf39c8b",
   "metadata": {
    "colab": {
     "base_uri": "https://localhost:8080/"
    },
    "id": "1bf39c8b",
    "outputId": "5e851677-60cd-4fbf-9047-91de159c0074"
   },
   "outputs": [
    {
     "output_type": "stream",
     "name": "stdout",
     "text": [
      "NumPy Array:\n",
      " [[0.4466631  0.21458155 0.07158866 0.7267139  0.54155705]\n",
      " [0.7106033  0.6125815  0.2744627  0.10870579 0.29506535]\n",
      " [0.75022029 0.99061484 0.26129498 0.39896143 0.74827092]\n",
      " [0.90481974 0.38617672 0.67879636 0.88651291 0.42355369]\n",
      " [0.6068795  0.0156771  0.98706262 0.84509481 0.63522379]]\n"
     ]
    }
   ],
   "source": [
    "import numpy as np\n",
    "\n",
    "# Create a 5x5 array with random numbers between 0 and 1\n",
    "numpy_array = np.random.rand(5, 5)\n",
    "print(\"NumPy Array:\\n\", numpy_array)"
   ]
  },
  {
   "cell_type": "markdown",
   "id": "be5ce67f",
   "metadata": {
    "id": "be5ce67f"
   },
   "source": [
    "Using [PyTorch](https://pytorch.org/docs/stable/tensors.html):"
   ]
  },
  {
   "cell_type": "code",
   "execution_count": 3,
   "id": "bd447043",
   "metadata": {
    "colab": {
     "base_uri": "https://localhost:8080/"
    },
    "id": "bd447043",
    "outputId": "814a4423-b6f7-466b-b442-c10e1b0e84d1"
   },
   "outputs": [
    {
     "output_type": "stream",
     "name": "stdout",
     "text": [
      "PyTorch Tensor:\n",
      " tensor([[0.2401, 0.1527, 0.0022, 0.3366, 0.4202],\n",
      "        [0.1553, 0.2129, 0.1247, 0.2903, 0.4715],\n",
      "        [0.1446, 0.6974, 0.5764, 0.2948, 0.0653],\n",
      "        [0.5875, 0.9470, 0.9328, 0.1660, 0.6329],\n",
      "        [0.8671, 0.0323, 0.8167, 0.7655, 0.2161]])\n"
     ]
    }
   ],
   "source": [
    "import torch\n",
    "\n",
    "# Create a 5x5 tensor with random numbers between 0 and 1\n",
    "pytorch_tensor = torch.rand(5, 5)\n",
    "print(\"PyTorch Tensor:\\n\", pytorch_tensor)"
   ]
  },
  {
   "cell_type": "markdown",
   "id": "11878bee",
   "metadata": {
    "id": "11878bee"
   },
   "source": [
    "### 2. Performing Tensor Operations\n"
   ]
  },
  {
   "cell_type": "markdown",
   "id": "049a3fae",
   "metadata": {
    "id": "049a3fae"
   },
   "source": [
    "a. Compute Mean and Standard Deviation"
   ]
  },
  {
   "cell_type": "code",
   "execution_count": 4,
   "id": "0c40f556",
   "metadata": {
    "colab": {
     "base_uri": "https://localhost:8080/"
    },
    "id": "0c40f556",
    "outputId": "ffe48bd0-cca3-4f54-b5f1-588cfcd17a80"
   },
   "outputs": [
    {
     "output_type": "stream",
     "name": "stdout",
     "text": [
      "NumPy Array - Mean: 0.5408673032707395, Standard Deviation: 0.28277197577736696\n",
      "PyTorch Tensor - Mean: 0.40596234798431396, Standard Deviation: 0.300406277179718\n"
     ]
    }
   ],
   "source": [
    "# NumPy\n",
    "numpy_mean = np.mean(numpy_array)\n",
    "numpy_std  = np.std(numpy_array)\n",
    "print(f\"NumPy Array - Mean: {numpy_mean}, Standard Deviation: {numpy_std}\")\n",
    "\n",
    "# PyTorch\n",
    "pytorch_mean = pytorch_tensor.mean().item()\n",
    "pytorch_std  = pytorch_tensor.std().item()\n",
    "print(f\"PyTorch Tensor - Mean: {pytorch_mean}, Standard Deviation: {pytorch_std}\")"
   ]
  },
  {
   "cell_type": "markdown",
   "id": "be49151f",
   "metadata": {
    "id": "be49151f"
   },
   "source": [
    "b. Element-wise Multiplication"
   ]
  },
  {
   "cell_type": "code",
   "execution_count": 5,
   "id": "7ef0fa68",
   "metadata": {
    "colab": {
     "base_uri": "https://localhost:8080/"
    },
    "id": "7ef0fa68",
    "outputId": "11c04897-bed5-4d1a-ff48-d73aea82929e"
   },
   "outputs": [
    {
     "output_type": "stream",
     "name": "stdout",
     "text": [
      "Element-wise Multiplication - NumPy:\n",
      " [[0.52134248 0.38077427 0.13436228 0.89613529 0.66297725]\n",
      " [1.3155759  0.84739285 0.50112151 0.14312373 0.48208978]\n",
      " [1.17098489 1.53275395 0.29759554 0.40280457 1.01629187]\n",
      " [1.78069681 0.57859823 1.11419182 1.0536357  0.476303  ]\n",
      " [1.12146236 0.03097094 1.64534836 1.08113631 0.90597663]]\n",
      "Element-wise Multiplication - PyTorch:\n",
      " tensor([[0.3031, 0.2737, 0.0031, 0.4583, 0.8288],\n",
      "        [0.2757, 0.4186, 0.2281, 0.5175, 0.7618],\n",
      "        [0.2743, 1.2666, 0.7642, 0.3756, 0.1129],\n",
      "        [0.6110, 1.0309, 1.1299, 0.2090, 1.0595],\n",
      "        [1.1099, 0.0380, 0.9694, 1.4973, 0.3481]])\n"
     ]
    }
   ],
   "source": [
    "# Create another 5x5 tensor/array with random numbers between 1 and 2\n",
    "numpy_array_2    = np.random.rand(5, 5) + 1\n",
    "pytorch_tensor_2 = torch.rand(5, 5) + 1\n",
    "\n",
    "# Element-wise multiplication\n",
    "numpy_product   = numpy_array * numpy_array_2\n",
    "pytorch_product = pytorch_tensor * pytorch_tensor_2\n",
    "\n",
    "print(\"Element-wise Multiplication - NumPy:\\n\", numpy_product)\n",
    "print(\"Element-wise Multiplication - PyTorch:\\n\", pytorch_product)"
   ]
  },
  {
   "cell_type": "markdown",
   "id": "84bb1558",
   "metadata": {
    "id": "84bb1558"
   },
   "source": [
    "c. [Matrix Multiplication](https://numpy.org/doc/stable/reference/generated/numpy.matmul.html) with its Transpose"
   ]
  },
  {
   "cell_type": "code",
   "execution_count": 6,
   "id": "c205ad28",
   "metadata": {
    "colab": {
     "base_uri": "https://localhost:8080/"
    },
    "id": "c205ad28",
    "outputId": "6328f425-5d50-4bc5-8a30-8a20bd46a561"
   },
   "outputs": [
    {
     "output_type": "stream",
     "name": "stdout",
     "text": [
      "Matrix Multiplication with Transpose - NumPy:\n",
      " [[3.46128186 3.3588942  3.40722322 2.46212486 2.58423522]\n",
      " [3.15110184 3.27881385 3.43504805 2.46658765 2.7866326 ]\n",
      " [5.28537457 5.18189301 5.41651724 3.92463381 4.40767437]\n",
      " [5.35791158 5.35507993 5.33758538 3.90503612 4.26157417]\n",
      " [5.11502888 5.1469512  4.73786686 3.58263131 3.96549431]]\n",
      "Matrix Multiplication with Transpose - PyTorch:\n",
      " tensor([[1.4664, 1.5953, 1.5230, 1.8477, 1.9644],\n",
      "        [1.7161, 1.7940, 1.6822, 2.0376, 2.1111],\n",
      "        [2.9046, 3.0753, 2.6759, 2.6733, 3.0064],\n",
      "        [5.1755, 5.5345, 4.7391, 5.1232, 5.5975],\n",
      "        [3.7744, 4.1886, 3.5327, 3.6655, 4.8030]])\n"
     ]
    }
   ],
   "source": [
    "# Matrix multiplication\n",
    "numpy_matmul   = np.dot(numpy_array, numpy_array_2)\n",
    "pytorch_matmul = torch.mm(pytorch_tensor, pytorch_tensor_2)\n",
    "\n",
    "print(\"Matrix Multiplication with Transpose - NumPy:\\n\", numpy_matmul)\n",
    "print(\"Matrix Multiplication with Transpose - PyTorch:\\n\", pytorch_matmul)"
   ]
  },
  {
   "cell_type": "markdown",
   "id": "24f6f7fa",
   "metadata": {
    "id": "24f6f7fa"
   },
   "source": [
    "d. Sum of All Elements"
   ]
  },
  {
   "cell_type": "code",
   "execution_count": 7,
   "id": "c568d49c",
   "metadata": {
    "colab": {
     "base_uri": "https://localhost:8080/"
    },
    "id": "c568d49c",
    "outputId": "43252681-1bfa-486d-88b5-826f7fc07606"
   },
   "outputs": [
    {
     "output_type": "stream",
     "name": "stdout",
     "text": [
      "Sum of all elements - NumPy: [[1.61385708 1.98907834 1.94845397 1.95984744 1.7657628 ]\n",
      " [2.56195397 1.99589597 2.1002901  1.42532124 1.92890603]\n",
      " [2.31107503 2.53789022 1.40022056 1.40859429 2.10645796]\n",
      " [2.87283251 1.88444991 2.32021917 2.07502995 1.54809352]\n",
      " [2.45479553 1.99123051 2.65397648 2.12440252 2.061456  ]]\n",
      "Sum of all elements - PyTorch: tensor([[1.5024, 1.9451, 1.3942, 1.6981, 2.3927],\n",
      "        [1.9308, 2.1795, 1.9541, 2.0727, 2.0872],\n",
      "        [2.0419, 2.5136, 1.9021, 1.5689, 1.7928],\n",
      "        [1.6276, 2.0356, 2.1441, 1.4252, 2.3069],\n",
      "        [2.1471, 1.2084, 2.0036, 2.7215, 1.8268]])\n"
     ]
    }
   ],
   "source": [
    "# Sum of all elements\n",
    "numpy_sum   = numpy_array + numpy_array_2\n",
    "pytorch_sum = pytorch_tensor + pytorch_tensor_2\n",
    "\n",
    "print(f\"Sum of all elements - NumPy: {numpy_sum}\")\n",
    "print(f\"Sum of all elements - PyTorch: {pytorch_sum}\")"
   ]
  },
  {
   "cell_type": "markdown",
   "id": "4e527f62",
   "metadata": {
    "id": "4e527f62"
   },
   "source": [
    "### 3. Conversion between PyTorch and NumPy"
   ]
  },
  {
   "cell_type": "code",
   "execution_count": 8,
   "id": "396fe951",
   "metadata": {
    "colab": {
     "base_uri": "https://localhost:8080/"
    },
    "id": "396fe951",
    "outputId": "51abbcc0-ed3a-4b1f-a963-49c1a47d2956"
   },
   "outputs": [
    {
     "output_type": "stream",
     "name": "stdout",
     "text": [
      "Converted PyTorch Tensor to NumPy:\n",
      " [[0.24012446 0.15271187 0.00220793 0.33661032 0.42017406]\n",
      " [0.15529287 0.21285236 0.12470305 0.29033828 0.47151047]\n",
      " [0.14458877 0.6974337  0.5763855  0.2948122  0.06532812]\n",
      " [0.587477   0.9469959  0.93276894 0.16601235 0.63292384]\n",
      " [0.86714154 0.03231543 0.81672186 0.7654837  0.21614325]]\n",
      "Converted NumPy Array to PyTorch Tensor:\n",
      " tensor([[0.4467, 0.2146, 0.0716, 0.7267, 0.5416],\n",
      "        [0.7106, 0.6126, 0.2745, 0.1087, 0.2951],\n",
      "        [0.7502, 0.9906, 0.2613, 0.3990, 0.7483],\n",
      "        [0.9048, 0.3862, 0.6788, 0.8865, 0.4236],\n",
      "        [0.6069, 0.0157, 0.9871, 0.8451, 0.6352]], dtype=torch.float64)\n"
     ]
    }
   ],
   "source": [
    "# Convert PyTorch tensor to NumPy array\n",
    "converted_to_numpy = pytorch_tensor.numpy()\n",
    "print(\"Converted PyTorch Tensor to NumPy:\\n\", converted_to_numpy)\n",
    "\n",
    "# Convert NumPy array to PyTorch tensor\n",
    "converted_to_pytorch = torch.from_numpy(numpy_array)\n",
    "print(\"Converted NumPy Array to PyTorch Tensor:\\n\", converted_to_pytorch)"
   ]
  },
  {
   "cell_type": "markdown",
   "id": "a1f15b9d",
   "metadata": {
    "id": "a1f15b9d"
   },
   "source": [
    "### 4. Reshaping and Slicing Tensors\n"
   ]
  },
  {
   "cell_type": "markdown",
   "id": "cdc87373",
   "metadata": {
    "id": "cdc87373"
   },
   "source": [
    "a. Create a tensor of shape (10, 2) filled with random numbers.\n",
    "Reshape it to (5, 4) and (2, 10)."
   ]
  },
  {
   "cell_type": "markdown",
   "id": "cd4efe15",
   "metadata": {
    "id": "cd4efe15"
   },
   "source": [
    "Using [NumPy](https://numpy.org/doc/stable/reference/generated/numpy.reshape.html):"
   ]
  },
  {
   "cell_type": "code",
   "execution_count": 11,
   "id": "42829836",
   "metadata": {
    "colab": {
     "base_uri": "https://localhost:8080/"
    },
    "id": "42829836",
    "outputId": "777738a0-dc35-47b3-9e2f-b8537aac1ccd"
   },
   "outputs": [
    {
     "output_type": "stream",
     "name": "stdout",
     "text": [
      "Original NumPy Tensor:\n",
      " [[0.5990149  0.02065641]\n",
      " [0.05746855 0.96515939]\n",
      " [0.41105287 0.95534216]\n",
      " [0.27066716 0.5730307 ]\n",
      " [0.87588652 0.23250385]\n",
      " [0.80727364 0.01953224]\n",
      " [0.04564169 0.86544295]\n",
      " [0.22513414 0.63572217]\n",
      " [0.35842781 0.70647822]\n",
      " [0.92249371 0.72489811]]\n",
      "\n",
      "Reshaped to (5, 4):\n",
      " [[0.5990149  0.02065641 0.05746855 0.96515939]\n",
      " [0.41105287 0.95534216 0.27066716 0.5730307 ]\n",
      " [0.87588652 0.23250385 0.80727364 0.01953224]\n",
      " [0.04564169 0.86544295 0.22513414 0.63572217]\n",
      " [0.35842781 0.70647822 0.92249371 0.72489811]]\n",
      "\n",
      "Reshaped to (2, 10):\n",
      " [[0.5990149  0.02065641 0.05746855 0.96515939 0.41105287 0.95534216\n",
      "  0.27066716 0.5730307  0.87588652 0.23250385]\n",
      " [0.80727364 0.01953224 0.04564169 0.86544295 0.22513414 0.63572217\n",
      "  0.35842781 0.70647822 0.92249371 0.72489811]]\n"
     ]
    }
   ],
   "source": [
    "# Reshaping\n",
    "numpy_tensor = np.random.rand(10, 2)\n",
    "print(\"Original NumPy Tensor:\\n\", numpy_tensor)\n",
    "\n",
    "reshaped_5_4 = numpy_tensor.reshape(5, 4)\n",
    "print(\"\\nReshaped to (5, 4):\\n\", reshaped_5_4)\n",
    "\n",
    "reshaped_2_10 = numpy_tensor.reshape(2, 10)\n",
    "print(\"\\nReshaped to (2, 10):\\n\", reshaped_2_10)"
   ]
  },
  {
   "cell_type": "markdown",
   "id": "6fb9a1d7",
   "metadata": {
    "id": "6fb9a1d7"
   },
   "source": [
    "Using [PyTorch](https://pytorch.org/docs/stable/generated/torch.Tensor.view.html):"
   ]
  },
  {
   "cell_type": "code",
   "execution_count": 12,
   "id": "d5ba3155",
   "metadata": {
    "colab": {
     "base_uri": "https://localhost:8080/"
    },
    "id": "d5ba3155",
    "outputId": "d839cb96-cfbe-47c1-a8cf-5016c949165c"
   },
   "outputs": [
    {
     "output_type": "stream",
     "name": "stdout",
     "text": [
      "Original PyTorch Tensor:\n",
      " tensor([[0.6204, 0.2132],\n",
      "        [0.9560, 0.0201],\n",
      "        [0.4692, 0.9232],\n",
      "        [0.1912, 0.7744],\n",
      "        [0.7445, 0.7390],\n",
      "        [0.6327, 0.9745],\n",
      "        [0.6382, 0.4700],\n",
      "        [0.1661, 0.3009],\n",
      "        [0.1651, 0.1832],\n",
      "        [0.3964, 0.2347]])\n",
      "\n",
      "Reshaped to (5, 4):\n",
      " tensor([[0.6204, 0.2132, 0.9560, 0.0201],\n",
      "        [0.4692, 0.9232, 0.1912, 0.7744],\n",
      "        [0.7445, 0.7390, 0.6327, 0.9745],\n",
      "        [0.6382, 0.4700, 0.1661, 0.3009],\n",
      "        [0.1651, 0.1832, 0.3964, 0.2347]])\n",
      "\n",
      "Reshaped to (2, 10):\n",
      " tensor([[0.6204, 0.2132, 0.9560, 0.0201, 0.4692, 0.9232, 0.1912, 0.7744, 0.7445,\n",
      "         0.7390],\n",
      "        [0.6327, 0.9745, 0.6382, 0.4700, 0.1661, 0.3009, 0.1651, 0.1832, 0.3964,\n",
      "         0.2347]])\n"
     ]
    }
   ],
   "source": [
    "# Reshaping\n",
    "pytorch_tensor = torch.rand(10, 2)\n",
    "print(\"Original PyTorch Tensor:\\n\", pytorch_tensor)\n",
    "\n",
    "reshaped_5_4 = pytorch_tensor.view(5, 4)\n",
    "print(\"\\nReshaped to (5, 4):\\n\", reshaped_5_4)\n",
    "\n",
    "reshaped_2_10 = pytorch_tensor.view(2, 10)\n",
    "print(\"\\nReshaped to (2, 10):\\n\", reshaped_2_10)"
   ]
  },
  {
   "cell_type": "markdown",
   "id": "5688c21b",
   "metadata": {
    "id": "5688c21b"
   },
   "source": [
    "b. From the original tensor, extract the first 5 rows. Extract the second column."
   ]
  },
  {
   "cell_type": "markdown",
   "id": "f34d904d",
   "metadata": {
    "id": "f34d904d"
   },
   "source": [
    "Using NumPy:"
   ]
  },
  {
   "cell_type": "code",
   "execution_count": 15,
   "id": "c48bd1f4",
   "metadata": {
    "colab": {
     "base_uri": "https://localhost:8080/"
    },
    "id": "c48bd1f4",
    "outputId": "5f5db75d-b98f-4c48-a398-1244e8dd1983"
   },
   "outputs": [
    {
     "output_type": "stream",
     "name": "stdout",
     "text": [
      "\n",
      "First 5 rows:\n",
      " [[0.5990149  0.02065641]\n",
      " [0.05746855 0.96515939]\n",
      " [0.41105287 0.95534216]\n",
      " [0.27066716 0.5730307 ]\n",
      " [0.87588652 0.23250385]]\n",
      "\n",
      "Second column:\n",
      " [0.02065641 0.96515939 0.95534216 0.5730307  0.23250385 0.01953224\n",
      " 0.86544295 0.63572217 0.70647822 0.72489811]\n"
     ]
    }
   ],
   "source": [
    "# Slicing\n",
    "first_5_rows = numpy_tensor[:5, :]\n",
    "print(\"\\nFirst 5 rows:\\n\", first_5_rows)\n",
    "\n",
    "second_column = numpy_tensor[:, 1]\n",
    "print(\"\\nSecond column:\\n\", second_column)"
   ]
  },
  {
   "cell_type": "markdown",
   "id": "f9917e62",
   "metadata": {
    "id": "f9917e62"
   },
   "source": [
    "Using PyTorch:"
   ]
  },
  {
   "cell_type": "code",
   "execution_count": 18,
   "id": "6021bee2",
   "metadata": {
    "colab": {
     "base_uri": "https://localhost:8080/"
    },
    "id": "6021bee2",
    "outputId": "46aa6e18-93ae-47c8-9141-49835c3492a0"
   },
   "outputs": [
    {
     "output_type": "stream",
     "name": "stdout",
     "text": [
      "\n",
      "First 5 rows:\n",
      " tensor([[0.6204, 0.2132],\n",
      "        [0.9560, 0.0201],\n",
      "        [0.4692, 0.9232],\n",
      "        [0.1912, 0.7744],\n",
      "        [0.7445, 0.7390]])\n",
      "\n",
      "Second column:\n",
      " tensor([0.2132, 0.0201, 0.9232, 0.7744, 0.7390, 0.9745, 0.4700, 0.3009, 0.1832,\n",
      "        0.2347])\n"
     ]
    }
   ],
   "source": [
    "# Slicing\n",
    "first_5_rows = pytorch_tensor[:5, :]\n",
    "print(\"\\nFirst 5 rows:\\n\", first_5_rows)\n",
    "\n",
    "second_column = pytorch_tensor[:, 1]\n",
    "print(\"\\nSecond column:\\n\", second_column)"
   ]
  },
  {
   "cell_type": "markdown",
   "id": "8757815c",
   "metadata": {
    "id": "8757815c"
   },
   "source": [
    "### 5. Broadcasting and Reduction Operations"
   ]
  },
  {
   "cell_type": "markdown",
   "id": "75016674",
   "metadata": {
    "id": "75016674"
   },
   "source": [
    "a. Broadcasting. Create a tensor A of shape (5, 1) and another tensor B of shape (1, 5). Perform element-wise addition between A and B."
   ]
  },
  {
   "cell_type": "markdown",
   "id": "8707cbcb",
   "metadata": {
    "id": "8707cbcb"
   },
   "source": [
    "Using NumPy:"
   ]
  },
  {
   "cell_type": "code",
   "execution_count": 19,
   "id": "a0f301b3",
   "metadata": {
    "colab": {
     "base_uri": "https://localhost:8080/"
    },
    "id": "a0f301b3",
    "outputId": "fb7e6524-972a-4421-b2be-b0ee1b21b309"
   },
   "outputs": [
    {
     "output_type": "stream",
     "name": "stdout",
     "text": [
      "Broadcasted Sum:\n",
      " [[1.07378261 0.69110379 0.99266905 1.03435406 1.33353102]\n",
      " [0.55215698 0.16947817 0.47104343 0.51272844 0.81190539]\n",
      " [1.01116757 0.62848876 0.93005402 0.97173903 1.27091598]\n",
      " [1.33770605 0.95502724 1.2565925  1.29827751 1.59745446]\n",
      " [0.69915558 0.31647676 0.61804202 0.65972704 0.95890399]]\n"
     ]
    }
   ],
   "source": [
    "# Broadcasting\n",
    "A = np.random.rand(5, 1)\n",
    "B = np.random.rand(1, 5)\n",
    "broadcasted_sum = A + B\n",
    "print(\"Broadcasted Sum:\\n\", broadcasted_sum)"
   ]
  },
  {
   "cell_type": "markdown",
   "id": "5015e2c7",
   "metadata": {
    "id": "5015e2c7"
   },
   "source": [
    "Using PyTorch:"
   ]
  },
  {
   "cell_type": "code",
   "execution_count": 20,
   "id": "bbc5abf9",
   "metadata": {
    "colab": {
     "base_uri": "https://localhost:8080/"
    },
    "id": "bbc5abf9",
    "outputId": "2be0d1a5-22f9-4e68-bc91-d99c2f987bd8"
   },
   "outputs": [
    {
     "output_type": "stream",
     "name": "stdout",
     "text": [
      "Broadcasted Sum:\n",
      " tensor([[0.2509, 0.5113, 0.9740, 0.2634, 0.3368],\n",
      "        [0.7782, 1.0385, 1.5013, 0.7907, 0.8641],\n",
      "        [0.8416, 1.1019, 1.5647, 0.8540, 0.9274],\n",
      "        [0.9861, 1.2465, 1.7092, 0.9986, 1.0720],\n",
      "        [0.5744, 0.8348, 1.2975, 0.5869, 0.6603]])\n"
     ]
    }
   ],
   "source": [
    "# Broadcasting\n",
    "A = torch.rand(5, 1)\n",
    "B = torch.rand(1, 5)\n",
    "broadcasted_sum = A + B\n",
    "print(\"Broadcasted Sum:\\n\", broadcasted_sum)"
   ]
  },
  {
   "cell_type": "markdown",
   "id": "f01de53c",
   "metadata": {
    "id": "f01de53c"
   },
   "source": [
    "b. Reduction Operations. Compute the sum, mean, and max of a tensor along a specific dimension."
   ]
  },
  {
   "cell_type": "markdown",
   "id": "c9678030",
   "metadata": {
    "id": "c9678030"
   },
   "source": [
    "Using NumPy:"
   ]
  },
  {
   "cell_type": "code",
   "execution_count": 21,
   "id": "46e3c8b8",
   "metadata": {
    "colab": {
     "base_uri": "https://localhost:8080/"
    },
    "id": "46e3c8b8",
    "outputId": "2445e3bc-52d2-4e04-87c9-77b88b730e47"
   },
   "outputs": [
    {
     "output_type": "stream",
     "name": "stdout",
     "text": [
      "\n",
      "Sum along dimension 0:\n",
      " [3.01994437 3.39438573 2.88769912 2.86747861 2.72489477]\n",
      "\n",
      "Mean along dimension 1:\n",
      " [0.46836046 0.8290167  0.53972162 0.65612133 0.48566041]\n",
      "\n",
      "Max value in the tensor: 0.9614882047474075\n"
     ]
    }
   ],
   "source": [
    "# Reduction Operations\n",
    "tensor          = np.random.rand(5, 5)\n",
    "sum_along_dim0  = np.sum(tensor, axis=0)\n",
    "mean_along_dim1 = np.mean(tensor, axis=1)\n",
    "max_value       = np.max(tensor)\n",
    "\n",
    "print(\"\\nSum along dimension 0:\\n\", sum_along_dim0)\n",
    "print(\"\\nMean along dimension 1:\\n\", mean_along_dim1)\n",
    "print(\"\\nMax value in the tensor:\", max_value)"
   ]
  },
  {
   "cell_type": "markdown",
   "id": "2799f83c",
   "metadata": {
    "id": "2799f83c"
   },
   "source": [
    "Using PyTorch:"
   ]
  },
  {
   "cell_type": "code",
   "execution_count": 22,
   "id": "aaea09af",
   "metadata": {
    "colab": {
     "base_uri": "https://localhost:8080/"
    },
    "id": "aaea09af",
    "outputId": "1a4716b5-dc6f-4a38-b8b7-161cb3fcfbc2"
   },
   "outputs": [
    {
     "output_type": "stream",
     "name": "stdout",
     "text": [
      "\n",
      "Sum along dimension 0:\n",
      " tensor([1.6873, 2.7115, 3.3427, 1.5592, 3.0849])\n",
      "\n",
      "Mean along dimension 1:\n",
      " tensor([0.5304, 0.6338, 0.5354, 0.4992, 0.2784])\n",
      "\n",
      "Max value in the tensor: tensor(0.9256)\n"
     ]
    }
   ],
   "source": [
    "# Reduction Operations\n",
    "tensor          = torch.rand(5, 5)\n",
    "sum_along_dim0  = torch.sum(tensor, dim=0)\n",
    "mean_along_dim1 = torch.mean(tensor, dim=1)\n",
    "max_value       = torch.max(tensor)\n",
    "\n",
    "print(\"\\nSum along dimension 0:\\n\", sum_along_dim0)\n",
    "print(\"\\nMean along dimension 1:\\n\", mean_along_dim1)\n",
    "print(\"\\nMax value in the tensor:\", max_value)"
   ]
  },
  {
   "cell_type": "markdown",
   "id": "e359e0c4",
   "metadata": {
    "id": "e359e0c4"
   },
   "source": [
    "### 6. Tensor Concatenation and Stacking"
   ]
  },
  {
   "cell_type": "markdown",
   "id": "7e15a246",
   "metadata": {
    "id": "7e15a246"
   },
   "source": [
    "a. Create three tensors of shape (3, 3) filled with random numbers. [Concatenate](https://numpy.org/doc/stable/reference/generated/numpy.concatenate.html) them along the first dimension. [Stack](https://numpy.org/doc/stable/reference/generated/numpy.stack.html) them along a new dimension.\n"
   ]
  },
  {
   "cell_type": "markdown",
   "id": "13f2e393",
   "metadata": {
    "id": "13f2e393"
   },
   "source": [
    "Using NumPy:"
   ]
  },
  {
   "cell_type": "code",
   "execution_count": 23,
   "id": "5a8bb3ff",
   "metadata": {
    "colab": {
     "base_uri": "https://localhost:8080/"
    },
    "id": "5a8bb3ff",
    "outputId": "907a8717-c32f-4b60-fe02-7b1a0b8eda59"
   },
   "outputs": [
    {
     "output_type": "stream",
     "name": "stdout",
     "text": [
      "Concatenated Tensors:\n",
      " [[0.70224898 0.90632779 0.76978965]\n",
      " [0.7265095  0.71790383 0.07782161]\n",
      " [0.19109754 0.96900444 0.85019917]\n",
      " [0.19929108 0.51961808 0.60969108]\n",
      " [0.66769539 0.14507379 0.45022004]\n",
      " [0.27141198 0.22386212 0.62270215]\n",
      " [0.77516034 0.94567004 0.26269446]\n",
      " [0.05316814 0.39754405 0.99942927]\n",
      " [0.67171768 0.22569191 0.76448642]]\n",
      "\n",
      "Stacked Tensors:\n",
      " [[[0.70224898 0.19929108 0.77516034]\n",
      "  [0.90632779 0.51961808 0.94567004]\n",
      "  [0.76978965 0.60969108 0.26269446]]\n",
      "\n",
      " [[0.7265095  0.66769539 0.05316814]\n",
      "  [0.71790383 0.14507379 0.39754405]\n",
      "  [0.07782161 0.45022004 0.99942927]]\n",
      "\n",
      " [[0.19109754 0.27141198 0.67171768]\n",
      "  [0.96900444 0.22386212 0.22569191]\n",
      "  [0.85019917 0.62270215 0.76448642]]]\n"
     ]
    }
   ],
   "source": [
    "tensor1 = np.random.rand(3, 3)\n",
    "tensor2 = np.random.rand(3, 3)\n",
    "tensor3 = np.random.rand(3, 3)\n",
    "\n",
    "# Concatenation\n",
    "concatenated = np.concatenate((tensor1, tensor2, tensor3), axis=0)\n",
    "print(\"Concatenated Tensors:\\n\", concatenated)\n",
    "\n",
    "# Stacking\n",
    "stacked = np.stack((tensor1, tensor2, tensor3), axis=2)\n",
    "print(\"\\nStacked Tensors:\\n\", stacked)"
   ]
  },
  {
   "cell_type": "markdown",
   "id": "fd0a74eb",
   "metadata": {
    "id": "fd0a74eb"
   },
   "source": [
    "Using PyTorch:"
   ]
  },
  {
   "cell_type": "code",
   "execution_count": 24,
   "id": "8650251a",
   "metadata": {
    "colab": {
     "base_uri": "https://localhost:8080/"
    },
    "id": "8650251a",
    "outputId": "19e7bcf7-681f-4a23-d9ba-53d5b8041694"
   },
   "outputs": [
    {
     "output_type": "stream",
     "name": "stdout",
     "text": [
      "Concatenated Tensors:\n",
      " tensor([[0.1056, 0.5660, 0.0933],\n",
      "        [0.4575, 0.7437, 0.7362],\n",
      "        [0.5468, 0.4150, 0.0969],\n",
      "        [0.0526, 0.5789, 0.8652],\n",
      "        [0.4909, 0.0866, 0.1194],\n",
      "        [0.0819, 0.8801, 0.5635],\n",
      "        [0.4132, 0.5279, 0.1596],\n",
      "        [0.7536, 0.1976, 0.7938],\n",
      "        [0.5710, 0.0990, 0.8544]])\n",
      "\n",
      "Stacked Tensors:\n",
      " tensor([[[0.1056, 0.0526, 0.4132],\n",
      "         [0.5660, 0.5789, 0.5279],\n",
      "         [0.0933, 0.8652, 0.1596]],\n",
      "\n",
      "        [[0.4575, 0.4909, 0.7536],\n",
      "         [0.7437, 0.0866, 0.1976],\n",
      "         [0.7362, 0.1194, 0.7938]],\n",
      "\n",
      "        [[0.5468, 0.0819, 0.5710],\n",
      "         [0.4150, 0.8801, 0.0990],\n",
      "         [0.0969, 0.5635, 0.8544]]])\n"
     ]
    }
   ],
   "source": [
    "tensor1 = torch.rand(3, 3)\n",
    "tensor2 = torch.rand(3, 3)\n",
    "tensor3 = torch.rand(3, 3)\n",
    "\n",
    "# Concatenation\n",
    "concatenated = torch.cat((tensor1, tensor2, tensor3), dim=0)\n",
    "print(\"Concatenated Tensors:\\n\", concatenated)\n",
    "\n",
    "# Stacking\n",
    "stacked = torch.stack((tensor1, tensor2, tensor3), dim=2)\n",
    "print(\"\\nStacked Tensors:\\n\", stacked)"
   ]
  },
  {
   "cell_type": "code",
   "source": [],
   "metadata": {
    "id": "MvCJnRS51rX6"
   },
   "id": "MvCJnRS51rX6",
   "execution_count": null,
   "outputs": []
  }
 ],
 "metadata": {
  "kernelspec": {
   "display_name": "Python 3 (ipykernel)",
   "language": "python",
   "name": "python3"
  },
  "language_info": {
   "codemirror_mode": {
    "name": "ipython",
    "version": 3
   },
   "file_extension": ".py",
   "mimetype": "text/x-python",
   "name": "python",
   "nbconvert_exporter": "python",
   "pygments_lexer": "ipython3",
   "version": "3.9.16"
  },
  "colab": {
   "provenance": []
  }
 },
 "nbformat": 4,
 "nbformat_minor": 5
}